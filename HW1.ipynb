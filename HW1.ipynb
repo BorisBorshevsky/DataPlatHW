{
 "cells": [
  {
   "cell_type": "markdown",
   "metadata": {
    "id": "QcxOIdPuj4zS"
   },
   "source": [
    "# Cassandra University application"
   ]
  },
  {
   "cell_type": "markdown",
   "metadata": {
    "id": "qr7oPwN2kp01"
   },
   "source": [
    "##Step 1: Setup Cassandra Cluster on Docker"
   ]
  },
  {
   "cell_type": "markdown",
   "metadata": {
    "id": "2RtlqrV1ktnv"
   },
   "source": [
    "We will install Cassandra on Docker; we will have a full description on Containers and Dockers later in the course."
   ]
  },
  {
   "cell_type": "markdown",
   "metadata": {
    "id": "KTMrqGmDkw3b"
   },
   "source": [
    "Make sure Docker Desktop is installed. If not, download and install Docker from the official website [Get Docker | Docker Docs](https://docs.docker.com/get-docker/)."
   ]
  },
  {
   "cell_type": "code",
   "execution_count": null,
   "metadata": {
    "id": "pO-YspA_krOI"
   },
   "outputs": [],
   "source": [
    "# On the first CMD:\n",
    "# Pull the Cassandra Docker Image:\n",
    "docker pull cassandra:latest"
   ]
  },
  {
   "cell_type": "code",
   "execution_count": null,
   "metadata": {
    "id": "7aeWH3EDk-Wc"
   },
   "outputs": [],
   "source": [
    "# Start the first Cassandra node (Seed Node):\n",
    "docker run --name cass_cluster cassandra:latest"
   ]
  },
  {
   "cell_type": "code",
   "execution_count": null,
   "metadata": {
    "id": "GZ2NU0LWlRT5"
   },
   "outputs": [],
   "source": [
    "# Once the cluster is running, open a new cmd and run the command:\n",
    "docker exec -it cass_cluster cqlsh\n",
    "# You can interact now with the cluster using CQL."
   ]
  },
  {
   "cell_type": "code",
   "execution_count": null,
   "metadata": {
    "id": "mRkxhAy2lQVg"
   },
   "outputs": [],
   "source": [
    "# install cassandra driver\n",
    "pip3 install cassandra-driver"
   ]
  },
  {
   "cell_type": "markdown",
   "metadata": {
    "id": "uvV_bF1Elk9I"
   },
   "source": [
    "##Step 2: Create University Keyspace"
   ]
  },
  {
   "cell_type": "code",
   "execution_count": 2,
   "metadata": {},
   "outputs": [],
   "source": [
    "from cassandra.cluster import Cluster\n",
    "from cassandra.query import SimpleStatement, BatchStatement\n",
    "\n",
    "import csv\n",
    "import concurrent.futures\n"
   ]
  },
  {
   "cell_type": "code",
   "execution_count": 14,
   "metadata": {},
   "outputs": [],
   "source": [
    "cluster = Cluster(contact_points=['127.0.0.1'])\n",
    "session = cluster.connect()"
   ]
  },
  {
   "cell_type": "code",
   "execution_count": 17,
   "metadata": {},
   "outputs": [
    {
     "data": {
      "text/plain": [
       "<cassandra.cluster.ResultSet at 0x1138bcd50>"
      ]
     },
     "execution_count": 17,
     "metadata": {},
     "output_type": "execute_result"
    }
   ],
   "source": [
    "session.execute(\"CREATE KEYSPACE IF NOT EXISTS books WITH REPLICATION = { 'class' : 'SimpleStrategy', 'replication_factor' : 1 };\")\n",
    "session.execute(\"USE books\")"
   ]
  },
  {
   "cell_type": "code",
   "execution_count": 18,
   "metadata": {},
   "outputs": [
    {
     "name": "stdout",
     "output_type": "stream",
     "text": [
      "Row(keyspace_name='books', type='keyspace', name='books')\n",
      "Row(keyspace_name='system', type='keyspace', name='system')\n",
      "Row(keyspace_name='system_auth', type='keyspace', name='system_auth')\n",
      "Row(keyspace_name='system_distributed', type='keyspace', name='system_distributed')\n",
      "Row(keyspace_name='system_schema', type='keyspace', name='system_schema')\n",
      "Row(keyspace_name='system_traces', type='keyspace', name='system_traces')\n",
      "Row(keyspace_name='system_views', type='keyspace', name='system_views')\n",
      "Row(keyspace_name='system_virtual_schema', type='keyspace', name='system_virtual_schema')\n",
      "Row(keyspace_name='test', type='keyspace', name='test')\n"
     ]
    }
   ],
   "source": [
    "keys_spaces = session.execute(\"DESCRIBE keyspaces;\")\n",
    "for ks in keys_spaces:\n",
    "    print(ks)"
   ]
  },
  {
   "cell_type": "code",
   "execution_count": null,
   "metadata": {},
   "outputs": [],
   "source": [
    "# import books"
   ]
  },
  {
   "cell_type": "code",
   "execution_count": 20,
   "metadata": {},
   "outputs": [
    {
     "data": {
      "text/plain": [
       "<cassandra.cluster.ResultSet at 0x1138bf910>"
      ]
     },
     "execution_count": 20,
     "metadata": {},
     "output_type": "execute_result"
    }
   ],
   "source": [
    "session.execute(\"\"\"\n",
    "    CREATE TABLE IF NOT EXISTS books (\n",
    "        ISBN text PRIMARY KEY,\n",
    "        Book_Title text,\n",
    "        Book_Author text,\n",
    "        Year_Of_Publication int,\n",
    "        Publisher text,\n",
    "        Image_URL_S text,\n",
    "        Image_URL_M text,\n",
    "        Image_URL_L text\n",
    "    )\n",
    "\"\"\")"
   ]
  },
  {
   "cell_type": "code",
   "execution_count": 22,
   "metadata": {},
   "outputs": [
    {
     "ename": "KeyboardInterrupt",
     "evalue": "",
     "output_type": "error",
     "traceback": [
      "\u001b[0;31m---------------------------------------------------------------------------\u001b[0m",
      "\u001b[0;31mKeyboardInterrupt\u001b[0m                         Traceback (most recent call last)",
      "Cell \u001b[0;32mIn[22], line 7\u001b[0m\n\u001b[1;32m      5\u001b[0m reader \u001b[38;5;241m=\u001b[39m csv\u001b[38;5;241m.\u001b[39mreader(f)\n\u001b[1;32m      6\u001b[0m \u001b[38;5;28;01mfor\u001b[39;00m row \u001b[38;5;129;01min\u001b[39;00m reader:\n\u001b[0;32m----> 7\u001b[0m     \u001b[43msession\u001b[49m\u001b[38;5;241;43m.\u001b[39;49m\u001b[43mexecute\u001b[49m\u001b[43m(\u001b[49m\n\u001b[1;32m      8\u001b[0m \u001b[38;5;250;43m        \u001b[39;49m\u001b[38;5;124;43;03m\"\"\"\u001b[39;49;00m\n\u001b[1;32m      9\u001b[0m \u001b[38;5;124;43;03m        INSERT INTO books (ISBN, Book_Title, Book_Author, Year_Of_Publication, Publisher, Image_URL_S, Image_URL_M, Image_URL_L)\u001b[39;49;00m\n\u001b[1;32m     10\u001b[0m \u001b[38;5;124;43;03m        VALUES (%s, %s, %s, %s, %s, %s, %s, %s)\u001b[39;49;00m\n\u001b[1;32m     11\u001b[0m \u001b[38;5;124;43;03m        \"\"\"\u001b[39;49;00m\u001b[43m,\u001b[49m\n\u001b[1;32m     12\u001b[0m \u001b[43m        \u001b[49m\u001b[43m(\u001b[49m\u001b[43mrow\u001b[49m\u001b[43m[\u001b[49m\u001b[38;5;241;43m0\u001b[39;49m\u001b[43m]\u001b[49m\u001b[43m,\u001b[49m\u001b[43m \u001b[49m\u001b[43mrow\u001b[49m\u001b[43m[\u001b[49m\u001b[38;5;241;43m1\u001b[39;49m\u001b[43m]\u001b[49m\u001b[43m,\u001b[49m\u001b[43m \u001b[49m\u001b[43mrow\u001b[49m\u001b[43m[\u001b[49m\u001b[38;5;241;43m2\u001b[39;49m\u001b[43m]\u001b[49m\u001b[43m,\u001b[49m\u001b[43m \u001b[49m\u001b[38;5;28;43mint\u001b[39;49m\u001b[43m(\u001b[49m\u001b[43mrow\u001b[49m\u001b[43m[\u001b[49m\u001b[38;5;241;43m3\u001b[39;49m\u001b[43m]\u001b[49m\u001b[43m)\u001b[49m\u001b[43m,\u001b[49m\u001b[43m \u001b[49m\u001b[43mrow\u001b[49m\u001b[43m[\u001b[49m\u001b[38;5;241;43m4\u001b[39;49m\u001b[43m]\u001b[49m\u001b[43m,\u001b[49m\u001b[43m \u001b[49m\u001b[43mrow\u001b[49m\u001b[43m[\u001b[49m\u001b[38;5;241;43m5\u001b[39;49m\u001b[43m]\u001b[49m\u001b[43m,\u001b[49m\u001b[43m \u001b[49m\u001b[43mrow\u001b[49m\u001b[43m[\u001b[49m\u001b[38;5;241;43m6\u001b[39;49m\u001b[43m]\u001b[49m\u001b[43m,\u001b[49m\u001b[43m \u001b[49m\u001b[43mrow\u001b[49m\u001b[43m[\u001b[49m\u001b[38;5;241;43m7\u001b[39;49m\u001b[43m]\u001b[49m\u001b[43m)\u001b[49m\n\u001b[1;32m     13\u001b[0m \u001b[43m    \u001b[49m\u001b[43m)\u001b[49m\n",
      "File \u001b[0;32m/usr/local/lib/python3.11/site-packages/cassandra/cluster.py:2677\u001b[0m, in \u001b[0;36mcassandra.cluster.Session.execute\u001b[0;34m()\u001b[0m\n",
      "File \u001b[0;32m/usr/local/lib/python3.11/site-packages/cassandra/cluster.py:4952\u001b[0m, in \u001b[0;36mcassandra.cluster.ResponseFuture.result\u001b[0;34m()\u001b[0m\n",
      "File \u001b[0;32m/usr/local/Cellar/python@3.11/3.11.7/Frameworks/Python.framework/Versions/3.11/lib/python3.11/threading.py:629\u001b[0m, in \u001b[0;36mEvent.wait\u001b[0;34m(self, timeout)\u001b[0m\n\u001b[1;32m    627\u001b[0m signaled \u001b[38;5;241m=\u001b[39m \u001b[38;5;28mself\u001b[39m\u001b[38;5;241m.\u001b[39m_flag\n\u001b[1;32m    628\u001b[0m \u001b[38;5;28;01mif\u001b[39;00m \u001b[38;5;129;01mnot\u001b[39;00m signaled:\n\u001b[0;32m--> 629\u001b[0m     signaled \u001b[38;5;241m=\u001b[39m \u001b[38;5;28;43mself\u001b[39;49m\u001b[38;5;241;43m.\u001b[39;49m\u001b[43m_cond\u001b[49m\u001b[38;5;241;43m.\u001b[39;49m\u001b[43mwait\u001b[49m\u001b[43m(\u001b[49m\u001b[43mtimeout\u001b[49m\u001b[43m)\u001b[49m\n\u001b[1;32m    630\u001b[0m \u001b[38;5;28;01mreturn\u001b[39;00m signaled\n",
      "File \u001b[0;32m/usr/local/Cellar/python@3.11/3.11.7/Frameworks/Python.framework/Versions/3.11/lib/python3.11/threading.py:327\u001b[0m, in \u001b[0;36mCondition.wait\u001b[0;34m(self, timeout)\u001b[0m\n\u001b[1;32m    325\u001b[0m \u001b[38;5;28;01mtry\u001b[39;00m:    \u001b[38;5;66;03m# restore state no matter what (e.g., KeyboardInterrupt)\u001b[39;00m\n\u001b[1;32m    326\u001b[0m     \u001b[38;5;28;01mif\u001b[39;00m timeout \u001b[38;5;129;01mis\u001b[39;00m \u001b[38;5;28;01mNone\u001b[39;00m:\n\u001b[0;32m--> 327\u001b[0m         \u001b[43mwaiter\u001b[49m\u001b[38;5;241;43m.\u001b[39;49m\u001b[43macquire\u001b[49m\u001b[43m(\u001b[49m\u001b[43m)\u001b[49m\n\u001b[1;32m    328\u001b[0m         gotit \u001b[38;5;241m=\u001b[39m \u001b[38;5;28;01mTrue\u001b[39;00m\n\u001b[1;32m    329\u001b[0m     \u001b[38;5;28;01melse\u001b[39;00m:\n",
      "\u001b[0;31mKeyboardInterrupt\u001b[0m: "
     ]
    }
   ],
   "source": [
    "import csv\n",
    "\n",
    "with open('Data/Books.csv', 'r') as f:\n",
    "    next(f)  # Skip the header row.\n",
    "    reader = csv.reader(f)\n",
    "    for row in reader:\n",
    "        session.execute(\n",
    "            \"\"\"\n",
    "            INSERT INTO books (ISBN, Book_Title, Book_Author, Year_Of_Publication, Publisher, Image_URL_S, Image_URL_M, Image_URL_L)\n",
    "            VALUES (%s, %s, %s, %s, %s, %s, %s, %s)\n",
    "            \"\"\",\n",
    "            (row[0], row[1], row[2], int(row[3]), row[4], row[5], row[6], row[7])\n",
    "        )\n"
   ]
  },
  {
   "cell_type": "code",
   "execution_count": null,
   "metadata": {
    "id": "mRkxhAy2lQVg"
   },
   "outputs": [],
   "source": [
    "session.execute(\"\"\"\n",
    "    CREATE TABLE IF NOT EXISTS book_ratings (\n",
    "        User_ID text,\n",
    "        ISBN text,\n",
    "        Book_Rating int,\n",
    "        PRIMARY KEY(User_ID, ISBN)\n",
    "    )\n",
    "\"\"\")\n",
    "\n",
    "with open('Data/Ratings.csv', 'r') as f:\n",
    "    next(f)  # Skip the header row.\n",
    "    reader = csv.reader(f)\n",
    "    for row in reader:\n",
    "        session.execute(\n",
    "            \"\"\"\n",
    "            INSERT INTO book_ratings (User_ID, ISBN, Book_Rating)\n",
    "            VALUES (%s, %s, %s)\n",
    "            \"\"\",\n",
    "            (row[0], row[1], int(row[2]))\n",
    "        )"
   ]
  },
  {
   "cell_type": "code",
   "execution_count": 35,
   "metadata": {
    "id": "l7eRaKwAlyrf"
   },
   "outputs": [],
   "source": [
    "session.execute(\"\"\"\n",
    "    CREATE TABLE IF NOT EXISTS user_data (\n",
    "        User_ID text PRIMARY KEY,\n",
    "        Location text,\n",
    "        Age float\n",
    "    )\n",
    "\"\"\")\n",
    "\n",
    "def load_data(csv_file, insert_query):\n",
    "        \n",
    "    def insert_data(rows):\n",
    "        batch = BatchStatement()\n",
    "        for row in rows:\n",
    "            age = float(row[2]) if row[2] else None\n",
    "            batch.add(SimpleStatement(insert_query), (row[0], row[1], age))\n",
    "        session.execute(batch)\n",
    "        print(\"exec\")\n",
    "    \n",
    "    with open(csv_file, \"r\") as f:\n",
    "        next(f)  # Skip the header row.\n",
    "        reader = list(csv.reader(f))\n",
    "    \n",
    "    # Adjust the number of rows for each batch and number of workers as needed\n",
    "    num_rows_per_batch = 100\n",
    "    rows = [reader[i: i + num_rows_per_batch] for i in range(0, len(reader), num_rows_per_batch)] \n",
    "    \n",
    "    with concurrent.futures.ThreadPoolExecutor(max_workers=20) as executor:\n",
    "        executor.map(insert_data, rows)\n",
    "\n"
   ]
  },
  {
   "cell_type": "code",
   "execution_count": 36,
   "metadata": {},
   "outputs": [],
   "source": [
    "ratings_query =             \"\"\"\n",
    "            INSERT INTO book_ratings (User_ID, ISBN, Book_Rating)\n",
    "            VALUES (%s, %s, %s)\n",
    "            \"\"\"\n",
    "load_data('Data/Ratings.csv', ratings_query)"
   ]
  },
  {
   "cell_type": "code",
   "execution_count": null,
   "metadata": {},
   "outputs": [],
   "source": [
    "users_query = \"\"\"\n",
    "                INSERT INTO user_data (User_ID, Location, Age)\n",
    "                VALUES (%s, %s, %s)\n",
    "                \"\"\"\n",
    "load_data('Data/Users.csv', users_query)"
   ]
  },
  {
   "cell_type": "code",
   "execution_count": 37,
   "metadata": {},
   "outputs": [],
   "source": [
    "books_query = \"\"\"\n",
    "            INSERT INTO books (ISBN, Book_Title, Book_Author, Year_Of_Publication, Publisher, Image_URL_S, Image_URL_M, Image_URL_L)\n",
    "            VALUES (%s, %s, %s, %s, %s, %s, %s, %s)\n",
    "            \"\"\",\n",
    "load_data('Data/Books.csv', books_query)"
   ]
  },
  {
   "cell_type": "code",
   "execution_count": 33,
   "metadata": {
    "id": "CqgzndRPl8ig"
   },
   "outputs": [
    {
     "data": {
      "text/plain": [
       "Row(count=278858)"
      ]
     },
     "execution_count": 33,
     "metadata": {},
     "output_type": "execute_result"
    }
   ],
   "source": [
    "count_query = \"SELECT COUNT(*) FROM user_data\"\n",
    "result = session.execute(count_query)\n",
    "result.one()"
   ]
  },
  {
   "cell_type": "code",
   "execution_count": 38,
   "metadata": {
    "id": "CqgzndRPl8ig"
   },
   "outputs": [
    {
     "data": {
      "text/plain": [
       "Row(count=157963)"
      ]
     },
     "execution_count": 38,
     "metadata": {},
     "output_type": "execute_result"
    }
   ],
   "source": [
    "count_query = \"SELECT COUNT(*) FROM books\"\n",
    "result = session.execute(count_query)\n",
    "result.one()"
   ]
  },
  {
   "cell_type": "markdown",
   "metadata": {
    "id": "RITM59YXmH4j"
   },
   "source": [
    "## Step 3: Creating Tables"
   ]
  },
  {
   "cell_type": "code",
   "execution_count": null,
   "metadata": {
    "id": "zqT93A8vn0bw"
   },
   "outputs": [],
   "source": [
    "USE university;"
   ]
  },
  {
   "cell_type": "code",
   "execution_count": null,
   "metadata": {
    "id": "JV0Pz_GQmMnh"
   },
   "outputs": [],
   "source": [
    "CREATE TABLE students (\n",
    "  student_id UUID PRIMARY KEY,\n",
    "  name TEXT,\n",
    "  email TEXT,\n",
    "  enrollment_year INT\n",
    ");"
   ]
  },
  {
   "cell_type": "code",
   "execution_count": null,
   "metadata": {
    "id": "02fK86SXmQHb"
   },
   "outputs": [],
   "source": [
    "CREATE TABLE courses (\n",
    "  course_id UUID PRIMARY KEY,\n",
    "  course_name TEXT,\n",
    "  lecturer_id UUID,\n",
    "  credits INT\n",
    ");"
   ]
  },
  {
   "cell_type": "code",
   "execution_count": null,
   "metadata": {
    "id": "WdYS-5WumUk_"
   },
   "outputs": [],
   "source": [
    "CREATE TABLE lecturers (\n",
    "  lecturer_id UUID PRIMARY KEY,\n",
    "  name TEXT,\n",
    "  department TEXT\n",
    ");"
   ]
  },
  {
   "cell_type": "code",
   "execution_count": null,
   "metadata": {
    "id": "gbMd2MPImUf2"
   },
   "outputs": [],
   "source": [
    "CREATE TABLE course_enrollments (\n",
    "  course_id UUID,\n",
    "  student_id UUID,\n",
    "  enrollment_date DATE,\n",
    "  PRIMARY KEY (course_id, student_id)\n",
    ");"
   ]
  },
  {
   "cell_type": "code",
   "execution_count": null,
   "metadata": {
    "id": "FHYmBtyLondX"
   },
   "outputs": [],
   "source": [
    "# To validate you created the tables\n",
    "cqlsh:university> DESCRIBE tables;"
   ]
  },
  {
   "cell_type": "code",
   "execution_count": null,
   "metadata": {
    "id": "J-q-ylFgorvH"
   },
   "outputs": [],
   "source": [
    "# The output should be:\n",
    "course_enrollments  courses  lecturers  students"
   ]
  },
  {
   "cell_type": "markdown",
   "metadata": {
    "id": "b5xPLjFMoSTD"
   },
   "source": [
    "## Step 4: Inserting data"
   ]
  },
  {
   "cell_type": "code",
   "execution_count": null,
   "metadata": {
    "id": "GdypCEKcoU8z"
   },
   "outputs": [],
   "source": [
    "# Inserting data into students\n",
    "INSERT INTO students (student_id, name, email, enrollment_year) VALUES (550e8400-e29b-41d4-a716-446655440000, 'John Doe', 'john.doe@email.com', 2021);\n",
    "INSERT INTO students (student_id, name, email, enrollment_year) VALUES (652e8500-f39c-42d5-b517-557655450001, 'Jane Smith', 'jane.smith@email.com', 2020);\n",
    "INSERT INTO students (student_id, name, enrollment_year) VALUES (753e8600-e49d-53e6-c628-668655460002, 'Alice Johnson', 2019);"
   ]
  },
  {
   "cell_type": "code",
   "execution_count": null,
   "metadata": {
    "id": "3eVO-KPgqydK"
   },
   "outputs": [],
   "source": [
    "# Inserting data into lecturers\n",
    "INSERT INTO lecturers (lecturer_id, name, department) VALUES (860e9700-a59e-63f7-d739-779655470003, 'Dr. James Watson', 'Biology');\n",
    "INSERT INTO lecturers (lecturer_id, name, department) VALUES (961e9800-b69f-73c8-e840-889655480004, 'Dr. Emma Wilson', 'Physics');\n",
    "INSERT INTO lecturers (lecturer_id, name) VALUES (072e9900-d710-83e9-f951-990655490005, 'Prof. Michael Brown');"
   ]
  },
  {
   "cell_type": "code",
   "execution_count": null,
   "metadata": {
    "id": "KKJY9rykqybM"
   },
   "outputs": [],
   "source": [
    "# Inserting data into courses\n",
    "INSERT INTO courses (course_id, lecturer_id, course_name, credits) VALUES (183fa000-f821-93a0-b062-a96655650006, 860e9700-a59e-63f7-d739-779655470003, 'Biology 101', 3);\n",
    "INSERT INTO courses (course_id, lecturer_id, course_name, credits) VALUES (284fb000-a932-a4b1-c173-b97755660007, 961e9800-b69f-73c8-e840-889655480004, 'Physics 101', 4);\n",
    "INSERT INTO courses (course_id, lecturer_id, course_name, credits) VALUES (385fc000-d043-b5e2-f284-c98855670008, 072e9900-d710-83e9-f951-990655490005, 'Mathematics 101', 3);"
   ]
  },
  {
   "cell_type": "code",
   "execution_count": null,
   "metadata": {
    "id": "2v7CHt7Oq1Kr"
   },
   "outputs": [],
   "source": [
    "# Inserting data into course_enrollments\n",
    "INSERT INTO course_enrollments (course_id, student_id, enrollment_date) VALUES (183fa000-f821-93a0-b062-a96655650006, 550e8400-e29b-41d4-a716-446655440000, '2023-10-01');\n",
    "INSERT INTO course_enrollments (course_id, student_id, enrollment_date) VALUES (284fb000-a932-a4b1-c173-b97755660007, 652e8500-f39c-42d5-b517-557655450001, '2023-09-15');\n",
    "INSERT INTO course_enrollments (course_id, student_id) VALUES (385fc000-d043-b5e2-f284-c98855670008, 753e8600-e49d-53e6-c628-668655460002);"
   ]
  },
  {
   "cell_type": "markdown",
   "metadata": {
    "id": "CTJ-LM7dtpWz"
   },
   "source": [
    "## Step 5: Querying the data"
   ]
  },
  {
   "cell_type": "code",
   "execution_count": 1,
   "metadata": {
    "id": "IJX_ipvKtoDq"
   },
   "outputs": [],
   "source": [
    "# Get all students\n",
    "SELECT * FROM STUDENTS\n",
    "\n",
    ">>\n",
    " student_id                           | email                | enrollment_year | name\n",
    "--------------------------------------+----------------------+-----------------+---------------\n",
    " 753e8600-e49d-53e6-c628-668655460002 |                 null |            2019 | Alice Johnson\n",
    " 652e8500-f39c-42d5-b517-557655450001 | jane.smith@email.com |            2020 |    Jane Smith\n",
    " 550e8400-e29b-41d4-a716-446655440000 |   john.doe@email.com |            2021 |      John Doe\n",
    " (3 rows)"
   ]
  },
  {
   "cell_type": "code",
   "execution_count": null,
   "metadata": {
    "id": "RNCzZzX4tuQq"
   },
   "outputs": [],
   "source": [
    "# Get the list of students who enrolled after 2020 along with their email and the courses they enrolled in\n",
    "SELECT student_id, name, email\n",
    "FROM students\n",
    "WHERE enrollment_year > 2020 ALLOW FILTERING;\n",
    "\n",
    ">>\n",
    " student_id                           | name     | email\n",
    "--------------------------------------+----------+--------------------\n",
    " 550e8400-e29b-41d4-a716-446655440000 | John Doe | john.doe@email.com\n",
    "\n",
    "(1 rows)"
   ]
  },
  {
   "cell_type": "code",
   "execution_count": null,
   "metadata": {
    "id": "fMhyryctvil9"
   },
   "outputs": [],
   "source": [
    "# Find all courses and count of students enrolled in them\n",
    "SELECT course_id, COUNT(student_id) as student_count\n",
    "FROM course_enrollments\n",
    "GROUP BY course_id;\n",
    "\n",
    ">>\n",
    " course_id                            | student_count\n",
    "--------------------------------------+---------------\n",
    " 183fa000-f821-93a0-b062-a96655650006 |             1\n",
    " 385fc000-d043-b5e2-f284-c98855670008 |             1\n",
    " 284fb000-a932-a4b1-c173-b97755660007 |             1\n",
    "\n",
    "(3 rows)"
   ]
  }
 ],
 "metadata": {
  "colab": {
   "provenance": []
  },
  "kernelspec": {
   "display_name": "Python 3 (ipykernel)",
   "language": "python",
   "name": "python3"
  },
  "language_info": {
   "codemirror_mode": {
    "name": "ipython",
    "version": 3
   },
   "file_extension": ".py",
   "mimetype": "text/x-python",
   "name": "python",
   "nbconvert_exporter": "python",
   "pygments_lexer": "ipython3",
   "version": "3.11.7"
  }
 },
 "nbformat": 4,
 "nbformat_minor": 4
}
