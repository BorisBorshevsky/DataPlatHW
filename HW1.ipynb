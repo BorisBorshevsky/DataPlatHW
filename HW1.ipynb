{
 "cells": [
  {
   "cell_type": "markdown",
   "metadata": {
    "id": "QcxOIdPuj4zS"
   },
   "source": [
    "# HW1: Cassandra DB\n",
    "ID1: 308564293\n",
    "\n",
    "ID2: XXX"
   ]
  },
  {
   "cell_type": "markdown",
   "metadata": {
    "id": "qr7oPwN2kp01"
   },
   "source": [
    "## Step 1: Setup Cassandra Cluster on Docker"
   ]
  },
  {
   "cell_type": "markdown",
   "metadata": {
    "id": "2RtlqrV1ktnv"
   },
   "source": [
    "We will install Cassandra on Docker using the code from the classroom. Following, we will open the container and interact with Cassandra.\n",
    "The folllowing code should be executed only if there isn't a docker container with cassandra installed and running."
   ]
  },
  {
   "cell_type": "code",
   "execution_count": 57,
   "metadata": {
    "id": "pO-YspA_krOI"
   },
   "outputs": [
    {
     "name": "stdout",
     "output_type": "stream",
     "text": [
      "latest: Pulling from library/cassandra\n",
      "Digest: sha256:5f20dbd2fc7f2061fc2a3c027e592193002f9eb475708bdb827bde615e7c1015\n",
      "Status: Image is up to date for cassandra:latest\n",
      "docker.io/library/cassandra:latest\n"
     ]
    },
    {
     "name": "stderr",
     "output_type": "stream",
     "text": [
      "\n",
      "What's Next?\n",
      "  1. Sign in to your Docker account → docker login\n",
      "  2. View a summary of image vulnerabilities and recommendations → docker scout quickview cassandra:latest\n"
     ]
    },
    {
     "name": "stdout",
     "output_type": "stream",
     "text": [
      "db484395c5b88f71364790e83519446c46a742482adff428305b828cd0808ac7\n"
     ]
    }
   ],
   "source": [
    "# On the first CMD:\n",
    "# Pull the Cassandra Docker Image:\n",
    "!docker pull cassandra:latest\n",
    "\n",
    "# Start the first Cassandra node (Seed Node):\n",
    "!docker run -d --name cass_cluster -p 9042:9042 cassandra:latest  "
   ]
  },
  {
   "cell_type": "markdown",
   "metadata": {},
   "source": [
    "Install Depenencies, only if needed:"
   ]
  },
  {
   "cell_type": "code",
   "execution_count": null,
   "metadata": {
    "id": "mRkxhAy2lQVg"
   },
   "outputs": [],
   "source": [
    "# install cassandra driver\n",
    "!pip3 install cassandra-driver\n",
    "\n",
    "# install docker\n",
    "!pip3 install docker"
   ]
  },
  {
   "cell_type": "markdown",
   "metadata": {},
   "source": [
    "Import dependencies:"
   ]
  },
  {
   "cell_type": "markdown",
   "metadata": {
    "id": "uvV_bF1Elk9I"
   },
   "source": [
    "## Step 2: Data Ingestion"
   ]
  },
  {
   "cell_type": "code",
   "execution_count": 7,
   "metadata": {},
   "outputs": [],
   "source": [
    "# Cassandra-driver\n",
    "from cassandra.cluster import Cluster\n",
    "from cassandra.query import SimpleStatement, BatchStatement\n",
    "\n",
    "# Data\n",
    "import csv\n",
    "import pandas as pd\n",
    "\n",
    "# Multithreading\n",
    "import concurrent.futures\n",
    "\n",
    "# Docker\n",
    "import docker"
   ]
  },
  {
   "cell_type": "markdown",
   "metadata": {},
   "source": [
    "Connect to the Cluster, Create keyspace and tables:"
   ]
  },
  {
   "cell_type": "code",
   "execution_count": 77,
   "metadata": {},
   "outputs": [],
   "source": [
    "# Connect Cassandra-Driver to the Cluster running on the Docker:\n",
    "cluster = Cluster(['127.0.0.1'])\n",
    "session = cluster.connect()"
   ]
  },
  {
   "cell_type": "markdown",
   "metadata": {},
   "source": [
    "From here, we can execute CQL commands from the notebook environment."
   ]
  },
  {
   "cell_type": "code",
   "execution_count": 78,
   "metadata": {},
   "outputs": [
    {
     "name": "stdout",
     "output_type": "stream",
     "text": [
      "Row(keyspace_name='books', type='keyspace', name='books')\n",
      "Row(keyspace_name='system', type='keyspace', name='system')\n",
      "Row(keyspace_name='system_auth', type='keyspace', name='system_auth')\n",
      "Row(keyspace_name='system_distributed', type='keyspace', name='system_distributed')\n",
      "Row(keyspace_name='system_schema', type='keyspace', name='system_schema')\n",
      "Row(keyspace_name='system_traces', type='keyspace', name='system_traces')\n",
      "Row(keyspace_name='system_views', type='keyspace', name='system_views')\n",
      "Row(keyspace_name='system_virtual_schema', type='keyspace', name='system_virtual_schema')\n"
     ]
    }
   ],
   "source": [
    "# Create Keyspace named 'books' and replication factor = 1\n",
    "session.execute(\"CREATE KEYSPACE IF NOT EXISTS books WITH REPLICATION = { 'class' : 'SimpleStrategy', 'replication_factor' : 1 };\")\n",
    "session.execute(\"USE books\")\n",
    "\n",
    "# Validate the keyspace\n",
    "keys_spaces = session.execute(\"DESCRIBE keyspaces;\")\n",
    "for ks in keys_spaces:\n",
    "    print(ks)"
   ]
  },
  {
   "cell_type": "markdown",
   "metadata": {},
   "source": [
    "We will set up a helper function to assist in executing an ingestion of a single row."
   ]
  },
  {
   "cell_type": "code",
   "execution_count": null,
   "metadata": {},
   "outputs": [],
   "source": [
    "# Insert \n",
    "def insert_row(row):\n",
    "    \"\"\" Inserts a row from a CSV file to Cassandra\n",
    "        Input:\n",
    "        \n",
    "    \"\"\"\n",
    "    session.execute(\n",
    "        \"\"\"\n",
    "        INSERT INTO books (ISBN, Book_Title, Book_Author, Year_Of_Publication, Publisher, Image_URL_S, Image_URL_M, Image_URL_L)\n",
    "        VALUES (%s, %s, %s, %s, %s, %s, %s, %s)\n",
    "        \"\"\",\n",
    "        (row[0], row[1], row[2], int(row[3]), row[4], row[5], row[6], row[7])\n",
    "    )\n",
    "\n"
   ]
  },
  {
   "cell_type": "markdown",
   "metadata": {},
   "source": [
    "Data ingestion: Books.CSV"
   ]
  },
  {
   "cell_type": "code",
   "execution_count": null,
   "metadata": {},
   "outputs": [],
   "source": [
    "# Data Ingestion: books\n",
    "\n",
    "# Create cassandra table with 8 columns\n",
    "# ISBN is the partition key\n",
    "session.execute(\"\"\"\n",
    "    CREATE TABLE IF NOT EXISTS books (\n",
    "        ISBN text PRIMARY KEY,\n",
    "        Book_Title text,\n",
    "        Book_Author text,\n",
    "        Year_Of_Publication int,\n",
    "        Publisher text,\n",
    "        Image_URL_S text,\n",
    "        Image_URL_M text,\n",
    "        Image_URL_L text\n",
    "    )\n",
    "\"\"\")\n",
    "\n",
    "# Data ingestion for \"books\"\n",
    "with open('Data/Books.csv', 'r') as f:\n",
    "    next(f)  # Skip the header row.\n",
    "    reader = csv.reader(f)\n",
    "\n",
    "    with concurrent.futures.ThreadPoolExecutor() as executor:\n",
    "        executor.map(insert_row, reader)\n",
    "\n",
    "# Validation\n"
   ]
  },
  {
   "cell_type": "code",
   "execution_count": null,
   "metadata": {
    "id": "mRkxhAy2lQVg"
   },
   "outputs": [],
   "source": [
    "session.execute(\"\"\"\n",
    "    CREATE TABLE IF NOT EXISTS book_ratings (\n",
    "        User_ID text,\n",
    "        ISBN text,\n",
    "        Book_Rating int,\n",
    "        PRIMARY KEY(User_ID, ISBN)\n",
    "    )\n",
    "\"\"\")\n",
    "\n",
    "with open('Data/Ratings.csv', 'r') as f:\n",
    "    next(f)  # Skip the header row.\n",
    "    reader = csv.reader(f)\n",
    "    for row in reader:\n",
    "        session.execute(\n",
    "            \"\"\"\n",
    "            INSERT INTO book_ratings (User_ID, ISBN, Book_Rating)\n",
    "            VALUES (%s, %s, %s)\n",
    "            \"\"\",\n",
    "            (row[0], row[1], int(row[2]))\n",
    "        )"
   ]
  },
  {
   "cell_type": "code",
   "execution_count": 35,
   "metadata": {
    "id": "l7eRaKwAlyrf"
   },
   "outputs": [],
   "source": [
    "session.execute(\"\"\"\n",
    "    CREATE TABLE IF NOT EXISTS user_data (\n",
    "        User_ID text PRIMARY KEY,\n",
    "        Location text,\n",
    "        Age float\n",
    "    )\n",
    "\"\"\")\n",
    "\n",
    "def load_data(csv_file, insert_query):\n",
    "        \n",
    "    def insert_data(rows):\n",
    "        batch = BatchStatement()\n",
    "        for row in rows:\n",
    "            age = float(row[2]) if row[2] else None\n",
    "            batch.add(SimpleStatement(insert_query), (row[0], row[1], age))\n",
    "        session.execute(batch)\n",
    "        print(\"exec\")\n",
    "    \n",
    "    with open(csv_file, \"r\") as f:\n",
    "        next(f)  # Skip the header row.\n",
    "        reader = list(csv.reader(f))\n",
    "    \n",
    "    # Adjust the number of rows for each batch and number of workers as needed\n",
    "    num_rows_per_batch = 100\n",
    "    rows = [reader[i: i + num_rows_per_batch] for i in range(0, len(reader), num_rows_per_batch)] \n",
    "    \n",
    "    with concurrent.futures.ThreadPoolExecutor(max_workers=20) as executor:\n",
    "        executor.map(insert_data, rows)\n",
    "\n"
   ]
  },
  {
   "cell_type": "code",
   "execution_count": 36,
   "metadata": {},
   "outputs": [],
   "source": [
    "ratings_query =             \"\"\"\n",
    "            INSERT INTO book_ratings (User_ID, ISBN, Book_Rating)\n",
    "            VALUES (%s, %s, %s)\n",
    "            \"\"\"\n",
    "load_data('Data/Ratings.csv', ratings_query)"
   ]
  },
  {
   "cell_type": "code",
   "execution_count": null,
   "metadata": {},
   "outputs": [],
   "source": [
    "users_query = \"\"\"\n",
    "                INSERT INTO user_data (User_ID, Location, Age)\n",
    "                VALUES (%s, %s, %s)\n",
    "                \"\"\"\n",
    "load_data('Data/Users.csv', users_query)"
   ]
  },
  {
   "cell_type": "code",
   "execution_count": 37,
   "metadata": {},
   "outputs": [],
   "source": [
    "books_query = \"\"\"\n",
    "            INSERT INTO books (ISBN, Book_Title, Book_Author, Year_Of_Publication, Publisher, Image_URL_S, Image_URL_M, Image_URL_L)\n",
    "            VALUES (%s, %s, %s, %s, %s, %s, %s, %s)\n",
    "            \"\"\",\n",
    "load_data('Data/Books.csv', books_query)"
   ]
  },
  {
   "cell_type": "code",
   "execution_count": 33,
   "metadata": {
    "id": "CqgzndRPl8ig"
   },
   "outputs": [
    {
     "data": {
      "text/plain": [
       "Row(count=278858)"
      ]
     },
     "execution_count": 33,
     "metadata": {},
     "output_type": "execute_result"
    }
   ],
   "source": [
    "count_query = \"SELECT COUNT(*) FROM user_data\"\n",
    "result = session.execute(count_query)\n",
    "result.one()"
   ]
  },
  {
   "cell_type": "code",
   "execution_count": 38,
   "metadata": {
    "id": "CqgzndRPl8ig"
   },
   "outputs": [
    {
     "data": {
      "text/plain": [
       "Row(count=157963)"
      ]
     },
     "execution_count": 38,
     "metadata": {},
     "output_type": "execute_result"
    }
   ],
   "source": [
    "count_query = \"SELECT COUNT(*) FROM books\"\n",
    "result = session.execute(count_query)\n",
    "result.one()"
   ]
  },
  {
   "cell_type": "markdown",
   "metadata": {
    "id": "RITM59YXmH4j"
   },
   "source": [
    "## Step 3: Creating Tables"
   ]
  },
  {
   "cell_type": "code",
   "execution_count": null,
   "metadata": {
    "id": "zqT93A8vn0bw"
   },
   "outputs": [],
   "source": [
    "USE university;"
   ]
  },
  {
   "cell_type": "code",
   "execution_count": null,
   "metadata": {
    "id": "JV0Pz_GQmMnh"
   },
   "outputs": [],
   "source": [
    "CREATE TABLE students (\n",
    "  student_id UUID PRIMARY KEY,\n",
    "  name TEXT,\n",
    "  email TEXT,\n",
    "  enrollment_year INT\n",
    ");"
   ]
  },
  {
   "cell_type": "code",
   "execution_count": null,
   "metadata": {
    "id": "02fK86SXmQHb"
   },
   "outputs": [],
   "source": [
    "CREATE TABLE courses (\n",
    "  course_id UUID PRIMARY KEY,\n",
    "  course_name TEXT,\n",
    "  lecturer_id UUID,\n",
    "  credits INT\n",
    ");"
   ]
  },
  {
   "cell_type": "code",
   "execution_count": null,
   "metadata": {
    "id": "WdYS-5WumUk_"
   },
   "outputs": [],
   "source": [
    "CREATE TABLE lecturers (\n",
    "  lecturer_id UUID PRIMARY KEY,\n",
    "  name TEXT,\n",
    "  department TEXT\n",
    ");"
   ]
  },
  {
   "cell_type": "code",
   "execution_count": null,
   "metadata": {
    "id": "gbMd2MPImUf2"
   },
   "outputs": [],
   "source": [
    "CREATE TABLE course_enrollments (\n",
    "  course_id UUID,\n",
    "  student_id UUID,\n",
    "  enrollment_date DATE,\n",
    "  PRIMARY KEY (course_id, student_id)\n",
    ");"
   ]
  },
  {
   "cell_type": "code",
   "execution_count": null,
   "metadata": {
    "id": "FHYmBtyLondX"
   },
   "outputs": [],
   "source": [
    "# To validate you created the tables\n",
    "cqlsh:university> DESCRIBE tables;"
   ]
  },
  {
   "cell_type": "code",
   "execution_count": null,
   "metadata": {
    "id": "J-q-ylFgorvH"
   },
   "outputs": [],
   "source": [
    "# The output should be:\n",
    "course_enrollments  courses  lecturers  students"
   ]
  },
  {
   "cell_type": "markdown",
   "metadata": {
    "id": "b5xPLjFMoSTD"
   },
   "source": [
    "## Step 4: Inserting data"
   ]
  },
  {
   "cell_type": "code",
   "execution_count": null,
   "metadata": {
    "id": "GdypCEKcoU8z"
   },
   "outputs": [],
   "source": [
    "# Inserting data into students\n",
    "INSERT INTO students (student_id, name, email, enrollment_year) VALUES (550e8400-e29b-41d4-a716-446655440000, 'John Doe', 'john.doe@email.com', 2021);\n",
    "INSERT INTO students (student_id, name, email, enrollment_year) VALUES (652e8500-f39c-42d5-b517-557655450001, 'Jane Smith', 'jane.smith@email.com', 2020);\n",
    "INSERT INTO students (student_id, name, enrollment_year) VALUES (753e8600-e49d-53e6-c628-668655460002, 'Alice Johnson', 2019);"
   ]
  },
  {
   "cell_type": "code",
   "execution_count": null,
   "metadata": {
    "id": "3eVO-KPgqydK"
   },
   "outputs": [],
   "source": [
    "# Inserting data into lecturers\n",
    "INSERT INTO lecturers (lecturer_id, name, department) VALUES (860e9700-a59e-63f7-d739-779655470003, 'Dr. James Watson', 'Biology');\n",
    "INSERT INTO lecturers (lecturer_id, name, department) VALUES (961e9800-b69f-73c8-e840-889655480004, 'Dr. Emma Wilson', 'Physics');\n",
    "INSERT INTO lecturers (lecturer_id, name) VALUES (072e9900-d710-83e9-f951-990655490005, 'Prof. Michael Brown');"
   ]
  },
  {
   "cell_type": "code",
   "execution_count": null,
   "metadata": {
    "id": "KKJY9rykqybM"
   },
   "outputs": [],
   "source": [
    "# Inserting data into courses\n",
    "INSERT INTO courses (course_id, lecturer_id, course_name, credits) VALUES (183fa000-f821-93a0-b062-a96655650006, 860e9700-a59e-63f7-d739-779655470003, 'Biology 101', 3);\n",
    "INSERT INTO courses (course_id, lecturer_id, course_name, credits) VALUES (284fb000-a932-a4b1-c173-b97755660007, 961e9800-b69f-73c8-e840-889655480004, 'Physics 101', 4);\n",
    "INSERT INTO courses (course_id, lecturer_id, course_name, credits) VALUES (385fc000-d043-b5e2-f284-c98855670008, 072e9900-d710-83e9-f951-990655490005, 'Mathematics 101', 3);"
   ]
  },
  {
   "cell_type": "code",
   "execution_count": null,
   "metadata": {
    "id": "2v7CHt7Oq1Kr"
   },
   "outputs": [],
   "source": [
    "# Inserting data into course_enrollments\n",
    "INSERT INTO course_enrollments (course_id, student_id, enrollment_date) VALUES (183fa000-f821-93a0-b062-a96655650006, 550e8400-e29b-41d4-a716-446655440000, '2023-10-01');\n",
    "INSERT INTO course_enrollments (course_id, student_id, enrollment_date) VALUES (284fb000-a932-a4b1-c173-b97755660007, 652e8500-f39c-42d5-b517-557655450001, '2023-09-15');\n",
    "INSERT INTO course_enrollments (course_id, student_id) VALUES (385fc000-d043-b5e2-f284-c98855670008, 753e8600-e49d-53e6-c628-668655460002);"
   ]
  },
  {
   "cell_type": "markdown",
   "metadata": {
    "id": "CTJ-LM7dtpWz"
   },
   "source": [
    "## Step 5: Querying the data"
   ]
  },
  {
   "cell_type": "code",
   "execution_count": 1,
   "metadata": {
    "id": "IJX_ipvKtoDq"
   },
   "outputs": [],
   "source": [
    "# Get all students\n",
    "SELECT * FROM STUDENTS\n",
    "\n",
    ">>\n",
    " student_id                           | email                | enrollment_year | name\n",
    "--------------------------------------+----------------------+-----------------+---------------\n",
    " 753e8600-e49d-53e6-c628-668655460002 |                 null |            2019 | Alice Johnson\n",
    " 652e8500-f39c-42d5-b517-557655450001 | jane.smith@email.com |            2020 |    Jane Smith\n",
    " 550e8400-e29b-41d4-a716-446655440000 |   john.doe@email.com |            2021 |      John Doe\n",
    " (3 rows)"
   ]
  },
  {
   "cell_type": "code",
   "execution_count": null,
   "metadata": {
    "id": "RNCzZzX4tuQq"
   },
   "outputs": [],
   "source": [
    "# Get the list of students who enrolled after 2020 along with their email and the courses they enrolled in\n",
    "SELECT student_id, name, email\n",
    "FROM students\n",
    "WHERE enrollment_year > 2020 ALLOW FILTERING;\n",
    "\n",
    ">>\n",
    " student_id                           | name     | email\n",
    "--------------------------------------+----------+--------------------\n",
    " 550e8400-e29b-41d4-a716-446655440000 | John Doe | john.doe@email.com\n",
    "\n",
    "(1 rows)"
   ]
  },
  {
   "cell_type": "code",
   "execution_count": null,
   "metadata": {
    "id": "fMhyryctvil9"
   },
   "outputs": [],
   "source": [
    "# Find all courses and count of students enrolled in them\n",
    "SELECT course_id, COUNT(student_id) as student_count\n",
    "FROM course_enrollments\n",
    "GROUP BY course_id;\n",
    "\n",
    ">>\n",
    " course_id                            | student_count\n",
    "--------------------------------------+---------------\n",
    " 183fa000-f821-93a0-b062-a96655650006 |             1\n",
    " 385fc000-d043-b5e2-f284-c98855670008 |             1\n",
    " 284fb000-a932-a4b1-c173-b97755660007 |             1\n",
    "\n",
    "(3 rows)"
   ]
  }
 ],
 "metadata": {
  "colab": {
   "provenance": []
  },
  "kernelspec": {
   "display_name": "Python 3 (ipykernel)",
   "language": "python",
   "name": "python3"
  },
  "language_info": {
   "codemirror_mode": {
    "name": "ipython",
    "version": 3
   },
   "file_extension": ".py",
   "mimetype": "text/x-python",
   "name": "python",
   "nbconvert_exporter": "python",
   "pygments_lexer": "ipython3",
   "version": "3.11.7"
  }
 },
 "nbformat": 4,
 "nbformat_minor": 4
}
