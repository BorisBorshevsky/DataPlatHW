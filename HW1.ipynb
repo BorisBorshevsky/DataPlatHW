{
 "cells": [
  {
   "cell_type": "markdown",
   "metadata": {
    "id": "QcxOIdPuj4zS"
   },
   "source": [
    "# HW 1 - Data Platform IDC\n",
    "ID1: 308564293\n",
    "\n",
    "ID2: XXX"
   ]
  },
  {
   "cell_type": "markdown",
   "metadata": {
    "id": "qr7oPwN2kp01"
   },
   "source": [
    "## Step 1: Setup Cassandra Cluster locally -"
   ]
  },
  {
   "cell_type": "markdown",
   "metadata": {
    "editable": true,
    "id": "2RtlqrV1ktnv",
    "slideshow": {
     "slide_type": ""
    },
    "tags": []
   },
   "source": [
    "> Code is in markdown as we don't want to run this from the notebook\n",
    "> The setup is oriented for mac env"
   ]
  },
  {
   "cell_type": "markdown",
   "metadata": {
    "editable": true,
    "id": "KTMrqGmDkw3b",
    "slideshow": {
     "slide_type": ""
    },
    "tags": []
   },
   "source": [
    "Make sure Docker Desktop is installed. If not, download and install Docker from the official website [Get Docker | Docker Docs](https://docs.docker.com/get-docker/)."
   ]
  },
  {
   "cell_type": "markdown",
   "metadata": {
    "editable": true,
    "slideshow": {
     "slide_type": ""
    },
    "tags": []
   },
   "source": [
    "Download docker image for cassandra\n",
    "```bash\n",
    "docker pull cassandra:latest\n",
    "```"
   ]
  },
  {
   "cell_type": "markdown",
   "metadata": {
    "editable": true,
    "slideshow": {
     "slide_type": ""
    },
    "tags": []
   },
   "source": [
    "Run container locally open for conncetion from the notebook\n",
    "```bash\n",
    "docker run --volume=/var/lib/cassandra --restart=no -p 127.0.0.1:9042:9042 -p 127.0.0.1:9160:9160 --name hw-cass -d cassandra:latest\n",
    "```"
   ]
  },
  {
   "cell_type": "markdown",
   "metadata": {
    "editable": true,
    "slideshow": {
     "slide_type": ""
    },
    "tags": []
   },
   "source": [
    "Connect to run `cqlsh` locally\n",
    "```bash\n",
    "docker exec -it hw-cass cqlsh\n",
    "```"
   ]
  },
  {
   "cell_type": "markdown",
   "metadata": {
    "editable": true,
    "slideshow": {
     "slide_type": ""
    },
    "tags": []
   },
   "source": [
    "## Step 2: setup python environment"
   ]
  },
  {
   "cell_type": "markdown",
   "metadata": {
    "editable": true,
    "slideshow": {
     "slide_type": ""
    },
    "tags": []
   },
   "source": [
    "install python\n",
    "```bash\n",
    "brew install python\n",
    "```"
   ]
  },
  {
   "cell_type": "markdown",
   "metadata": {
    "editable": true,
    "slideshow": {
     "slide_type": ""
    },
    "tags": []
   },
   "source": [
    "install required libraries\n",
    "\n",
    "cassandra driver\n",
    "```bash\n",
    "pip3 install cassandra-driver\n",
    "```"
   ]
  },
  {
   "cell_type": "markdown",
   "metadata": {
    "editable": true,
    "id": "uvV_bF1Elk9I",
    "slideshow": {
     "slide_type": ""
    },
    "tags": []
   },
   "source": [
    "## Step 3: Chossing the dataset"
   ]
  },
  {
   "cell_type": "markdown",
   "metadata": {
    "editable": true,
    "slideshow": {
     "slide_type": ""
    },
    "tags": []
   },
   "source": [
    "### Data set content - [dataset link](https://www.kaggle.com/datasets/arashnic/book-recommendation-dataset/data)\n",
    "The Book-Crossing dataset comprises 3 files.\n",
    "\n",
    "\n",
    "**Users**\n",
    "- Contains the users. Note that user IDs (User-ID) have been anonymized and map to integers. Demographic data is provided (Location, Age) if available. Otherwise, these fields contain NULL-values.\n",
    "\n",
    "**Books**\n",
    "- Books are identified by their respective ISBN. Invalid ISBNs have already been removed from the dataset. \n",
    "- Moreover, some content-based information is given (Book-Title, Book-Author, Year-Of-Publication, Publisher), obtained from Amazon Web Services. \n",
    "- Note that in case of several authors, only the first is provided. URLs linking to cover images are also given, appearing in three different versions (Image-URL-S, Image-URL-M, Image-URL-L), i.e., small, medium, large. These URLs point to the Amazon web site.\n",
    "\n",
    "**Ratings**\n",
    "- Contains the book rating information. Ratings (Book-Rating) are either explicit, expressed on a scale from 1-10 (higher values denoting higher appreciation), or implicit, expressed by 0."
   ]
  },
  {
   "cell_type": "markdown",
   "metadata": {
    "editable": true,
    "slideshow": {
     "slide_type": ""
    },
    "tags": []
   },
   "source": [
    "#### In this project\n",
    "The data set is store in the `Data` folder - where the names of the files are corresponding to the explnation above "
   ]
  },
  {
   "cell_type": "markdown",
   "metadata": {
    "editable": true,
    "slideshow": {
     "slide_type": ""
    },
    "tags": []
   },
   "source": [
    "#### Dataset selection reason\n",
    "TODO: Describe why data set was selected.\n",
    "\n",
    "TODO: Describe size of data set"
   ]
  },
  {
   "attachments": {},
   "cell_type": "markdown",
   "metadata": {
    "editable": true,
    "slideshow": {
     "slide_type": ""
    },
    "tags": []
   },
   "source": [
    "## Step 4: Cassendra Database design\n",
    "TODO: describe the partition keys, clustering columns etc...\n"
   ]
  },
  {
   "cell_type": "markdown",
   "metadata": {
    "editable": true,
    "slideshow": {
     "slide_type": ""
    },
    "tags": []
   },
   "source": [
    "## Step 5: Setup keyspace and tables"
   ]
  },
  {
   "cell_type": "markdown",
   "metadata": {
    "editable": true,
    "slideshow": {
     "slide_type": ""
    },
    "tags": []
   },
   "source": [
    "First - We would like to load all the libraries need for ingestion and working with the cassandra DB"
   ]
  },
  {
   "cell_type": "code",
   "execution_count": 1,
   "metadata": {
    "editable": true,
    "slideshow": {
     "slide_type": ""
    },
    "tags": []
   },
   "outputs": [],
   "source": [
    "# Cassandra-driver\n",
    "from cassandra.cluster import Cluster\n",
    "from cassandra.query import SimpleStatement, BatchStatement\n",
    "\n",
    "# Data\n",
    "import csv\n",
    "import concurrent.futures\n",
    "\n",
    "# Usability\n",
    "from collections import namedtuple"
   ]
  },
  {
   "cell_type": "markdown",
   "metadata": {
    "editable": true,
    "slideshow": {
     "slide_type": ""
    },
    "tags": []
   },
   "source": [
    "Connect to our cassandra instance."
   ]
  },
  {
   "cell_type": "code",
   "execution_count": 2,
   "metadata": {
    "editable": true,
    "slideshow": {
     "slide_type": ""
    },
    "tags": []
   },
   "outputs": [],
   "source": [
    "# Connect Cassandra-Driver to the Cluster running on the Docker:\n",
    "cluster = Cluster(['127.0.0.1'])\n",
    "session = cluster.connect()"
   ]
  },
  {
   "cell_type": "markdown",
   "metadata": {
    "editable": true,
    "slideshow": {
     "slide_type": ""
    },
    "tags": []
   },
   "source": [
    "Create out key space `books`.\n",
    "We will use `SimpleStrategy` and `replication_factor` = `1` as they serve us well for the purpose of this excsrsize - as we are not looking for any HA or significant scale"
   ]
  },
  {
   "cell_type": "code",
   "execution_count": 3,
   "metadata": {
    "editable": true,
    "slideshow": {
     "slide_type": ""
    },
    "tags": []
   },
   "outputs": [],
   "source": [
    "session.execute(\"CREATE KEYSPACE IF NOT EXISTS books WITH REPLICATION = { 'class' : 'SimpleStrategy', 'replication_factor' : 1 };\")"
   ]
  },
  {
   "cell_type": "markdown",
   "metadata": {
    "editable": true,
    "slideshow": {
     "slide_type": ""
    },
    "tags": []
   },
   "source": [
    "Make sure keyspace created"
   ]
  },
  {
   "cell_type": "code",
   "execution_count": 15,
   "metadata": {
    "editable": true,
    "slideshow": {
     "slide_type": ""
    },
    "tags": []
   },
   "outputs": [
    {
     "data": {
      "text/plain": [
       "Row(keyspace_name='books', type='keyspace', name='books', create_statement=\"CREATE KEYSPACE books WITH replication = {'class': 'SimpleStrategy', 'replication_factor': '1'}  AND durable_writes = true;\")"
      ]
     },
     "execution_count": 15,
     "metadata": {},
     "output_type": "execute_result"
    }
   ],
   "source": [
    "session.execute(\"DESCRIBE books;\").one()"
   ]
  },
  {
   "cell_type": "markdown",
   "metadata": {
    "editable": true,
    "slideshow": {
     "slide_type": ""
    },
    "tags": []
   },
   "source": [
    "Use the keyspace"
   ]
  },
  {
   "cell_type": "code",
   "execution_count": 14,
   "metadata": {
    "editable": true,
    "slideshow": {
     "slide_type": ""
    },
    "tags": []
   },
   "outputs": [],
   "source": [
    "session.execute(\"USE books\");"
   ]
  },
  {
   "cell_type": "markdown",
   "metadata": {},
   "source": [
    "We will set up a helper function to assist in executing an ingestion of a single row."
   ]
  },
  {
   "cell_type": "code",
   "execution_count": 26,
   "metadata": {
    "editable": true,
    "slideshow": {
     "slide_type": ""
    },
    "tags": []
   },
   "outputs": [
    {
     "data": {
      "text/plain": [
       "<cassandra.cluster.ResultSet at 0x10faa8d50>"
      ]
     },
     "execution_count": 26,
     "metadata": {},
     "output_type": "execute_result"
    }
   ],
   "source": [
    "session.execute(\"\"\"\n",
    "    CREATE TABLE IF NOT EXISTS books (\n",
    "        ISBN text PRIMARY KEY,\n",
    "        Book_Title text,\n",
    "        Book_Author text,\n",
    "        Year_Of_Publication int,\n",
    "        Publisher text,\n",
    "        Image_URL_S text,\n",
    "        Image_URL_M text,\n",
    "        Image_URL_L text\n",
    "    )\n",
    "\"\"\")"
   ]
  },
  {
   "cell_type": "code",
   "execution_count": 27,
   "metadata": {
    "editable": true,
    "slideshow": {
     "slide_type": ""
    },
    "tags": []
   },
   "outputs": [
    {
     "data": {
      "text/plain": [
       "<cassandra.cluster.ResultSet at 0x112fc7210>"
      ]
     },
     "execution_count": 27,
     "metadata": {},
     "output_type": "execute_result"
    }
   ],
   "source": [
    "session.execute(\"\"\"\n",
    "    CREATE TABLE IF NOT EXISTS book_ratings (\n",
    "        User_ID text,\n",
    "        ISBN text,\n",
    "        Book_Rating int,\n",
    "        PRIMARY KEY(User_ID, ISBN)\n",
    "    )\n",
    "\"\"\")"
   ]
  },
  {
   "cell_type": "code",
   "execution_count": 28,
   "metadata": {
    "editable": true,
    "slideshow": {
     "slide_type": ""
    },
    "tags": []
   },
   "outputs": [
    {
     "data": {
      "text/plain": [
       "<cassandra.cluster.ResultSet at 0x111652c50>"
      ]
     },
     "execution_count": 28,
     "metadata": {},
     "output_type": "execute_result"
    }
   ],
   "source": [
    "session.execute(\"\"\"\n",
    "    CREATE TABLE IF NOT EXISTS users (\n",
    "        User_ID text PRIMARY KEY,\n",
    "        Location text,\n",
    "        Age float\n",
    "    )\n",
    "\"\"\")"
   ]
  },
  {
   "cell_type": "markdown",
   "metadata": {
    "editable": true,
    "slideshow": {
     "slide_type": ""
    },
    "tags": []
   },
   "source": [
    "## Step 6: Data ingestion"
   ]
  },
  {
   "cell_type": "markdown",
   "metadata": {},
   "source": [
    "*Data ingestion function*\n",
    "`load_data` function reads data from a CSV file, splits it into batches, and inserts the data into a table using concurrency.\n",
    "\n",
    "Batches and concurrency are important for improving the performance and efficiency of inserting large amounts of data into a database table.\n",
    "\n",
    "When inserting data into a database table, it is possible to insert row by row, or to insert multiple rows at once as a batch. Inserting data in a batch greatly improves the performance of inserting data into the database, as it reduces the number of round trips to the database and can ensure that the data is consistent. This is more efficient than inserting one row at a time, which can be slow and can lead to unnecessary overhead.\n",
    "\n",
    "Concurrency is important because it allows multiple threads to be used when inserting data into a database table. This improves performance by allowing multiple inserts to happen simultaneously, which can greatly increase the speed of inserting large amounts of data. Without concurrency, each insert operation would have to wait for the previous insert to complete, leading to a slower overall process.\n",
    "\n",
    "In summary, using batches and concurrency can greatly improve the performance and efficiency of inserting large amounts of data into a database table, resulting in faster insert times and better use of system resources.\n",
    "\n"
   ]
  },
  {
   "cell_type": "code",
   "execution_count": 48,
   "metadata": {
    "editable": true,
    "slideshow": {
     "slide_type": ""
    },
    "tags": []
   },
   "outputs": [],
   "source": [
    "def load_data(csv_file, insert_query, batch_size=100, concurrency=20):        \n",
    "    \n",
    "    def insert_data(rows):\n",
    "        batch = BatchStatement()\n",
    "        for row in rows:\n",
    "            batch.add(SimpleStatement(insert_query), tuple(row))\n",
    "        session.execute(batch)\n",
    "    \n",
    "    with open(csv_file, \"r\") as f:\n",
    "        next(f)  # Skip the header row.\n",
    "        reader = list(csv.reader(f))\n",
    "\n",
    "    # split to batches\n",
    "    rows = [reader[i: i + batch_size] for i in range(0, len(reader), batch_size)] \n",
    "    \n",
    "    with concurrent.futures.ThreadPoolExecutor(max_workers=concurrency) as executor:\n",
    "        executor.map(insert_data, rows)"
   ]
  },
  {
   "cell_type": "markdown",
   "metadata": {},
   "source": [
    "##### Define the files"
   ]
  },
  {
   "cell_type": "code",
   "execution_count": 31,
   "metadata": {},
   "outputs": [],
   "source": [
    "Files = namedtuple(\"Files\", \"users ratings books\")\n",
    "\n",
    "files = Files(\n",
    "    users='Data/Users.csv',\n",
    "    ratings='Data/Ratings.csv',\n",
    "    books='Data/Books.csv'\n",
    ")\n",
    "\n"
   ]
  },
  {
   "cell_type": "markdown",
   "metadata": {},
   "source": [
    "##### Investigate the content"
   ]
  },
  {
   "cell_type": "code",
   "execution_count": 33,
   "metadata": {},
   "outputs": [],
   "source": [
    "def csv_file_size(file_name):\n",
    "    with open(file_name, \"r\") as file:\n",
    "        return len(file.readlines())"
   ]
  },
  {
   "cell_type": "code",
   "execution_count": 36,
   "metadata": {},
   "outputs": [
    {
     "name": "stdout",
     "output_type": "stream",
     "text": [
      "file sizes are - users: 278859, ratings: 1149780, books: 271360\n"
     ]
    }
   ],
   "source": [
    "users_file_size = csv_file_size(files.users) - 1\n",
    "ratings_file_size = csv_file_size(files.ratings) - 1\n",
    "books_file_size = csv_file_size(files.books) - 1\n",
    "\n",
    "print(f\"file sizes are - users: {users_file_size}, ratings: {ratings_file_size}, books: {books_file_size}\")"
   ]
  },
  {
   "cell_type": "code",
   "execution_count": 49,
   "metadata": {},
   "outputs": [],
   "source": [
    "ratings_query = \"\"\"\n",
    "            INSERT INTO book_ratings (User_ID, ISBN, Book_Rating)\n",
    "            VALUES (%s, %s, %s)\n",
    "            \"\"\"\n",
    "load_data(files.ratings, ratings_query)"
   ]
  },
  {
   "cell_type": "code",
   "execution_count": 44,
   "metadata": {},
   "outputs": [],
   "source": [
    "users_query = \"\"\"\n",
    "                INSERT INTO users (User_ID, Location, Age)\n",
    "                VALUES (%s, %s, %s)\n",
    "                \"\"\"\n",
    "load_data(files.users, users_query)"
   ]
  },
  {
   "cell_type": "code",
   "execution_count": 39,
   "metadata": {},
   "outputs": [],
   "source": [
    "books_query = \"\"\"\n",
    "            INSERT INTO books (ISBN, Book_Title, Book_Author, Year_Of_Publication, Publisher, Image_URL_S, Image_URL_M, Image_URL_L)\n",
    "            VALUES (%s, %s, %s, %s, %s, %s, %s, %s)\n",
    "            \"\"\"\n",
    "load_data(files.books, books_query)"
   ]
  },
  {
   "cell_type": "markdown",
   "metadata": {},
   "source": [
    "#### Verify all data was inserted\n"
   ]
  },
  {
   "cell_type": "code",
   "execution_count": 45,
   "metadata": {
    "id": "CqgzndRPl8ig"
   },
   "outputs": [
    {
     "data": {
      "text/plain": [
       "0"
      ]
     },
     "execution_count": 45,
     "metadata": {},
     "output_type": "execute_result"
    }
   ],
   "source": [
    "def num_of_records(table):\n",
    "    count_query = f\"SELECT COUNT(1) FROM {table}\"\n",
    "    result = session.execute(count_query)\n",
    "    return result.one().count\n",
    "\n",
    "num_of_records(\"users\")"
   ]
  },
  {
   "cell_type": "code",
   "execution_count": 38,
   "metadata": {
    "id": "CqgzndRPl8ig"
   },
   "outputs": [
    {
     "data": {
      "text/plain": [
       "Row(count=157963)"
      ]
     },
     "execution_count": 38,
     "metadata": {},
     "output_type": "execute_result"
    }
   ],
   "source": [
    "count_query = \"SELECT COUNT(*) FROM books\"\n",
    "result = session.execute(count_query)\n",
    "result.one()"
   ]
  },
  {
   "cell_type": "markdown",
   "metadata": {
    "id": "RITM59YXmH4j"
   },
   "source": [
    "## Step 3: Creating Tables"
   ]
  },
  {
   "cell_type": "code",
   "execution_count": null,
   "metadata": {
    "id": "zqT93A8vn0bw"
   },
   "outputs": [],
   "source": [
    "USE university;"
   ]
  },
  {
   "cell_type": "code",
   "execution_count": null,
   "metadata": {
    "id": "JV0Pz_GQmMnh"
   },
   "outputs": [],
   "source": [
    "CREATE TABLE students (\n",
    "  student_id UUID PRIMARY KEY,\n",
    "  name TEXT,\n",
    "  email TEXT,\n",
    "  enrollment_year INT\n",
    ");"
   ]
  },
  {
   "cell_type": "code",
   "execution_count": null,
   "metadata": {
    "id": "02fK86SXmQHb"
   },
   "outputs": [],
   "source": [
    "CREATE TABLE courses (\n",
    "  course_id UUID PRIMARY KEY,\n",
    "  course_name TEXT,\n",
    "  lecturer_id UUID,\n",
    "  credits INT\n",
    ");"
   ]
  },
  {
   "cell_type": "code",
   "execution_count": null,
   "metadata": {
    "id": "WdYS-5WumUk_"
   },
   "outputs": [],
   "source": [
    "CREATE TABLE lecturers (\n",
    "  lecturer_id UUID PRIMARY KEY,\n",
    "  name TEXT,\n",
    "  department TEXT\n",
    ");"
   ]
  },
  {
   "cell_type": "code",
   "execution_count": null,
   "metadata": {
    "id": "gbMd2MPImUf2"
   },
   "outputs": [],
   "source": [
    "CREATE TABLE course_enrollments (\n",
    "  course_id UUID,\n",
    "  student_id UUID,\n",
    "  enrollment_date DATE,\n",
    "  PRIMARY KEY (course_id, student_id)\n",
    ");"
   ]
  },
  {
   "cell_type": "code",
   "execution_count": null,
   "metadata": {
    "id": "FHYmBtyLondX"
   },
   "outputs": [],
   "source": [
    "# To validate you created the tables\n",
    "cqlsh:university> DESCRIBE tables;"
   ]
  },
  {
   "cell_type": "code",
   "execution_count": null,
   "metadata": {
    "id": "J-q-ylFgorvH"
   },
   "outputs": [],
   "source": [
    "# The output should be:\n",
    "course_enrollments  courses  lecturers  students"
   ]
  },
  {
   "cell_type": "markdown",
   "metadata": {
    "id": "b5xPLjFMoSTD"
   },
   "source": [
    "## Step 4: Inserting data"
   ]
  },
  {
   "cell_type": "code",
   "execution_count": null,
   "metadata": {
    "id": "GdypCEKcoU8z"
   },
   "outputs": [],
   "source": [
    "# Inserting data into students\n",
    "INSERT INTO students (student_id, name, email, enrollment_year) VALUES (550e8400-e29b-41d4-a716-446655440000, 'John Doe', 'john.doe@email.com', 2021);\n",
    "INSERT INTO students (student_id, name, email, enrollment_year) VALUES (652e8500-f39c-42d5-b517-557655450001, 'Jane Smith', 'jane.smith@email.com', 2020);\n",
    "INSERT INTO students (student_id, name, enrollment_year) VALUES (753e8600-e49d-53e6-c628-668655460002, 'Alice Johnson', 2019);"
   ]
  },
  {
   "cell_type": "code",
   "execution_count": null,
   "metadata": {
    "id": "3eVO-KPgqydK"
   },
   "outputs": [],
   "source": [
    "# Inserting data into lecturers\n",
    "INSERT INTO lecturers (lecturer_id, name, department) VALUES (860e9700-a59e-63f7-d739-779655470003, 'Dr. James Watson', 'Biology');\n",
    "INSERT INTO lecturers (lecturer_id, name, department) VALUES (961e9800-b69f-73c8-e840-889655480004, 'Dr. Emma Wilson', 'Physics');\n",
    "INSERT INTO lecturers (lecturer_id, name) VALUES (072e9900-d710-83e9-f951-990655490005, 'Prof. Michael Brown');"
   ]
  },
  {
   "cell_type": "code",
   "execution_count": null,
   "metadata": {
    "id": "KKJY9rykqybM"
   },
   "outputs": [],
   "source": [
    "# Inserting data into courses\n",
    "INSERT INTO courses (course_id, lecturer_id, course_name, credits) VALUES (183fa000-f821-93a0-b062-a96655650006, 860e9700-a59e-63f7-d739-779655470003, 'Biology 101', 3);\n",
    "INSERT INTO courses (course_id, lecturer_id, course_name, credits) VALUES (284fb000-a932-a4b1-c173-b97755660007, 961e9800-b69f-73c8-e840-889655480004, 'Physics 101', 4);\n",
    "INSERT INTO courses (course_id, lecturer_id, course_name, credits) VALUES (385fc000-d043-b5e2-f284-c98855670008, 072e9900-d710-83e9-f951-990655490005, 'Mathematics 101', 3);"
   ]
  },
  {
   "cell_type": "code",
   "execution_count": null,
   "metadata": {
    "id": "2v7CHt7Oq1Kr"
   },
   "outputs": [],
   "source": [
    "# Inserting data into course_enrollments\n",
    "INSERT INTO course_enrollments (course_id, student_id, enrollment_date) VALUES (183fa000-f821-93a0-b062-a96655650006, 550e8400-e29b-41d4-a716-446655440000, '2023-10-01');\n",
    "INSERT INTO course_enrollments (course_id, student_id, enrollment_date) VALUES (284fb000-a932-a4b1-c173-b97755660007, 652e8500-f39c-42d5-b517-557655450001, '2023-09-15');\n",
    "INSERT INTO course_enrollments (course_id, student_id) VALUES (385fc000-d043-b5e2-f284-c98855670008, 753e8600-e49d-53e6-c628-668655460002);"
   ]
  },
  {
   "cell_type": "markdown",
   "metadata": {
    "id": "CTJ-LM7dtpWz"
   },
   "source": [
    "## Step 5: Querying the data"
   ]
  },
  {
   "cell_type": "code",
   "execution_count": 1,
   "metadata": {
    "id": "IJX_ipvKtoDq"
   },
   "outputs": [],
   "source": [
    "# Get all students\n",
    "SELECT * FROM STUDENTS\n",
    "\n",
    ">>\n",
    " student_id                           | email                | enrollment_year | name\n",
    "--------------------------------------+----------------------+-----------------+---------------\n",
    " 753e8600-e49d-53e6-c628-668655460002 |                 null |            2019 | Alice Johnson\n",
    " 652e8500-f39c-42d5-b517-557655450001 | jane.smith@email.com |            2020 |    Jane Smith\n",
    " 550e8400-e29b-41d4-a716-446655440000 |   john.doe@email.com |            2021 |      John Doe\n",
    " (3 rows)"
   ]
  },
  {
   "cell_type": "code",
   "execution_count": null,
   "metadata": {
    "id": "RNCzZzX4tuQq"
   },
   "outputs": [],
   "source": [
    "# Get the list of students who enrolled after 2020 along with their email and the courses they enrolled in\n",
    "SELECT student_id, name, email\n",
    "FROM students\n",
    "WHERE enrollment_year > 2020 ALLOW FILTERING;\n",
    "\n",
    ">>\n",
    " student_id                           | name     | email\n",
    "--------------------------------------+----------+--------------------\n",
    " 550e8400-e29b-41d4-a716-446655440000 | John Doe | john.doe@email.com\n",
    "\n",
    "(1 rows)"
   ]
  },
  {
   "cell_type": "code",
   "execution_count": null,
   "metadata": {
    "id": "fMhyryctvil9"
   },
   "outputs": [],
   "source": [
    "# Find all courses and count of students enrolled in them\n",
    "SELECT course_id, COUNT(student_id) as student_count\n",
    "FROM course_enrollments\n",
    "GROUP BY course_id;\n",
    "\n",
    ">>\n",
    " course_id                            | student_count\n",
    "--------------------------------------+---------------\n",
    " 183fa000-f821-93a0-b062-a96655650006 |             1\n",
    " 385fc000-d043-b5e2-f284-c98855670008 |             1\n",
    " 284fb000-a932-a4b1-c173-b97755660007 |             1\n",
    "\n",
    "(3 rows)"
   ]
  }
 ],
 "metadata": {
  "colab": {
   "provenance": []
  },
  "kernelspec": {
   "display_name": "Python 3 (ipykernel)",
   "language": "python",
   "name": "python3"
  },
  "language_info": {
   "codemirror_mode": {
    "name": "ipython",
    "version": 3
   },
   "file_extension": ".py",
   "mimetype": "text/x-python",
   "name": "python",
   "nbconvert_exporter": "python",
   "pygments_lexer": "ipython3",
   "version": "3.11.7"
  }
 },
 "nbformat": 4,
 "nbformat_minor": 4
}
