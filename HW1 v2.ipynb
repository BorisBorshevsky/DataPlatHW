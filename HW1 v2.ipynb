{
 "cells": [
  {
   "cell_type": "markdown",
   "metadata": {
    "id": "QcxOIdPuj4zS"
   },
   "source": [
    "# HW 1 - Data Platform IDC\n",
    "ID1: 308564293\n",
    "\n",
    "ID2: 311898746"
   ]
  },
  {
   "cell_type": "markdown",
   "metadata": {
    "id": "qr7oPwN2kp01"
   },
   "source": [
    "## Step 1: Setup Cassandra Cluster locally -"
   ]
  },
  {
   "cell_type": "markdown",
   "metadata": {
    "editable": true,
    "id": "2RtlqrV1ktnv",
    "slideshow": {
     "slide_type": ""
    },
    "tags": []
   },
   "source": [
    "> Code is in markdown as we don't want to run this from the notebook\n",
    "> The setup is oriented for mac env"
   ]
  },
  {
   "cell_type": "markdown",
   "metadata": {
    "editable": true,
    "id": "KTMrqGmDkw3b",
    "slideshow": {
     "slide_type": ""
    },
    "tags": []
   },
   "source": [
    "Make sure Docker Desktop is installed. If not, download and install Docker from the official website [Get Docker | Docker Docs](https://docs.docker.com/get-docker/)."
   ]
  },
  {
   "cell_type": "markdown",
   "metadata": {
    "editable": true,
    "slideshow": {
     "slide_type": ""
    },
    "tags": []
   },
   "source": [
    "Download docker image for cassandra\n",
    "```bash\n",
    "docker pull cassandra:latest\n",
    "```"
   ]
  },
  {
   "cell_type": "markdown",
   "metadata": {
    "editable": true,
    "slideshow": {
     "slide_type": ""
    },
    "tags": []
   },
   "source": [
    "Run container locally open for conncetion from the notebook\n",
    "```bash\n",
    "docker run --volume=/var/lib/cassandra --restart=no -p 127.0.0.1:9042:9042 -p 127.0.0.1:9160:9160 --name hw-cass -d cassandra:latest\n",
    "```"
   ]
  },
  {
   "cell_type": "markdown",
   "metadata": {
    "editable": true,
    "slideshow": {
     "slide_type": ""
    },
    "tags": []
   },
   "source": [
    "Connect to run `cqlsh` locally\n",
    "```bash\n",
    "docker exec -it hw-cass cqlsh\n",
    "```"
   ]
  },
  {
   "cell_type": "markdown",
   "metadata": {
    "editable": true,
    "slideshow": {
     "slide_type": ""
    },
    "tags": []
   },
   "source": [
    "## Step 2: setup python environment"
   ]
  },
  {
   "cell_type": "markdown",
   "metadata": {
    "editable": true,
    "slideshow": {
     "slide_type": ""
    },
    "tags": []
   },
   "source": [
    "install python\n",
    "```bash\n",
    "brew install python\n",
    "```"
   ]
  },
  {
   "cell_type": "markdown",
   "metadata": {
    "editable": true,
    "slideshow": {
     "slide_type": ""
    },
    "tags": []
   },
   "source": [
    "install required libraries\n",
    "\n",
    "Install libraries\n",
    "```bash\n",
    "pip3 install cassandra-driver\n",
    "pip3 install pandas\n",
    "```"
   ]
  },
  {
   "cell_type": "markdown",
   "metadata": {
    "editable": true,
    "id": "uvV_bF1Elk9I",
    "slideshow": {
     "slide_type": ""
    },
    "tags": []
   },
   "source": [
    "## Step 3: Chossing the dataset"
   ]
  },
  {
   "cell_type": "markdown",
   "metadata": {
    "editable": true,
    "slideshow": {
     "slide_type": ""
    },
    "tags": []
   },
   "source": [
    "##### Data set content - [Dataset link.](https://www.kaggle.com/datasets/arashnic/book-recommendation-dataset/data)\n",
    "The Book-Crossing dataset has 3 files and is given in .csv form.\n",
    "\n",
    "\n",
    "`Users` Has 3 colums:\n",
    "* User-ID (int): Anonymized user identifier mapped to integers.\n",
    "* Location (text): Demographic information about the user's location.\n",
    "* Age (float): Age of the user. May contain NULL-values if not available.\n",
    "\n",
    "Rows:  279K, each identifing a user.\n",
    "\n",
    "`Books` Has 8 columns:\n",
    "* SBN (text): Unique identifier for each book.\n",
    "* Book-Title (text): Title of the book.\n",
    "* Book-Author (text): Author of the book. In case of multiple authors, only the first one is provided.\n",
    "* Year-Of-Publication (int): The year when the book was published.\n",
    "* Publisher (text): The publisher of the book.\n",
    "* Image-URL-S, Image-URL-M, Image-URL-L (text): URLs linking to cover images in small, medium, and large sizes.\n",
    "\n",
    "Rows: 271K, that identify books.\n",
    "\n",
    "`Ratings` Has 3 columns:\n",
    "* User-ID (int): Anonymized user identifier corresponding to Users table.\n",
    "* ISBN (text): Unique identifier corresponding to Books table.\n",
    "* Book-Rating (int): User's rating for a particular book. Explicit ratings are on a scale from 1-10, while implicit ratings are expressed as 0.\n",
    "\n",
    "Rows: 1.14M, each representing an interaction where a user rated a specific (single) book.\n",
    "\n",
    "\n",
    "#### Dataset Selection\n",
    "* The dataset was selected for it's very large size (14 columsn and over 1.5M rows) that will allow us to explore Cassandra's strengths with large datasets.\n",
    "* The dataset is also realistic, reflecting a real-life scenario of different data soruces and systems that are interconnected. \n",
    "* Data is relatively well organized and clean.\n",
    "\n",
    "**In this project:** The data set is stored in the `Data` folder - where the names of the files are corresponding to the explnation above."
   ]
  },
  {
   "attachments": {},
   "cell_type": "markdown",
   "metadata": {
    "editable": true,
    "slideshow": {
     "slide_type": ""
    },
    "tags": []
   },
   "source": [
    "## Step 4: Cassendra Database design\n",
    "Our dataset will consist of three Cassandra tables that correspond to the different entities in the DB: `Ratings`, `Books` and `Users`.\n",
    "\n",
    "Each table has a different purpose, information, keys and columns. \n",
    "Further, We can assume each entity has originated form a differnet data collection method, so it makes senese to keep them separated in three tables.\n",
    "\n",
    "##### `book_ratings`\n",
    "* **Structure**: User-ID: int, ISBN: text, Book-Rating: int\n",
    "* **Primary key**: (User-ID, ISBN)\n",
    "* **Partition Key**: User-ID\n",
    "* **Clustering Column**: ISBN\n",
    "\n",
    "Since we need a pair of user ID and ISBN to identify a transaction, they are both included in the primary key.\n",
    "    \n",
    "The partition key is selected to be User-ID as it has high cardinality (even spread of data).\n",
    "\n",
    "##### `books`\n",
    "* **Structure**: ISBN: text, Book-Title: text, Book-Author: text, Year-Of-Publication: int, Publisher: text, Image-URL-S: text, Image-URL-M: text, Image-URL-L: text\n",
    "* **Primary key**: (ISBN, Book-Author, Publisher)\n",
    "* **Partition Key**: ISBN\n",
    "* **Clustering Column**: Book-Author, Publisher\n",
    "\n",
    "ISBN is a unique identifier per book so it's a good partition key. Clustering keys are seleted to be publisher and author which are expected to have multiple entries.\n",
    "\n",
    "##### `users`\n",
    "* **Structure**: User-ID: int, Location: text, Age: float (for some cases age was not present, we decided to store this as 0 since age is part of the clustering key)\n",
    "* **Primary key**: (User-ID, Location, Age)\n",
    "* **Partition Key**: User-ID\n",
    "* **Clustering Column**: Location, Age\n",
    "\n",
    "User-ID is a unique identifier per user so it's a good partition key. Clustering keys are seleted to be Location and Age which are expected aggregations.\n",
    "\n"
   ]
  },
  {
   "cell_type": "markdown",
   "metadata": {
    "editable": true,
    "slideshow": {
     "slide_type": ""
    },
    "tags": []
   },
   "source": [
    "## Step 5: Setup keyspace and tables"
   ]
  },
  {
   "cell_type": "markdown",
   "metadata": {
    "editable": true,
    "slideshow": {
     "slide_type": ""
    },
    "tags": []
   },
   "source": [
    "First - We would like to load all the libraries need for ingestion and working with the cassandra DB"
   ]
  },
  {
   "cell_type": "code",
   "execution_count": 54,
   "metadata": {
    "editable": true,
    "slideshow": {
     "slide_type": ""
    },
    "tags": []
   },
   "outputs": [],
   "source": [
    "# Cassandra-driver\n",
    "from cassandra.cluster import Cluster\n",
    "from cassandra.query import SimpleStatement, BatchStatement\n",
    "\n",
    "# Data\n",
    "import csv\n",
    "import pandas as pd\n",
    "import concurrent.futures\n",
    "from collections import namedtuple"
   ]
  },
  {
   "cell_type": "markdown",
   "metadata": {
    "editable": true,
    "slideshow": {
     "slide_type": ""
    },
    "tags": []
   },
   "source": [
    "Connect to our cassandra instance."
   ]
  },
  {
   "cell_type": "code",
   "execution_count": 55,
   "metadata": {
    "editable": true,
    "slideshow": {
     "slide_type": ""
    },
    "tags": []
   },
   "outputs": [],
   "source": [
    "# Connect Cassandra-Driver to the Cluster running on the Docker:\n",
    "cluster = Cluster(['127.0.0.1'])\n",
    "session = cluster.connect()"
   ]
  },
  {
   "cell_type": "markdown",
   "metadata": {
    "editable": true,
    "slideshow": {
     "slide_type": ""
    },
    "tags": []
   },
   "source": [
    "Create out key space `books`.\n",
    "We will use `SimpleStrategy` and `replication_factor` = `1` as they serve us well for the purpose of this excsrsize - as we are not looking for any HA or significant scale"
   ]
  },
  {
   "cell_type": "code",
   "execution_count": 60,
   "metadata": {
    "editable": true,
    "slideshow": {
     "slide_type": ""
    },
    "tags": []
   },
   "outputs": [],
   "source": [
    "session.execute(\"CREATE KEYSPACE IF NOT EXISTS books WITH REPLICATION = { 'class' : 'SimpleStrategy', 'replication_factor' : 1 };\")"
   ]
  },
  {
   "cell_type": "markdown",
   "metadata": {
    "editable": true,
    "slideshow": {
     "slide_type": ""
    },
    "tags": []
   },
   "source": [
    "Make sure keyspace created"
   ]
  },
  {
   "cell_type": "code",
   "execution_count": 61,
   "metadata": {
    "editable": true,
    "slideshow": {
     "slide_type": ""
    },
    "tags": []
   },
   "outputs": [
    {
     "data": {
      "text/plain": [
       "\"CREATE KEYSPACE books WITH replication = {'class': 'SimpleStrategy', 'replication_factor': '1'}  AND durable_writes = true;\""
      ]
     },
     "execution_count": 61,
     "metadata": {},
     "output_type": "execute_result"
    }
   ],
   "source": [
    "session.execute(\"DESCRIBE books;\").one()[3]"
   ]
  },
  {
   "cell_type": "markdown",
   "metadata": {
    "editable": true,
    "slideshow": {
     "slide_type": ""
    },
    "tags": []
   },
   "source": [
    "Use the keyspace"
   ]
  },
  {
   "cell_type": "code",
   "execution_count": 62,
   "metadata": {
    "editable": true,
    "slideshow": {
     "slide_type": ""
    },
    "tags": []
   },
   "outputs": [],
   "source": [
    "session.execute(\"USE books\");"
   ]
  },
  {
   "cell_type": "markdown",
   "metadata": {},
   "source": [
    "##### Table creation: \n",
    "Next, we will create the tables according to the DB schema."
   ]
  },
  {
   "cell_type": "code",
   "execution_count": 124,
   "metadata": {
    "editable": true,
    "slideshow": {
     "slide_type": ""
    },
    "tags": []
   },
   "outputs": [],
   "source": [
    "session.execute(\"\"\"\n",
    "    CREATE TABLE IF NOT EXISTS books (\n",
    "        ISBN text,\n",
    "        Book_Title text,\n",
    "        Book_Author text,\n",
    "        Publisher text,\n",
    "        Year_Of_Publication int,       \n",
    "        Image_URL_S text,\n",
    "        Image_URL_M text,\n",
    "        Image_URL_L text,\n",
    "        PRIMARY KEY (ISBN, Book_Author, Publisher)\n",
    "    )\n",
    "\"\"\").one()"
   ]
  },
  {
   "cell_type": "code",
   "execution_count": 64,
   "metadata": {
    "editable": true,
    "slideshow": {
     "slide_type": ""
    },
    "tags": []
   },
   "outputs": [],
   "source": [
    "session.execute(\"\"\"\n",
    "    CREATE TABLE IF NOT EXISTS book_ratings (\n",
    "        User_ID int,\n",
    "        ISBN text,\n",
    "        Book_Rating int,\n",
    "        PRIMARY KEY(User_ID, ISBN)\n",
    "    )\n",
    "\"\"\").one()"
   ]
  },
  {
   "cell_type": "code",
   "execution_count": 81,
   "metadata": {
    "editable": true,
    "slideshow": {
     "slide_type": ""
    },
    "tags": []
   },
   "outputs": [],
   "source": [
    "session.execute(\"\"\"\n",
    "    CREATE TABLE IF NOT EXISTS users (\n",
    "        User_ID int,\n",
    "        Location text,\n",
    "        Age float,\n",
    "        PRIMARY KEY (User_ID, Location, Age)\n",
    "    )\n",
    "\"\"\").one()"
   ]
  },
  {
   "cell_type": "markdown",
   "metadata": {},
   "source": [
    "##### Validation:"
   ]
  },
  {
   "cell_type": "code",
   "execution_count": 66,
   "metadata": {},
   "outputs": [
    {
     "data": {
      "text/plain": [
       "[Row(keyspace_name='books', type='table', name='book_ratings'),\n",
       " Row(keyspace_name='books', type='table', name='books'),\n",
       " Row(keyspace_name='books', type='table', name='users')]"
      ]
     },
     "execution_count": 66,
     "metadata": {},
     "output_type": "execute_result"
    }
   ],
   "source": [
    "session.execute(\"\"\"DESCRIBE tables;\"\"\")[0:]"
   ]
  },
  {
   "cell_type": "markdown",
   "metadata": {
    "editable": true,
    "slideshow": {
     "slide_type": ""
    },
    "tags": []
   },
   "source": [
    "## Step 6: Data ingestion"
   ]
  },
  {
   "cell_type": "markdown",
   "metadata": {},
   "source": [
    "*Data Ingestion function*\n",
    "`load_data` function reads data from a CSV file, splits it into batches, and inserts the data into a table using concurrency.\n",
    "\n",
    "Batches and concurrency are important for improving the performance and efficiency of inserting large amounts of data into a database table.\n",
    "\n",
    "When inserting data into a database table, it is possible to insert row by row, or to insert multiple rows at once as a batch. Inserting data in a batch greatly improves the performance of inserting data into the database, as it reduces the number of round trips to the database and can ensure that the data is consistent. This is more efficient than inserting one row at a time, which can be slow and can lead to unnecessary overhead.\n",
    "\n",
    "Concurrency is important because it allows multiple threads to be used when inserting data into a database table. This improves performance by allowing multiple inserts to happen simultaneously, which can greatly increase the speed of inserting large amounts of data. Without concurrency, each insert operation would have to wait for the previous insert to complete, leading to a slower overall process.\n",
    "\n",
    "In summary, using batches and concurrency can greatly improve the performance and efficiency of inserting large amounts of data into a database table, resulting in faster insert times and better use of system resources.\n",
    "\n"
   ]
  },
  {
   "cell_type": "code",
   "execution_count": 115,
   "metadata": {
    "editable": true,
    "slideshow": {
     "slide_type": ""
    },
    "tags": []
   },
   "outputs": [],
   "source": [
    "# Helper function to construct the batch operation and then run concurrently\n",
    "def load_data_concurrent(csv_file, insert_query, data_types, batch_size=100, concurrency=20, max_batches=None):        \n",
    "    '''Load data from a CSV file into a Cassandra table using batch inserts.\n",
    "        Inputs:\n",
    "        1. csv_file: str\n",
    "            Path to the CSV file.\n",
    "        2. insert_query: str\n",
    "            CQL query for inserting data into the Cassandra table. \n",
    "        3. data_types: list\n",
    "            List of data types corresponding to the columns in the CSV file.\n",
    "        4. batch_size: int, optional (default=100)\n",
    "            Number of rows in each batch.\n",
    "        5. concurrency: int, optional (default=20)\n",
    "            Number of threads for parallel execution.\n",
    "\n",
    "        Returns: Tuple with converted data.\n",
    "    '''\n",
    "    # Helper functions\n",
    "    def convert_data(row):\n",
    "        # Convert a single row's data to the correct format according to the data_types\n",
    "        \n",
    "        converted_data = [data_type(value) if value else data_types() for value, data_type in zip(row, data_types)]\n",
    "        return tuple(converted_data)\n",
    "\n",
    "    def build_batch(rows):\n",
    "        # Build a batch statement for the current set of rows (single batch)\n",
    "        batch = BatchStatement()\n",
    "        for row in rows:\n",
    "            # Convert data types\n",
    "            converted_row = convert_data(row)\n",
    "            # Create the query and add it to the batch\n",
    "            #print(converted_row)\n",
    "            batch.add(insert_query, converted_row)\n",
    "        session.execute(batch, trace=True)\n",
    "\n",
    "    # Function body\n",
    "    # open CSV\n",
    "    with open(csv_file, \"r\") as f:\n",
    "        next(f)  # Skip the header row.\n",
    "        reader = list(csv.reader(f))\n",
    "\n",
    "    # split to batches\n",
    "    rows = [reader[i: i + batch_size] for i in range(0, len(reader), batch_size)][:max_batches]\n",
    "    \n",
    "    # concurrently run each batch\n",
    "    with concurrent.futures.ThreadPoolExecutor(max_workers=concurrency) as executor:\n",
    "        executor.map(build_batch, rows)"
   ]
  },
  {
   "cell_type": "markdown",
   "metadata": {},
   "source": [
    "##### Define the files"
   ]
  },
  {
   "cell_type": "code",
   "execution_count": 2,
   "metadata": {},
   "outputs": [
    {
     "ename": "NameError",
     "evalue": "name 'namedtuple' is not defined",
     "output_type": "error",
     "traceback": [
      "\u001b[0;31m---------------------------------------------------------------------------\u001b[0m",
      "\u001b[0;31mNameError\u001b[0m                                 Traceback (most recent call last)",
      "Cell \u001b[0;32mIn[2], line 1\u001b[0m\n\u001b[0;32m----> 1\u001b[0m Files \u001b[38;5;241m=\u001b[39m \u001b[43mnamedtuple\u001b[49m(\u001b[38;5;124m\"\u001b[39m\u001b[38;5;124mFiles\u001b[39m\u001b[38;5;124m\"\u001b[39m, \u001b[38;5;124m\"\u001b[39m\u001b[38;5;124musers ratings books\u001b[39m\u001b[38;5;124m\"\u001b[39m)\n\u001b[1;32m      3\u001b[0m files \u001b[38;5;241m=\u001b[39m Files(\n\u001b[1;32m      4\u001b[0m     users\u001b[38;5;241m=\u001b[39m\u001b[38;5;124m'\u001b[39m\u001b[38;5;124mData/Users.csv\u001b[39m\u001b[38;5;124m'\u001b[39m,\n\u001b[1;32m      5\u001b[0m     ratings\u001b[38;5;241m=\u001b[39m\u001b[38;5;124m'\u001b[39m\u001b[38;5;124mData/Ratings.csv\u001b[39m\u001b[38;5;124m'\u001b[39m,\n\u001b[1;32m      6\u001b[0m     books\u001b[38;5;241m=\u001b[39m\u001b[38;5;124m'\u001b[39m\u001b[38;5;124mData/Books.csv\u001b[39m\u001b[38;5;124m'\u001b[39m\n\u001b[1;32m      7\u001b[0m )\n",
      "\u001b[0;31mNameError\u001b[0m: name 'namedtuple' is not defined"
     ]
    }
   ],
   "source": [
    "Files = namedtuple(\"Files\", \"users ratings books\")\n",
    "\n",
    "files = Files(\n",
    "    users='Data/Users.csv',\n",
    "    ratings='Data/Ratings.csv',\n",
    "    books='Data/Books.csv'\n",
    ")\n"
   ]
  },
  {
   "cell_type": "markdown",
   "metadata": {},
   "source": [
    "##### Investigate the content"
   ]
  },
  {
   "cell_type": "code",
   "execution_count": null,
   "metadata": {},
   "outputs": [],
   "source": [
    "def count_lines(file_name):\n",
    "    with open(file_name, \"r\") as file:\n",
    "        return len(file.readlines())"
   ]
  },
  {
   "cell_type": "code",
   "execution_count": null,
   "metadata": {},
   "outputs": [],
   "source": [
    "users_file_size = csv_file_size(files.users) - 1\n",
    "ratings_file_size = csv_file_size(files.ratings) - 1\n",
    "books_file_size = csv_file_size(files.books) - 1\n",
    "\n",
    "print(f\"file sizes are - users: {users_file_size}, ratings: {ratings_file_size}, books: {books_file_size}\")"
   ]
  },
  {
   "cell_type": "code",
   "execution_count": null,
   "metadata": {},
   "outputs": [],
   "source": [
    "def num_of_records(table):\n",
    "    count_query = f\"SELECT COUNT(1) FROM {table}\"\n",
    "    result = session.execute(count_query)\n",
    "    return result.one().count"
   ]
  },
  {
   "cell_type": "markdown",
   "metadata": {},
   "source": [
    "#### Data Ingestion:\n",
    "Now we will ingest the data using the `load_data_concurrent` fucntion and validate for each table that the number of rows matches the number in the CSV.\n",
    "\n",
    "##### `book_ratings`:"
   ]
  },
  {
   "cell_type": "code",
   "execution_count": 68,
   "metadata": {},
   "outputs": [],
   "source": [
    "## book_ratings table\n",
    "# Insertion Query\n",
    "ratings_query = \"\"\"\n",
    "            INSERT INTO book_ratings (User_ID, ISBN, Book_Rating)\n",
    "            VALUES (%s, %s, %s)\n",
    "            \"\"\"\n",
    "\n",
    "# A list of data types for this table\n",
    "ratings_data_types = [int, str, int]  # User_ID, ISBN, Book_Rating\n",
    "\n",
    "# load data\n",
    "load_data_concurrent(files.ratings, ratings_query, ratings_data_types)"
   ]
  },
  {
   "cell_type": "markdown",
   "metadata": {},
   "source": [
    "##### Book ratings - Validate all inserted"
   ]
  },
  {
   "cell_type": "code",
   "execution_count": 70,
   "metadata": {
    "id": "CqgzndRPl8ig"
   },
   "outputs": [],
   "source": [
    "# Row count validation\n",
    "cass_len = session.execute(\"SELECT COUNT(*) FROM book_ratings\").one().count\n",
    "\n",
    "line_count = count_lines(files.ratings)\n",
    "\n",
    "assert cass_len == csv_len - 1"
   ]
  },
  {
   "cell_type": "markdown",
   "metadata": {},
   "source": [
    "##### `users`:"
   ]
  },
  {
   "cell_type": "code",
   "execution_count": 82,
   "metadata": {},
   "outputs": [],
   "source": [
    "## users table\n",
    "# Insertion Query\n",
    "users_query = \"\"\"\n",
    "                INSERT INTO users (User_ID, Location, Age)\n",
    "                VALUES (%s, %s, %s)\n",
    "                \"\"\"\n",
    "\n",
    "# A list of data types for this table\n",
    "users_data_types = [int, str, float]  # User_ID, Location, Age\n",
    "\n",
    "# load data\n",
    "load_data_concurrent(files.users, users_query, users_data_types)"
   ]
  },
  {
   "cell_type": "markdown",
   "metadata": {},
   "source": [
    "Validation:"
   ]
  },
  {
   "cell_type": "code",
   "execution_count": 86,
   "metadata": {},
   "outputs": [],
   "source": [
    "# Row count validation\n",
    "row_count = session.execute(\"SELECT COUNT(1) FROM users\").one().count\n",
    "line_count = count_lines(files.users)\n",
    "\n",
    "assert row_count == line_count - 1, f\"{row_count} != {line_count - 1}\""
   ]
  },
  {
   "cell_type": "markdown",
   "metadata": {},
   "source": [
    "##### `books`:"
   ]
  },
  {
   "cell_type": "code",
   "execution_count": 116,
   "metadata": {},
   "outputs": [],
   "source": [
    "## books table\n",
    "# Insertion Query\n",
    "books_query = \"\"\"\n",
    "            INSERT INTO books (ISBN, Book_Title, Book_Author, Year_Of_Publication, Publisher, Image_URL_S, Image_URL_M, Image_URL_L)\n",
    "            VALUES (%s, %s, %s, %s, %s, %s, %s, %s)\n",
    "            \"\"\"\n",
    "\n",
    "# A list of data types for this table\n",
    "books_data_types = [str, str, str, int, str, str, str, str]  # ISBN,Book-Title,Book-Author,Year-Of-Publication,Publisher,Image-URL-S,Image-URL-M,Image-URL-L\n",
    "\n",
    "# load data\n",
    "load_data_concurrent(files.books, books_query, books_data_types, batch_size=100)"
   ]
  },
  {
   "cell_type": "markdown",
   "metadata": {},
   "source": [
    "##### Validation - Books table - all data is inserted"
   ]
  },
  {
   "cell_type": "code",
   "execution_count": 123,
   "metadata": {},
   "outputs": [
    {
     "ename": "AssertionError",
     "evalue": "271357 != 271360",
     "output_type": "error",
     "traceback": [
      "\u001b[0;31m---------------------------------------------------------------------------\u001b[0m",
      "\u001b[0;31mAssertionError\u001b[0m                            Traceback (most recent call last)",
      "Cell \u001b[0;32mIn[123], line 5\u001b[0m\n\u001b[1;32m      2\u001b[0m row_count \u001b[38;5;241m=\u001b[39m session\u001b[38;5;241m.\u001b[39mexecute(\u001b[38;5;124m\"\u001b[39m\u001b[38;5;124mSELECT COUNT(*) FROM books\u001b[39m\u001b[38;5;124m\"\u001b[39m)\u001b[38;5;241m.\u001b[39mone()\u001b[38;5;241m.\u001b[39mcount\n\u001b[1;32m      3\u001b[0m line_count \u001b[38;5;241m=\u001b[39m count_lines(\u001b[38;5;124m'\u001b[39m\u001b[38;5;124mData/Books.csv\u001b[39m\u001b[38;5;124m'\u001b[39m)\n\u001b[0;32m----> 5\u001b[0m \u001b[38;5;28;01massert\u001b[39;00m row_count \u001b[38;5;241m==\u001b[39m line_count \u001b[38;5;241m-\u001b[39m \u001b[38;5;241m1\u001b[39m, \u001b[38;5;124mf\u001b[39m\u001b[38;5;124m\"\u001b[39m\u001b[38;5;132;01m{\u001b[39;00mrow_count\u001b[38;5;132;01m}\u001b[39;00m\u001b[38;5;124m != \u001b[39m\u001b[38;5;132;01m{\u001b[39;00mline_count\u001b[38;5;250m \u001b[39m\u001b[38;5;241m-\u001b[39m\u001b[38;5;250m \u001b[39m\u001b[38;5;241m1\u001b[39m\u001b[38;5;132;01m}\u001b[39;00m\u001b[38;5;124m\"\u001b[39m\n",
      "\u001b[0;31mAssertionError\u001b[0m: 271357 != 271360"
     ]
    }
   ],
   "source": [
    "# Row count validation\n",
    "row_count = session.execute(\"SELECT COUNT(1) FROM books\").one().count\n",
    "line_count = count_lines(files.books)\n",
    "\n",
    "assert row_count == line_count - 1, f\"{row_count} != {line_count - 1}\""
   ]
  },
  {
   "cell_type": "markdown",
   "metadata": {
    "id": "RITM59YXmH4j"
   },
   "source": [
    "## Step 3: Creating Tables"
   ]
  },
  {
   "cell_type": "code",
   "execution_count": null,
   "metadata": {
    "id": "zqT93A8vn0bw"
   },
   "outputs": [],
   "source": [
    "USE university;"
   ]
  },
  {
   "cell_type": "code",
   "execution_count": null,
   "metadata": {
    "id": "JV0Pz_GQmMnh"
   },
   "outputs": [],
   "source": [
    "CREATE TABLE students (\n",
    "  student_id UUID PRIMARY KEY,\n",
    "  name TEXT,\n",
    "  email TEXT,\n",
    "  enrollment_year INT\n",
    ");"
   ]
  },
  {
   "cell_type": "code",
   "execution_count": null,
   "metadata": {
    "id": "02fK86SXmQHb"
   },
   "outputs": [],
   "source": [
    "CREATE TABLE courses (\n",
    "  course_id UUID PRIMARY KEY,\n",
    "  course_name TEXT,\n",
    "  lecturer_id UUID,\n",
    "  credits INT\n",
    ");"
   ]
  },
  {
   "cell_type": "code",
   "execution_count": null,
   "metadata": {
    "id": "WdYS-5WumUk_"
   },
   "outputs": [],
   "source": [
    "CREATE TABLE lecturers (\n",
    "  lecturer_id UUID PRIMARY KEY,\n",
    "  name TEXT,\n",
    "  department TEXT\n",
    ");"
   ]
  },
  {
   "cell_type": "code",
   "execution_count": null,
   "metadata": {
    "id": "gbMd2MPImUf2"
   },
   "outputs": [],
   "source": [
    "CREATE TABLE course_enrollments (\n",
    "  course_id UUID,\n",
    "  student_id UUID,\n",
    "  enrollment_date DATE,\n",
    "  PRIMARY KEY (course_id, student_id)\n",
    ");"
   ]
  },
  {
   "cell_type": "code",
   "execution_count": null,
   "metadata": {
    "id": "FHYmBtyLondX"
   },
   "outputs": [],
   "source": [
    "# To validate you created the tables\n",
    "cqlsh:university> DESCRIBE tables;"
   ]
  },
  {
   "cell_type": "code",
   "execution_count": null,
   "metadata": {
    "id": "J-q-ylFgorvH"
   },
   "outputs": [],
   "source": [
    "# The output should be:\n",
    "course_enrollments  courses  lecturers  students"
   ]
  },
  {
   "cell_type": "markdown",
   "metadata": {
    "id": "CTJ-LM7dtpWz"
   },
   "source": [
    "## Step 5: Querying the data"
   ]
  },
  {
   "cell_type": "code",
   "execution_count": null,
   "metadata": {
    "id": "IJX_ipvKtoDq"
   },
   "outputs": [],
   "source": [
    "# Get all students\n",
    "SELECT * FROM STUDENTS\n",
    "\n",
    ">>\n",
    " student_id                           | email                | enrollment_year | name\n",
    "--------------------------------------+----------------------+-----------------+---------------\n",
    " 753e8600-e49d-53e6-c628-668655460002 |                 null |            2019 | Alice Johnson\n",
    " 652e8500-f39c-42d5-b517-557655450001 | jane.smith@email.com |            2020 |    Jane Smith\n",
    " 550e8400-e29b-41d4-a716-446655440000 |   john.doe@email.com |            2021 |      John Doe\n",
    " (3 rows)"
   ]
  },
  {
   "cell_type": "code",
   "execution_count": null,
   "metadata": {
    "id": "RNCzZzX4tuQq"
   },
   "outputs": [],
   "source": [
    "# Get the list of students who enrolled after 2020 along with their email and the courses they enrolled in\n",
    "SELECT student_id, name, email\n",
    "FROM students\n",
    "WHERE enrollment_year > 2020 ALLOW FILTERING;\n",
    "\n",
    ">>\n",
    " student_id                           | name     | email\n",
    "--------------------------------------+----------+--------------------\n",
    " 550e8400-e29b-41d4-a716-446655440000 | John Doe | john.doe@email.com\n",
    "\n",
    "(1 rows)"
   ]
  },
  {
   "cell_type": "code",
   "execution_count": null,
   "metadata": {
    "id": "fMhyryctvil9"
   },
   "outputs": [],
   "source": [
    "# Find all courses and count of students enrolled in them\n",
    "SELECT course_id, COUNT(student_id) as student_count\n",
    "FROM course_enrollments\n",
    "GROUP BY course_id;\n",
    "\n",
    ">>\n",
    " course_id                            | student_count\n",
    "--------------------------------------+---------------\n",
    " 183fa000-f821-93a0-b062-a96655650006 |             1\n",
    " 385fc000-d043-b5e2-f284-c98855670008 |             1\n",
    " 284fb000-a932-a4b1-c173-b97755660007 |             1\n",
    "\n",
    "(3 rows)"
   ]
  }
 ],
 "metadata": {
  "colab": {
   "provenance": []
  },
  "kernelspec": {
   "display_name": "Python 3 (ipykernel)",
   "language": "python",
   "name": "python3"
  },
  "language_info": {
   "codemirror_mode": {
    "name": "ipython",
    "version": 3
   },
   "file_extension": ".py",
   "mimetype": "text/x-python",
   "name": "python",
   "nbconvert_exporter": "python",
   "pygments_lexer": "ipython3",
   "version": "3.11.7"
  }
 },
 "nbformat": 4,
 "nbformat_minor": 4
}
