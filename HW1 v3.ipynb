{
 "cells": [
  {
   "cell_type": "markdown",
   "metadata": {
    "id": "QcxOIdPuj4zS"
   },
   "source": [
    "# HW 1 - Data Platform IDC\n",
    "ID1: 308564293\n",
    "\n",
    "ID2: 311898746"
   ]
  },
  {
   "cell_type": "markdown",
   "metadata": {
    "id": "qr7oPwN2kp01"
   },
   "source": [
    "## Step 1: Setup Cassandra Cluster locally -"
   ]
  },
  {
   "cell_type": "markdown",
   "metadata": {
    "editable": true,
    "id": "2RtlqrV1ktnv",
    "slideshow": {
     "slide_type": ""
    },
    "tags": []
   },
   "source": [
    "> Code is in markdown as we don't want to run this from the notebook\n",
    "> The setup is oriented for mac env"
   ]
  },
  {
   "cell_type": "markdown",
   "metadata": {
    "editable": true,
    "id": "KTMrqGmDkw3b",
    "slideshow": {
     "slide_type": ""
    },
    "tags": []
   },
   "source": [
    "Make sure Docker Desktop is installed. If not, download and install Docker from the official website [Get Docker | Docker Docs](https://docs.docker.com/get-docker/)."
   ]
  },
  {
   "cell_type": "markdown",
   "metadata": {
    "editable": true,
    "slideshow": {
     "slide_type": ""
    },
    "tags": []
   },
   "source": [
    "Download docker image for cassandra\n",
    "```bash\n",
    "docker pull cassandra:latest\n",
    "```"
   ]
  },
  {
   "cell_type": "markdown",
   "metadata": {
    "editable": true,
    "slideshow": {
     "slide_type": ""
    },
    "tags": []
   },
   "source": [
    "Run container locally open for conncetion from the notebook\n",
    "```bash\n",
    "docker run --volume=/var/lib/cassandra --restart=no -p 127.0.0.1:9042:9042 -p 127.0.0.1:9160:9160 --name hw-cass -d cassandra:latest\n",
    "```"
   ]
  },
  {
   "cell_type": "markdown",
   "metadata": {
    "editable": true,
    "slideshow": {
     "slide_type": ""
    },
    "tags": []
   },
   "source": [
    "Connect to run `cqlsh` locally\n",
    "```bash\n",
    "docker exec -it hw-cass cqlsh\n",
    "```"
   ]
  },
  {
   "cell_type": "markdown",
   "metadata": {
    "editable": true,
    "slideshow": {
     "slide_type": ""
    },
    "tags": []
   },
   "source": [
    "## Step 2: setup python environment"
   ]
  },
  {
   "cell_type": "markdown",
   "metadata": {
    "editable": true,
    "slideshow": {
     "slide_type": ""
    },
    "tags": []
   },
   "source": [
    "install python\n",
    "```bash\n",
    "brew install python\n",
    "```"
   ]
  },
  {
   "cell_type": "markdown",
   "metadata": {
    "editable": true,
    "slideshow": {
     "slide_type": ""
    },
    "tags": []
   },
   "source": [
    "install required libraries\n",
    "\n",
    "Install libraries\n",
    "```bash\n",
    "pip3 install cassandra-driver\n",
    "pip3 install pandas\n",
    "```"
   ]
  },
  {
   "cell_type": "markdown",
   "metadata": {
    "editable": true,
    "id": "uvV_bF1Elk9I",
    "slideshow": {
     "slide_type": ""
    },
    "tags": []
   },
   "source": [
    "## Step 3: Chossing the dataset"
   ]
  },
  {
   "cell_type": "markdown",
   "metadata": {
    "editable": true,
    "slideshow": {
     "slide_type": ""
    },
    "tags": []
   },
   "source": [
    "##### Data set content - [Dataset link.](https://www.kaggle.com/datasets/arashnic/book-recommendation-dataset/data)\n",
    "The Book-Crossing dataset has 3 files and is given in .csv form.\n",
    "\n",
    "\n",
    "`Users` Has 3 colums:\n",
    "* User-ID (int): Anonymized user identifier mapped to integers.\n",
    "* Location (text): Demographic information about the user's location.\n",
    "* Age (float): Age of the user. May contain NULL-values if not available.\n",
    "\n",
    "Rows:  279K, each identifing a user.\n",
    "\n",
    "`Books` Has 8 columns:\n",
    "* SBN (text): Unique identifier for each book.\n",
    "* Book-Title (text): Title of the book.\n",
    "* Book-Author (text): Author of the book. In case of multiple authors, only the first one is provided.\n",
    "* Year-Of-Publication (int): The year when the book was published.\n",
    "* Publisher (text): The publisher of the book.\n",
    "* Image-URL-S, Image-URL-M, Image-URL-L (text): URLs linking to cover images in small, medium, and large sizes.\n",
    "\n",
    "Rows: 271K, that identify books.\n",
    "\n",
    "`Ratings` Has 3 columns:\n",
    "* User-ID (int): Anonymized user identifier corresponding to Users table.\n",
    "* ISBN (text): Unique identifier corresponding to Books table.\n",
    "* Book-Rating (int): User's rating for a particular book. Explicit ratings are on a scale from 1-10, while implicit ratings are expressed as 0.\n",
    "\n",
    "Rows: 1.14M, each representing an interaction where a user rated a specific (single) book.\n",
    "\n",
    "\n",
    "#### Dataset Selection\n",
    "* The dataset was selected for it's very large size (14 columsn and over 1.5M rows) that will allow us to explore Cassandra's strengths with large datasets.\n",
    "* The dataset is also realistic, reflecting a real-life scenario of different data soruces and systems that are interconnected. \n",
    "* Data is relatively well organized and clean.\n",
    "\n",
    "**In this project:** The data set is stored in the `Data` folder - where the names of the files are corresponding to the explnation above."
   ]
  },
  {
   "attachments": {},
   "cell_type": "markdown",
   "metadata": {
    "editable": true,
    "slideshow": {
     "slide_type": ""
    },
    "tags": []
   },
   "source": [
    "## Step 4: Cassendra Database design\n",
    "\n",
    "##### Databse Design\n",
    "The DB will be designed in accordance to the queries that we will want to run:\n",
    "* Queries related to the books rating, number of rates, avg rating.\n",
    "* Queries related to authors, most rated authors, highest rated authors.\n",
    "* Most active users (users with highest rating counts) and their locations.\n",
    "\n",
    "From this the structure of the DB will be built to reflect these queries. \n",
    "`books` and `users` will be tables that correspond to a database of books and users with their full information.\n",
    "\n",
    "`books_rated_by_user` will contain each transaction (rating event) keyed by the book ID. Similalry, `users_by_rated_books` will contrain the same transaction information but keyed by the user.\n",
    "\n",
    "This will allow us to access data based on book ID or user ID and also preform aggregations on each of the partition keys.\n",
    "\n",
    "##### `books`\n",
    "* **Structure**: ISBN: text, Book-Title: text, Book-Author: text, Year-Of-Publication: int, Publisher: text, Image-URL-S: text, Image-URL-M: text, Image-URL-L: text\n",
    "* **Primary key**: (ISBN, Book-Author, Publisher)\n",
    "* **Partition Key**: ISBN\n",
    "* **Clustering Column**: Book-Author, Publisher\n",
    "\n",
    "ISBN is a unique identifier per book so it will be the partition key.\n",
    "\n",
    "\n",
    "##### `users`\n",
    "* **Structure**: User-ID: int, Location: text, Age: float (for some cases age was not present, we decided to store this as 0 since age is part of the clustering key)\n",
    "* **Primary key**: (User-ID, Location, Age)\n",
    "* **Partition Key**: User-ID\n",
    "* **Clustering Column**: Location, Age\n",
    "\n",
    "User-ID is a unique identifier per user so it's a good partition key. Clustering keys are seleted to be Location and Age which are expected aggregations.\n",
    "\n"
   ]
  },
  {
   "cell_type": "markdown",
   "metadata": {
    "editable": true,
    "slideshow": {
     "slide_type": ""
    },
    "tags": []
   },
   "source": [
    "## Step 5: Setup keyspace and tables"
   ]
  },
  {
   "cell_type": "markdown",
   "metadata": {
    "editable": true,
    "slideshow": {
     "slide_type": ""
    },
    "tags": []
   },
   "source": [
    "First - We would like to load all the libraries need for ingestion and working with the cassandra DB"
   ]
  },
  {
   "cell_type": "code",
   "execution_count": 2,
   "metadata": {
    "editable": true,
    "slideshow": {
     "slide_type": ""
    },
    "tags": []
   },
   "outputs": [],
   "source": [
    "# Cassandra-driver\n",
    "from cassandra.cluster import Cluster\n",
    "from cassandra.query import SimpleStatement, BatchStatement\n",
    "\n",
    "# Data\n",
    "import csv\n",
    "import pandas as pd\n",
    "import concurrent.futures\n",
    "from collections import namedtuple"
   ]
  },
  {
   "cell_type": "markdown",
   "metadata": {
    "editable": true,
    "slideshow": {
     "slide_type": ""
    },
    "tags": []
   },
   "source": [
    "Connect to our cassandra instance."
   ]
  },
  {
   "cell_type": "code",
   "execution_count": 3,
   "metadata": {
    "editable": true,
    "slideshow": {
     "slide_type": ""
    },
    "tags": []
   },
   "outputs": [],
   "source": [
    "# Connect Cassandra-Driver to the Cluster running on the Docker:\n",
    "cluster = Cluster(['127.0.0.1'])\n",
    "session = cluster.connect()"
   ]
  },
  {
   "cell_type": "markdown",
   "metadata": {
    "editable": true,
    "slideshow": {
     "slide_type": ""
    },
    "tags": []
   },
   "source": [
    "Create out key space `books`.\n",
    "We will use `SimpleStrategy` and `replication_factor` = `1` as they serve us well for the purpose of this excsrsize - as we are not looking for any HA or significant scale"
   ]
  },
  {
   "cell_type": "code",
   "execution_count": 4,
   "metadata": {
    "editable": true,
    "slideshow": {
     "slide_type": ""
    },
    "tags": []
   },
   "outputs": [
    {
     "data": {
      "text/plain": [
       "<cassandra.cluster.ResultSet at 0x110108040>"
      ]
     },
     "execution_count": 4,
     "metadata": {},
     "output_type": "execute_result"
    }
   ],
   "source": [
    "session.execute(\"CREATE KEYSPACE IF NOT EXISTS books WITH REPLICATION = { 'class' : 'SimpleStrategy', 'replication_factor' : 1 };\")"
   ]
  },
  {
   "cell_type": "markdown",
   "metadata": {
    "editable": true,
    "slideshow": {
     "slide_type": ""
    },
    "tags": []
   },
   "source": [
    "Make sure keyspace created"
   ]
  },
  {
   "cell_type": "code",
   "execution_count": 5,
   "metadata": {
    "editable": true,
    "slideshow": {
     "slide_type": ""
    },
    "tags": []
   },
   "outputs": [
    {
     "data": {
      "text/plain": [
       "\"CREATE KEYSPACE books WITH replication = {'class': 'SimpleStrategy', 'replication_factor': '1'}  AND durable_writes = true;\""
      ]
     },
     "execution_count": 5,
     "metadata": {},
     "output_type": "execute_result"
    }
   ],
   "source": [
    "session.execute(\"DESCRIBE books;\").one()[3]"
   ]
  },
  {
   "cell_type": "markdown",
   "metadata": {
    "editable": true,
    "slideshow": {
     "slide_type": ""
    },
    "tags": []
   },
   "source": [
    "Use the keyspace"
   ]
  },
  {
   "cell_type": "code",
   "execution_count": 6,
   "metadata": {
    "editable": true,
    "slideshow": {
     "slide_type": ""
    },
    "tags": []
   },
   "outputs": [],
   "source": [
    "session.execute(\"USE books\");"
   ]
  },
  {
   "cell_type": "markdown",
   "metadata": {},
   "source": [
    "##### Table creation: \n",
    "Next, we will create the tables according to the DB schema."
   ]
  },
  {
   "cell_type": "code",
   "execution_count": 11,
   "metadata": {
    "editable": true,
    "slideshow": {
     "slide_type": ""
    },
    "tags": []
   },
   "outputs": [],
   "source": [
    "session.execute(\"\"\"\n",
    "    CREATE TABLE IF NOT EXISTS books (\n",
    "        ISBN text,\n",
    "        Book_Title text,\n",
    "        Book_Author text,\n",
    "        Publisher text,\n",
    "        YOP int,       \n",
    "        Image_URL_S text,\n",
    "        Image_URL_M text,\n",
    "        Image_URL_L text,\n",
    "        PRIMARY KEY ((isbn))\n",
    "    )\n",
    "\"\"\").one()"
   ]
  },
  {
   "cell_type": "code",
   "execution_count": 12,
   "metadata": {
    "editable": true,
    "slideshow": {
     "slide_type": ""
    },
    "tags": []
   },
   "outputs": [],
   "source": [
    "session.execute(\"\"\"\n",
    "    CREATE TABLE IF NOT EXISTS users (\n",
    "        age float,\n",
    "        location text,\n",
    "        user_id int,\n",
    "        PRIMARY KEY(user_id)\n",
    "    )\n",
    "\"\"\").one()"
   ]
  },
  {
   "cell_type": "code",
   "execution_count": 13,
   "metadata": {
    "editable": true,
    "slideshow": {
     "slide_type": ""
    },
    "tags": []
   },
   "outputs": [],
   "source": [
    "session.execute(\"\"\"\n",
    "    CREATE TABLE IF NOT EXISTS books_rated_by_users (\n",
    "        user_id   int,\n",
    "        age int,\n",
    "        location text,\n",
    "        isbn   text,\n",
    "        book_author text,\n",
    "        yop int,\n",
    "        publisher text,\n",
    "        book_rating int,\n",
    "        primary key ((isbn), age, location, user_id)\n",
    "    )\n",
    "\"\"\").one()"
   ]
  },
  {
   "cell_type": "code",
   "execution_count": 14,
   "metadata": {},
   "outputs": [],
   "source": [
    "session.execute(\"\"\"\n",
    "    CREATE TABLE IF NOT EXISTS users_by_rated_books (\n",
    "        user_id   int,\n",
    "        age int,\n",
    "        location text,\n",
    "        isbn   text,\n",
    "        book_author text,\n",
    "        yop int,\n",
    "        publisher text,\n",
    "        book_rating int,\n",
    "        primary key ((user_id), publisher, isbn)\n",
    "    )\n",
    "\"\"\").one()"
   ]
  },
  {
   "cell_type": "markdown",
   "metadata": {},
   "source": [
    "##### Validation:"
   ]
  },
  {
   "cell_type": "code",
   "execution_count": 22,
   "metadata": {},
   "outputs": [
    {
     "data": {
      "text/plain": [
       "[Row(keyspace_name='books', type='table', name='book_ratings'),\n",
       " Row(keyspace_name='books', type='table', name='books'),\n",
       " Row(keyspace_name='books', type='table', name='books_rated_by_users'),\n",
       " Row(keyspace_name='books', type='table', name='users'),\n",
       " Row(keyspace_name='books', type='table', name='users_by_rated_books')]"
      ]
     },
     "execution_count": 22,
     "metadata": {},
     "output_type": "execute_result"
    }
   ],
   "source": [
    "session.execute(\"\"\"DESCRIBE tables;\"\"\").all()\n"
   ]
  },
  {
   "cell_type": "code",
   "execution_count": null,
   "metadata": {},
   "outputs": [],
   "source": []
  },
  {
   "cell_type": "markdown",
   "metadata": {
    "editable": true,
    "slideshow": {
     "slide_type": ""
    },
    "tags": []
   },
   "source": [
    "## Step 6: Data ingestion"
   ]
  },
  {
   "cell_type": "markdown",
   "metadata": {},
   "source": [
    "*Data Ingestion function*\n",
    "`load_data` function reads data from a CSV file, splits it into batches, and inserts the data into a table using concurrency.\n",
    "\n",
    "Batches and concurrency are important for improving the performance and efficiency of inserting large amounts of data into a database table.\n",
    "\n",
    "When inserting data into a database table, it is possible to insert row by row, or to insert multiple rows at once as a batch. Inserting data in a batch greatly improves the performance of inserting data into the database, as it reduces the number of round trips to the database and can ensure that the data is consistent. This is more efficient than inserting one row at a time, which can be slow and can lead to unnecessary overhead.\n",
    "\n",
    "Concurrency is important because it allows multiple threads to be used when inserting data into a database table. This improves performance by allowing multiple inserts to happen simultaneously, which can greatly increase the speed of inserting large amounts of data. Without concurrency, each insert operation would have to wait for the previous insert to complete, leading to a slower overall process.\n",
    "\n",
    "In summary, using batches and concurrency can greatly improve the performance and efficiency of inserting large amounts of data into a database table, resulting in faster insert times and better use of system resources.\n",
    "\n"
   ]
  },
  {
   "cell_type": "code",
   "execution_count": 24,
   "metadata": {},
   "outputs": [],
   "source": [
    "Files = namedtuple(\"Files\", \"users ratings books\")\n",
    "\n",
    "files = Files(\n",
    "    users='Data/Users.csv',\n",
    "    ratings='Data/Ratings.csv',\n",
    "    books='Data/Books.csv'\n",
    ")\n",
    "\n",
    "# Specify data types for each column\n",
    "books_data_types = {\n",
    "    'ISBN': str,\n",
    "    'Book-Title': str,\n",
    "    'Book-Author': str,\n",
    "    'Year-Of-Publication': int,  \n",
    "    'Publisher': str,\n",
    "    'Image-URL-S': str,\n",
    "    'Image-URL-M': str,\n",
    "    'Image-URL-L': str,\n",
    "}\n",
    "\n",
    "users_data_types = {\n",
    "    'User-ID': int,\n",
    "    'Location': str,\n",
    "    'Age': float,  \n",
    "}\n",
    "\n",
    "ratings_data_types = {\n",
    "    'User-ID': int,\n",
    "    'ISBN': str,\n",
    "    'Book-Rating': int,\n",
    "}\n",
    "\n",
    "\n",
    "df_books = pd.read_csv(files.books, dtype=books_data_types)\n",
    "df_users = pd.read_csv(files.users, dtype=users_data_types)\n",
    "df_ratings = pd.read_csv(files.ratings, dtype=ratings_data_types)\n",
    "\n",
    "# clean whitespaces\n",
    "df_books.columns = df_books.columns.str.strip()\n"
   ]
  },
  {
   "cell_type": "markdown",
   "metadata": {},
   "source": [
    "> Note - If that CSV files were beggier, we had to work in chaunks in loading the df."
   ]
  },
  {
   "cell_type": "code",
   "execution_count": 25,
   "metadata": {},
   "outputs": [],
   "source": [
    "# Merge df_ratings with df_users on 'user_id'\n",
    "df_merged = pd.merge(df_ratings, df_users, on='User-ID', how='inner')\n",
    "\n",
    "# Merge the result with df_books on 'isbn'\n",
    "df_merged = pd.merge(df_merged, df_books, on='ISBN', how='inner')\n",
    "\n",
    "# Select the desired columns for the new DataFrame\n",
    "df_merged = df_merged[['User-ID', 'Age', 'Location', 'ISBN', 'Book-Author', 'Year-Of-Publication', 'Publisher', 'Book-Rating']]\n",
    "\n",
    "# Remove rows with NaN values except for the 'Age' column from the existing DataFrame\n",
    "# this is useful since we have ratings for bools that not exist, this is less relevant for us\n",
    "df_merged.dropna(subset=df_merged.columns.difference(['Age']), inplace=True)"
   ]
  },
  {
   "cell_type": "markdown",
   "metadata": {},
   "source": [
    "#### Validate we only have NaN on age columns\n",
    "Other columnd with NaN specify broken data"
   ]
  },
  {
   "cell_type": "code",
   "execution_count": 27,
   "metadata": {},
   "outputs": [
    {
     "data": {
      "text/plain": [
       "User-ID                     0\n",
       "Age                    277835\n",
       "Location                    0\n",
       "ISBN                        0\n",
       "Book-Author                 0\n",
       "Year-Of-Publication         0\n",
       "Publisher                   0\n",
       "Book-Rating                 0\n",
       "dtype: int64"
      ]
     },
     "execution_count": 27,
     "metadata": {},
     "output_type": "execute_result"
    }
   ],
   "source": [
    "df_merged.isna().sum()"
   ]
  },
  {
   "cell_type": "code",
   "execution_count": 36,
   "metadata": {},
   "outputs": [],
   "source": [
    "# TODO: improve the data casting\n",
    "# Helper function to construct the batch operation and then run concurrently\n",
    "def df_load_data(df, insert_query, data_types, batch_size=100, max_batches=None):\n",
    "    '''Load data from a DataFrame into a Cassandra table using batch inserts.\n",
    "        Inputs:\n",
    "        1. df: pandas DataFrame\n",
    "            DataFrame containing the data to be inserted.\n",
    "        2. insert_query: str\n",
    "            CQL query for inserting data into the Cassandra table.\n",
    "        3. data_types: list\n",
    "            List of data types corresponding to the columns in the DataFrame.\n",
    "        4. batch_size: int, optional (default=100)\n",
    "            Number of rows in each batch.\n",
    "        5. concurrency: int, optional (default=20)\n",
    "            Number of threads for parallel execution.\n",
    "\n",
    "        Returns: None\n",
    "    '''\n",
    "    \n",
    "    # Helper functions\n",
    "    def convert_data(row):\n",
    "        # Convert a single row's data to the correct format according to the data_types\n",
    "        converted_data = [data_type(value) if pd.notna(value) else data_type() for value, data_type in zip(row, data_types)]\n",
    "        return tuple(converted_data)\n",
    "\n",
    "    def import_batch(rows):\n",
    "        # Build a batch statement for the current set of rows (single batch)\n",
    "        batch = BatchStatement()\n",
    "        for row in rows.itertuples(index=False):\n",
    "            # Convert data types\n",
    "            try:\n",
    "                converted_row = convert_data(row)\n",
    "                #converted_row = row\n",
    "                #print(row)\n",
    "                # Create the query and add it to the batch\n",
    "                batch.add(insert_query, converted_row)\n",
    "            except Exception as e:\n",
    "                print(f\"error on row: {row}, skipping\")\n",
    "        session.execute(batch, trace=True)\n",
    "\n",
    "    # Function body\n",
    "    # split DataFrame to batches\n",
    "    df_split = [df.iloc[i:i + batch_size] for i in range(0, len(df), batch_size)][:max_batches]\n",
    "\n",
    "    for batch in df_split:\n",
    "        import_batch(batch)\n",
    "\n",
    "# Example usage:\n",
    "# load_data_concurrent(new_df, \"INSERT INTO your_table_name (columns) VALUES (?, ?, ?)\", [int, str, float])\n"
   ]
  },
  {
   "cell_type": "code",
   "execution_count": 19,
   "metadata": {},
   "outputs": [
    {
     "data": {
      "text/plain": [
       "Index(['ISBN', 'Book-Title', 'Book-Author', 'Year-Of-Publication', 'Publisher',\n",
       "       'Image-URL-S', 'Image-URL-M', 'Image-URL-L'],\n",
       "      dtype='object')"
      ]
     },
     "execution_count": 19,
     "metadata": {},
     "output_type": "execute_result"
    }
   ],
   "source": [
    "df_books.columns"
   ]
  },
  {
   "cell_type": "markdown",
   "metadata": {},
   "source": [
    "##### Define the files"
   ]
  },
  {
   "cell_type": "markdown",
   "metadata": {},
   "source": [
    "##### Investigate the content"
   ]
  },
  {
   "cell_type": "code",
   "execution_count": null,
   "metadata": {},
   "outputs": [],
   "source": [
    "def count_lines(file_name):\n",
    "    with open(file_name, \"r\") as file:\n",
    "        return len(file.readlines()) - 1"
   ]
  },
  {
   "cell_type": "code",
   "execution_count": null,
   "metadata": {},
   "outputs": [
    {
     "name": "stdout",
     "output_type": "stream",
     "text": [
      "file sizes are - users: 278859, ratings: 1149780, books: 271360\n"
     ]
    }
   ],
   "source": [
    "users_file_size = count_lines(files.users)\n",
    "ratings_file_size = count_lines(files.ratings)\n",
    "books_file_size = count_lines(files.books)\n",
    "\n",
    "print(f\"file sizes are - users: {users_file_size}, ratings: {ratings_file_size}, books: {books_file_size}\")"
   ]
  },
  {
   "cell_type": "code",
   "execution_count": 29,
   "metadata": {},
   "outputs": [],
   "source": [
    "def num_of_records(table):\n",
    "    count_query = f\"SELECT COUNT(1) FROM {table}\"\n",
    "    result = session.execute(count_query)\n",
    "    return result.one().count"
   ]
  },
  {
   "cell_type": "markdown",
   "metadata": {},
   "source": [
    "#### Data Ingestion:\n",
    "Now we will ingest the data using the `load_data_concurrent` fucntion and validate for each table that the number of rows matches the number in the CSV.\n",
    "\n",
    "##### `books`:"
   ]
  },
  {
   "cell_type": "code",
   "execution_count": 23,
   "metadata": {},
   "outputs": [],
   "source": [
    "## books table\n",
    "# Insertion Query\n",
    "books_query = \"\"\"\n",
    "            INSERT INTO books (ISBN, Book_Title, Book_Author, yop, Publisher, Image_URL_S, Image_URL_M, Image_URL_L)\n",
    "            VALUES (%s, %s, %s, %s, %s, %s, %s, %s)\n",
    "            \"\"\"\n",
    "\n",
    "# A list of data types for this table\n",
    "books_data_types = [str, str, str, int, str, str, str, str] \n",
    "\n",
    "df_load_data(df_books, books_query, books_data_types)"
   ]
  },
  {
   "cell_type": "markdown",
   "metadata": {},
   "source": [
    "##### Book ratings - Validate all inserted"
   ]
  },
  {
   "cell_type": "code",
   "execution_count": 31,
   "metadata": {
    "id": "CqgzndRPl8ig"
   },
   "outputs": [],
   "source": [
    "# Row count validation\n",
    "cass_len = num_of_records(\"books\")\n",
    "\n",
    "assert cass_len == df_books.shape[0]"
   ]
  },
  {
   "cell_type": "markdown",
   "metadata": {},
   "source": [
    "##### `users`:"
   ]
  },
  {
   "cell_type": "code",
   "execution_count": 28,
   "metadata": {},
   "outputs": [],
   "source": [
    "# Insertion Query\n",
    "users_query = \"\"\"\n",
    "                INSERT INTO users (User_ID, Location, Age)\n",
    "                VALUES (%s, %s, %s)\n",
    "                \"\"\"\n",
    "\n",
    "# A list of data types for this table\n",
    "users_data_types = [int, str, float]  # User_ID, Location, Age\n",
    "\n",
    "# load data\n",
    "df_load_data(df_users, users_query, users_data_types)"
   ]
  },
  {
   "cell_type": "markdown",
   "metadata": {},
   "source": [
    "Validation:"
   ]
  },
  {
   "cell_type": "code",
   "execution_count": 32,
   "metadata": {},
   "outputs": [],
   "source": [
    "# Row count validation\n",
    "cass_len = num_of_records(\"users\")\n",
    "\n",
    "assert cass_len == df_users.shape[0]"
   ]
  },
  {
   "cell_type": "code",
   "execution_count": 33,
   "metadata": {},
   "outputs": [
    {
     "data": {
      "text/plain": [
       "Index(['User-ID', 'Age', 'Location', 'ISBN', 'Book-Author',\n",
       "       'Year-Of-Publication', 'Publisher', 'Book-Rating'],\n",
       "      dtype='object')"
      ]
     },
     "execution_count": 33,
     "metadata": {},
     "output_type": "execute_result"
    }
   ],
   "source": [
    "df_merged.columns"
   ]
  },
  {
   "cell_type": "markdown",
   "metadata": {},
   "source": [
    "##### `books_rated_by_user`:"
   ]
  },
  {
   "cell_type": "code",
   "execution_count": 44,
   "metadata": {},
   "outputs": [],
   "source": [
    "## books_rated_by_user table\n",
    "# Insertion Query\n",
    "books_rated_by_user_query = \"\"\"\n",
    "            INSERT INTO books_rated_by_user (User_ID, Age, Location, ISBN, Book_Author,\n",
    "            yop, Publisher, Book_Rating)\n",
    "            VALUES (%s, %s, %s, %s, %s, %s, %s, %s)\n",
    "            \"\"\"\n",
    "\n",
    "# A list of data types for this table\n",
    "brbu_data_types = [int, int, str, str, str, int, str, int]  \n",
    "\n",
    "# load data\n",
    "df_load_data(df_merged,books_rated_by_user_query, brbu_data_types)"
   ]
  },
  {
   "cell_type": "markdown",
   "metadata": {},
   "source": [
    "##### Validation - Books table - all data is inserted"
   ]
  },
  {
   "cell_type": "code",
   "execution_count": 45,
   "metadata": {},
   "outputs": [],
   "source": [
    "# Row count validation\n",
    "cass_len = num_of_records(\"books_rated_by_user\")\n",
    "\n",
    "assert cass_len == df_merged.shape[0]"
   ]
  },
  {
   "cell_type": "markdown",
   "metadata": {},
   "source": [
    "`users_rated_by_books`"
   ]
  },
  {
   "cell_type": "code",
   "execution_count": 46,
   "metadata": {},
   "outputs": [],
   "source": [
    "## books table\n",
    "# Insertion Query\n",
    "users_by_rated_books_query = \"\"\"\n",
    "            INSERT INTO users_by_rated_books (User_ID, Age, Location, ISBN, Book_Author,\n",
    "            yop, Publisher, Book_Rating)\n",
    "            VALUES (%s, %s, %s, %s, %s, %s, %s, %s)\n",
    "            \"\"\"\n",
    "\n",
    "# A list of data types for this table\n",
    "brbu_data_types = [int, int, str, str, str, int, str, int]  \n",
    "\n",
    "# load data\n",
    "df_load_data(df_merged,users_by_rated_books_query, brbu_data_types)"
   ]
  },
  {
   "cell_type": "markdown",
   "metadata": {},
   "source": [
    "Validation:"
   ]
  },
  {
   "cell_type": "code",
   "execution_count": 47,
   "metadata": {},
   "outputs": [],
   "source": [
    "# Row count validation\n",
    "cass_len = num_of_records(\"users_by_rated_books\")\n",
    "\n",
    "assert cass_len == df_merged.shape[0]"
   ]
  },
  {
   "cell_type": "markdown",
   "metadata": {
    "id": "RITM59YXmH4j"
   },
   "source": [
    "## Step 7: Data investigation"
   ]
  },
  {
   "cell_type": "markdown",
   "metadata": {},
   "source": [
    "- Book distribution by publisher - J\n",
    "- Book distribuiton by year - J\n",
    "- Book distribuiton by author - J\n",
    "- Avarage rating per user - J\n",
    "- Avarage rating per publisher - J\n",
    "- Popular Authors by Number of Ratings\n",
    "- Books with Highest Ratings and Most Ratings - ?\n",
    "\n",
    "- top rated book each year - B\n",
    "- top rated books by age - B \n",
    "- top rated authors by age - B,"
   ]
  },
  {
   "cell_type": "code",
   "execution_count": 50,
   "metadata": {},
   "outputs": [],
   "source": [
    "# count rankings per book\n",
    "\n",
    "result = session.execute(\"\"\"\n",
    "        SELECT isbn, COUNT(book_rating)\n",
    "        FROM books_rated_by_user\n",
    "        GROUP BY isbn;\n",
    "                \"\"\")"
   ]
  },
  {
   "cell_type": "code",
   "execution_count": null,
   "metadata": {},
   "outputs": [],
   "source": [
    "result.all()"
   ]
  },
  {
   "cell_type": "code",
   "execution_count": null,
   "metadata": {},
   "outputs": [],
   "source": [
    "# avg. rating per book\n",
    "result = session.execute(\"\"\"\n",
    "        SELECT isbn, AVG(book_rating) as avg\n",
    "        FROM books_rated_by_user\n",
    "        GROUP BY isbn;\n",
    "                \"\"\")\n",
    "result.all()"
   ]
  },
  {
   "cell_type": "code",
   "execution_count": null,
   "metadata": {},
   "outputs": [],
   "source": [
    "# avg book rating per age\n",
    "result = session.execute(\"\"\"\n",
    "        SELECT isbn, age, AVG(book_rating), COUNT(book_rating)\n",
    "        FROM books.books_rated_by_user\n",
    "        GROUP BY isbn;\n",
    "                \"\"\")\n",
    "result.all()"
   ]
  },
  {
   "cell_type": "code",
   "execution_count": 67,
   "metadata": {},
   "outputs": [],
   "source": [
    "# find locations of users with most rankings\n",
    "result = session.execute(\"\"\"\n",
    "        SELECT user_id, location, COUNT(book_rating) AS rating_count\n",
    "        FROM users_by_rated_books\n",
    "        GROUP BY user_id;\n",
    "                \"\"\")"
   ]
  },
  {
   "cell_type": "code",
   "execution_count": 69,
   "metadata": {},
   "outputs": [
    {
     "data": {
      "text/plain": [
       "[Row(user_id=4317, location='slfjk, alberta, brazil', rating_count=1),\n",
       " Row(user_id=121478, location='laporte, indiana, usa', rating_count=2),\n",
       " Row(user_id=176996, location='dunedin, otago, new zealand', rating_count=1),\n",
       " Row(user_id=143843, location='hamburg, norddeutschland, germany', rating_count=1),\n",
       " Row(user_id=123410, location='washington, dc, usa', rating_count=20),\n",
       " Row(user_id=180284, location='nashua, new hampshire, usa', rating_count=5),\n",
       " Row(user_id=230875, location='healdsburg, california, usa', rating_count=1),\n",
       " Row(user_id=62602, location='grimes, iowa, usa', rating_count=1),\n",
       " Row(user_id=118683, location='plaistow, new hampshire, usa', rating_count=8),\n",
       " Row(user_id=199679, location='normal, illinois, usa', rating_count=1),\n",
       " Row(user_id=228419, location='karlsruhe, baden-wuerttemberg, germany', rating_count=1),\n",
       " Row(user_id=64791, location='los angeles, california, usa', rating_count=1),\n",
       " Row(user_id=254343, location='new orleans, louisiana, usa', rating_count=1),\n",
       " Row(user_id=268657, location='petaling jaya, selangor darul ehsan, malaysia', rating_count=139),\n",
       " Row(user_id=127820, location='brightwood, oregon, usa', rating_count=1),\n",
       " Row(user_id=24299, location='tucson, arizona, usa', rating_count=1),\n",
       " Row(user_id=134446, location='ottawa, ontario, canada', rating_count=1),\n",
       " Row(user_id=203805, location='el cajon, california, usa', rating_count=12),\n",
       " Row(user_id=13909, location='göteborg, västragötaland, sweden', rating_count=1),\n",
       " Row(user_id=105358, location='castleton, new york, usa', rating_count=6),\n",
       " Row(user_id=40239, location='vancouver, british columbia, canada', rating_count=1),\n",
       " Row(user_id=167141, location='melbourne, victoria, australia', rating_count=1),\n",
       " Row(user_id=28386, location='toronto, ,', rating_count=5),\n",
       " Row(user_id=268582, location='hamilton, ontario, canada', rating_count=2),\n",
       " Row(user_id=47076, location='cork, munster, ireland', rating_count=1),\n",
       " Row(user_id=165371, location='putarajaya, n/a, malaysia', rating_count=2),\n",
       " Row(user_id=118193, location='brooklyn, new york, usa', rating_count=10),\n",
       " Row(user_id=41114, location='coventry, england, united kingdom', rating_count=2),\n",
       " Row(user_id=35243, location='barcelona, barcelona, spain', rating_count=3),\n",
       " Row(user_id=242061, location='new york, new york, usa', rating_count=2),\n",
       " Row(user_id=176022, location='sequim, washington, usa', rating_count=1),\n",
       " Row(user_id=222876, location='lodi, california, usa', rating_count=1),\n",
       " Row(user_id=131075, location='huntsville, alabama, usa', rating_count=1),\n",
       " Row(user_id=273321, location='evansville, indiana, usa', rating_count=4),\n",
       " Row(user_id=43690, location='beaumont, texas, usa', rating_count=1),\n",
       " Row(user_id=73584, location='richmond hill, ontario, canada', rating_count=1),\n",
       " Row(user_id=26713, location='santa cruz, california, usa', rating_count=35),\n",
       " Row(user_id=138963, location='toronto, ontario, canada', rating_count=1),\n",
       " Row(user_id=19221, location='omaha, nebraska, usa', rating_count=3),\n",
       " Row(user_id=142970, location='l mesa, california, usa', rating_count=1),\n",
       " Row(user_id=52744, location='dallas, texas, usa', rating_count=4),\n",
       " Row(user_id=49300, location='loveland, colorado, usa', rating_count=32),\n",
       " Row(user_id=257647, location='oviedo, asturias, spain', rating_count=1),\n",
       " Row(user_id=9067, location='erfurt, thueringen, germany', rating_count=1),\n",
       " Row(user_id=186864, location='newbury, ohio, usa', rating_count=2),\n",
       " Row(user_id=266601, location='corvallis, oregon, usa', rating_count=3),\n",
       " Row(user_id=171174, location='albuquerque, ,', rating_count=1),\n",
       " Row(user_id=159775, location='buenos aires, n/a, argentina', rating_count=1),\n",
       " Row(user_id=31676, location='media, pennsylvania, usa', rating_count=1),\n",
       " Row(user_id=111501, location='atlanta, georgia, usa', rating_count=1),\n",
       " Row(user_id=180189, location='dallas, texas, usa', rating_count=1),\n",
       " Row(user_id=163523, location='lr. sackville, nova scotia, canada', rating_count=9),\n",
       " Row(user_id=2731, location='victoria, british columbia, canada', rating_count=6),\n",
       " Row(user_id=58042, location='bedford, massachusetts, usa', rating_count=1),\n",
       " Row(user_id=45517, location='raleigh, north carolina, usa', rating_count=1),\n",
       " Row(user_id=137585, location='melbourne, victoria, australia', rating_count=2),\n",
       " Row(user_id=160886, location='purcellville, virginia, usa', rating_count=7),\n",
       " Row(user_id=81280, location='columbia, missouri, usa', rating_count=3),\n",
       " Row(user_id=87693, location='colorado springs, colorado, usa', rating_count=1),\n",
       " Row(user_id=136280, location='haifa, haifa, israel', rating_count=8),\n",
       " Row(user_id=172513, location='beaverton, oregon, usa', rating_count=1),\n",
       " Row(user_id=39782, location='bristol, virginia, usa', rating_count=3),\n",
       " Row(user_id=122908, location='tucson, arizona, usa', rating_count=1),\n",
       " Row(user_id=249044, location='shelby, alabama, usa', rating_count=4),\n",
       " Row(user_id=134087, location='ottawa, ontario, canada', rating_count=1),\n",
       " Row(user_id=28069, location='columbus, ohio, usa', rating_count=6),\n",
       " Row(user_id=68563, location='brockport, new york, usa', rating_count=1),\n",
       " Row(user_id=129095, location='bremen, bremen, germany', rating_count=1),\n",
       " Row(user_id=32582, location='encinitas, ,', rating_count=3),\n",
       " Row(user_id=127129, location='langley, british columbia, canada', rating_count=167),\n",
       " Row(user_id=37416, location='clarkdale, arizona, usa', rating_count=2),\n",
       " Row(user_id=135994, location='alta, california, usa', rating_count=1),\n",
       " Row(user_id=277969, location='alexandria, virginia, usa', rating_count=1),\n",
       " Row(user_id=267444, location='chesapeake, virginia, usa', rating_count=22),\n",
       " Row(user_id=197385, location='moers, nordrhein-westfalen, germany', rating_count=1),\n",
       " Row(user_id=83753, location='brighton, england, united kingdom', rating_count=2),\n",
       " Row(user_id=77480, location='gig harbor, washington, usa', rating_count=168),\n",
       " Row(user_id=192606, location='columbia, missouri, usa', rating_count=1),\n",
       " Row(user_id=111019, location='san antonio, texas, usa', rating_count=52),\n",
       " Row(user_id=61860, location='las cruces, new mexico, usa', rating_count=1),\n",
       " Row(user_id=227544, location='clichy, ile de france, france', rating_count=7),\n",
       " Row(user_id=42005, location='phoenix, arizona, usa', rating_count=2),\n",
       " Row(user_id=262964, location='weston-super-mare, england, united kingdom', rating_count=1),\n",
       " Row(user_id=247201, location='derby, western australia, australia', rating_count=65),\n",
       " Row(user_id=185364, location='new york, new york, usa', rating_count=1),\n",
       " Row(user_id=30868, location='whittier, california, usa', rating_count=1),\n",
       " Row(user_id=146821, location='santa monica, california, usa', rating_count=1),\n",
       " Row(user_id=161218, location='ploiesti, prahova, romania', rating_count=1),\n",
       " Row(user_id=257457, location='yuba city, california, usa', rating_count=1),\n",
       " Row(user_id=19124, location='kyongsan, kyongpook, south korea', rating_count=1),\n",
       " Row(user_id=256995, location='espanola, ontario, canada', rating_count=1),\n",
       " Row(user_id=88512, location='roseville, california, usa', rating_count=1),\n",
       " Row(user_id=28572, location='frankfurt, hessen, germany', rating_count=1),\n",
       " Row(user_id=82695, location='esch/alzette, n/a, luxembourg', rating_count=1),\n",
       " Row(user_id=131891, location='petaluma, california, usa', rating_count=1),\n",
       " Row(user_id=190456, location='oxford, pennsylvania, usa', rating_count=1),\n",
       " Row(user_id=18464, location='padova, veneto, italy', rating_count=11),\n",
       " Row(user_id=145417, location='mission viejo, california, usa', rating_count=1),\n",
       " Row(user_id=124418, location='berlin, berlin, germany', rating_count=3),\n",
       " Row(user_id=137702, location='kiel, schleswig-holstein, germany', rating_count=4),\n",
       " Row(user_id=107074, location='jasper, indiana, usa', rating_count=1),\n",
       " Row(user_id=267495, location='sarasota, florida, usa', rating_count=1),\n",
       " Row(user_id=209876, location='redwood meadows, alberta, canada', rating_count=1),\n",
       " Row(user_id=22607, location='los angeles, california, usa', rating_count=2),\n",
       " Row(user_id=186843, location='gilroy, california, usa', rating_count=2),\n",
       " Row(user_id=130009, location='stevensville, michigan, usa', rating_count=1),\n",
       " Row(user_id=251683, location='evesham, england, united kingdom', rating_count=3),\n",
       " Row(user_id=216155, location='somerville, massachusetts, usa', rating_count=24),\n",
       " Row(user_id=769, location='birmingham, alabama, usa', rating_count=1),\n",
       " Row(user_id=147195, location='london, n/a, united kingdom', rating_count=1),\n",
       " Row(user_id=238865, location='minneapolis, minnesota, usa', rating_count=2),\n",
       " Row(user_id=23747, location='een klein dorpje in de buurt van goes, n/a, netherlands', rating_count=1),\n",
       " Row(user_id=238194, location='lake mary, florida, usa', rating_count=10),\n",
       " Row(user_id=1863, location='feucht, bayern, germany', rating_count=4),\n",
       " Row(user_id=118904, location='cardiff, wales, united kingdom', rating_count=1),\n",
       " Row(user_id=113061, location='somers, connecticut, usa', rating_count=3),\n",
       " Row(user_id=183239, location='waterville, nova scotia, canada', rating_count=1),\n",
       " Row(user_id=173235, location='maineville, ohio, usa', rating_count=2),\n",
       " Row(user_id=233505, location='wenatchee, washington, usa', rating_count=3),\n",
       " Row(user_id=96482, location='martinez, california, usa', rating_count=2),\n",
       " Row(user_id=263320, location='fredericksburg, texas, usa', rating_count=4),\n",
       " Row(user_id=64323, location='palm beach, queensland, australia', rating_count=1),\n",
       " Row(user_id=249954, location='pueblo, colorado, usa', rating_count=1),\n",
       " Row(user_id=245697, location='schweinfurt, bayern, germany', rating_count=1),\n",
       " Row(user_id=87705, location='volpiano (torino), piemonte, italy', rating_count=2),\n",
       " Row(user_id=221327, location='norfolk, virginia, usa', rating_count=43),\n",
       " Row(user_id=225587, location='atlanta, georgia, usa', rating_count=1),\n",
       " Row(user_id=147249, location='west covina, california, usa', rating_count=8),\n",
       " Row(user_id=88784, location='a coruña, n/a, spain', rating_count=1),\n",
       " Row(user_id=241982, location='toronto, ontario, canada', rating_count=3),\n",
       " Row(user_id=266824, location='schwetzingen, baden-wuerttemberg, germany', rating_count=18),\n",
       " Row(user_id=15957, location='sydney, new south wales, australia', rating_count=172),\n",
       " Row(user_id=57091, location='fort wayne, indiana, usa', rating_count=1),\n",
       " Row(user_id=30342, location='toronto, ontario, canada', rating_count=1),\n",
       " Row(user_id=80555, location='warminster, wiltshire, united kingdom', rating_count=132),\n",
       " Row(user_id=252654, location='hoboken, new jersey, usa', rating_count=38),\n",
       " Row(user_id=161603, location='laramie, wyoming, usa', rating_count=1),\n",
       " Row(user_id=75327, location='okmulgee, oklahoma, usa', rating_count=1),\n",
       " Row(user_id=213775, location='vigo, pontevedra, spain', rating_count=2),\n",
       " Row(user_id=149428, location='getafe, madrid, spain', rating_count=1),\n",
       " Row(user_id=195271, location='milano, lombardia, italy', rating_count=2),\n",
       " Row(user_id=163698, location='newark, delaware, usa', rating_count=5),\n",
       " Row(user_id=2453, location='independence, missouri, usa', rating_count=1),\n",
       " Row(user_id=268949, location='riverside, california, usa', rating_count=1),\n",
       " Row(user_id=209628, location='mt. laguna, california, usa', rating_count=1),\n",
       " Row(user_id=270741, location='windsor, nova scotia, canada', rating_count=2),\n",
       " Row(user_id=269335, location='santa cruz, california, usa', rating_count=1),\n",
       " Row(user_id=196219, location='trento, trentino alto adige, italy', rating_count=1),\n",
       " Row(user_id=11464, location='calgary, alberta, canada', rating_count=9),\n",
       " Row(user_id=68277, location='flushing, new york, usa', rating_count=1),\n",
       " Row(user_id=99166, location='vancouver, british columbia, canada', rating_count=1),\n",
       " Row(user_id=136625, location='san francisco, california, usa', rating_count=5),\n",
       " Row(user_id=2302, location='tampere, pirkanmaa, finland', rating_count=1),\n",
       " Row(user_id=203111, location='oregon city, oregon, usa', rating_count=2),\n",
       " Row(user_id=177337, location='san diego, california, usa', rating_count=1),\n",
       " Row(user_id=158594, location='north ryde, new south wales, australia', rating_count=15),\n",
       " Row(user_id=203355, location='pittsford, new york, usa', rating_count=3),\n",
       " Row(user_id=15732, location='saskatoon, saskatchewan, canada', rating_count=1),\n",
       " Row(user_id=104560, location='los angeles, california, usa', rating_count=3),\n",
       " Row(user_id=237696, location='nowra, new south wales, australia', rating_count=2),\n",
       " Row(user_id=94442, location='richland, michigan, usa', rating_count=1),\n",
       " Row(user_id=189144, location='glen allen, virginia, usa', rating_count=3),\n",
       " Row(user_id=96545, location='salt lake city, utah, usa', rating_count=5),\n",
       " Row(user_id=26643, location='berck sur mer, pas de calais, france', rating_count=2),\n",
       " Row(user_id=146116, location='windham, maine, usa', rating_count=1),\n",
       " Row(user_id=19729, location='costa mesa, california, usa', rating_count=1),\n",
       " Row(user_id=4120, location='dickinson, north dakota, usa', rating_count=1),\n",
       " Row(user_id=144655, location='chicago, illinois, usa', rating_count=4),\n",
       " Row(user_id=196601, location='redding, california, usa', rating_count=1),\n",
       " Row(user_id=104680, location='hockessin, delaware, usa', rating_count=1),\n",
       " Row(user_id=165613, location='forsyth, illinois, usa', rating_count=1),\n",
       " Row(user_id=249006, location='avondale, arizona, usa', rating_count=1),\n",
       " Row(user_id=273783, location='winnipeg, manitoba, canada', rating_count=1),\n",
       " Row(user_id=268696, location='highland park, illinois,', rating_count=4),\n",
       " Row(user_id=237544, location='regina, saskatchewan, canada', rating_count=1),\n",
       " Row(user_id=188155, location='la mesa, california, usa', rating_count=6),\n",
       " Row(user_id=26697, location='cedarville, ohio, usa', rating_count=1),\n",
       " Row(user_id=178366, location='whistler, british columbia, canada', rating_count=1),\n",
       " Row(user_id=268622, location='upper township, new jersey, usa', rating_count=200),\n",
       " Row(user_id=14799, location='raleigh, north carolina, usa', rating_count=1),\n",
       " Row(user_id=85985, location='middleton, nova scotia, canada', rating_count=1),\n",
       " Row(user_id=187072, location='wentzville, missouri, usa', rating_count=1),\n",
       " Row(user_id=117483, location='chappaqua, new york, usa', rating_count=1),\n",
       " Row(user_id=14627, location='paris, paris, france', rating_count=4),\n",
       " Row(user_id=97007, location='christchurch, canterbury, new zealand', rating_count=1),\n",
       " Row(user_id=52422, location='seattle, washington, usa', rating_count=1),\n",
       " Row(user_id=183245, location='rvc, new york, usa', rating_count=1),\n",
       " Row(user_id=64548, location='evanston, illinois, usa', rating_count=1),\n",
       " Row(user_id=187621, location='leidschendam, zuid-holland, netherlands', rating_count=7),\n",
       " Row(user_id=72227, location='rostock, mecklenburg-vorpommern, germany', rating_count=1),\n",
       " Row(user_id=111749, location='edmonton, alberta, canada', rating_count=22),\n",
       " Row(user_id=148532, location='westport, connecticut, usa', rating_count=2),\n",
       " Row(user_id=176792, location='carrboro, north carolina, usa', rating_count=1),\n",
       " Row(user_id=118933, location='toulouse, n/a, france', rating_count=1),\n",
       " Row(user_id=221420, location='croton-on-hudson, new york, usa', rating_count=1),\n",
       " Row(user_id=83503, location='ludington, michigan, usa', rating_count=1),\n",
       " Row(user_id=208310, location='cincinnati, ohio, usa', rating_count=2),\n",
       " Row(user_id=108247, location='winterville, north carolina, usa', rating_count=4),\n",
       " Row(user_id=15822, location='lloydminster, saskatchewan, canada', rating_count=10),\n",
       " Row(user_id=221298, location='milwaukee, wisconsin, usa', rating_count=2),\n",
       " Row(user_id=212642, location='windsor, ontario, canada', rating_count=9),\n",
       " Row(user_id=86304, location='leeds, england, united kingdom', rating_count=1),\n",
       " Row(user_id=270583, location='aix en provence, paca, france', rating_count=1),\n",
       " Row(user_id=9979, location='brampton, ontario, canada', rating_count=1),\n",
       " Row(user_id=112173, location='ashburn, virginia, usa', rating_count=10),\n",
       " Row(user_id=191675, location='trois-rivières, quebec, canada', rating_count=1),\n",
       " Row(user_id=271992, location='wsmr, new mexico, usa', rating_count=6),\n",
       " Row(user_id=253299, location='jasper, arkansas, usa', rating_count=1),\n",
       " Row(user_id=119030, location='naga city, camarines sur, philippines', rating_count=1),\n",
       " Row(user_id=82280, location='reynella, south australia, australia', rating_count=2),\n",
       " Row(user_id=144386, location='mexico, missouri, usa', rating_count=4),\n",
       " Row(user_id=264915, location='wuppertal, nordrhein-westfalen, germany', rating_count=2),\n",
       " Row(user_id=277432, location='san leandro, california, usa', rating_count=1),\n",
       " Row(user_id=125381, location='seattle, washington, usa', rating_count=1),\n",
       " Row(user_id=88190, location='princeton, new jersey, usa', rating_count=1),\n",
       " Row(user_id=243213, location='lille, nord, france', rating_count=42),\n",
       " Row(user_id=163240, location='seneca, illinois, usa', rating_count=2),\n",
       " Row(user_id=43420, location='columbia, south carolina, usa', rating_count=1),\n",
       " Row(user_id=184365, location='portland, oregon, usa', rating_count=79),\n",
       " Row(user_id=259653, location='round rock, texas, usa', rating_count=1),\n",
       " Row(user_id=216239, location='ormond beach, florida, usa', rating_count=2),\n",
       " Row(user_id=95288, location='guadalajara, jalisco, zapopan, mexico', rating_count=1),\n",
       " Row(user_id=102884, location='düsseldorf, nordrhein-westfalen, germany', rating_count=1),\n",
       " Row(user_id=186017, location='columbus, indiana, usa', rating_count=1),\n",
       " Row(user_id=30851, location='woodmere, new york, usa', rating_count=1),\n",
       " Row(user_id=209494, location='salt lake city, utah, usa', rating_count=2),\n",
       " Row(user_id=77133, location='toronto, ontario, canada', rating_count=1),\n",
       " Row(user_id=173706, location='mountain view, california, usa', rating_count=2),\n",
       " Row(user_id=70884, location='east stroudsburg, pennsylvania, usa', rating_count=1),\n",
       " Row(user_id=254376, location='memphis, tennessee, usa', rating_count=22),\n",
       " Row(user_id=261858, location='dunedin, otago, nz, new zealand', rating_count=1),\n",
       " Row(user_id=94690, location='washington crossing, pennsylvania, usa', rating_count=4),\n",
       " Row(user_id=64655, location='latrobe, pennsylvania, usa', rating_count=1),\n",
       " Row(user_id=178885, location='auckland, auckland, new zealand', rating_count=2),\n",
       " Row(user_id=237078, location='forest park, illinois, usa', rating_count=1),\n",
       " Row(user_id=121530, location='frankfort, kentucky, usa', rating_count=12),\n",
       " Row(user_id=51727, location='aachen, nordrhein-westfalen, germany', rating_count=1),\n",
       " Row(user_id=205761, location='toronto, ontario,', rating_count=1),\n",
       " Row(user_id=97875, location='sitka, alaska, usa', rating_count=9),\n",
       " Row(user_id=182551, location='colorado springs, colorado, usa', rating_count=14),\n",
       " Row(user_id=125335, location='columbia, south carolina, usa', rating_count=4),\n",
       " Row(user_id=140269, location='toronto, ontario, canada', rating_count=2),\n",
       " Row(user_id=259411, location='pawleys island, south carolina, usa', rating_count=1),\n",
       " Row(user_id=224711, location='ypsilanti, michigan, usa', rating_count=7),\n",
       " Row(user_id=199391, location='round rock, texas, usa', rating_count=1),\n",
       " Row(user_id=54319, location='perth, western australia, australia', rating_count=1),\n",
       " Row(user_id=196687, location='canton, ohio, usa', rating_count=1),\n",
       " Row(user_id=182643, location='la grande, oregon, usa', rating_count=1),\n",
       " Row(user_id=253865, location='thun, berne, switzerland', rating_count=1),\n",
       " Row(user_id=205473, location='ottawa, ontario, canada', rating_count=410),\n",
       " Row(user_id=260549, location='three hills, alberta, canada', rating_count=1),\n",
       " Row(user_id=250201, location='brainerd, minnesota, usa', rating_count=1),\n",
       " Row(user_id=78344, location='san diego, california, usa', rating_count=7),\n",
       " Row(user_id=52531, location='guildford, england, united kingdom', rating_count=5),\n",
       " Row(user_id=38533, location='cary, illinois, usa', rating_count=2),\n",
       " Row(user_id=206424, location='cedarburg, wisconsin, usa', rating_count=1),\n",
       " Row(user_id=27540, location='twin lake, michigan, usa', rating_count=5),\n",
       " Row(user_id=145787, location='st louis, missouri, usa', rating_count=1),\n",
       " Row(user_id=216452, location='north andover, massachusetts, usa', rating_count=2),\n",
       " Row(user_id=208700, location='ann arbor, michigan, usa', rating_count=12),\n",
       " Row(user_id=260130, location='divide, colorado, usa', rating_count=5),\n",
       " Row(user_id=224115, location='beaverton, oregon, usa', rating_count=59),\n",
       " Row(user_id=215772, location='pontiac, ,', rating_count=16),\n",
       " Row(user_id=95800, location='ewa beach, hawaii, usa', rating_count=23),\n",
       " Row(user_id=50186, location='dublin, ohio, usa', rating_count=1),\n",
       " Row(user_id=266157, location='wasaga beach, ontario, canada', rating_count=1),\n",
       " Row(user_id=40505, location='kalamazoo, ,', rating_count=21),\n",
       " Row(user_id=180378, location='calgary, alberta, canada', rating_count=160),\n",
       " Row(user_id=270368, location='sarasota, florida, usa', rating_count=3),\n",
       " Row(user_id=164243, location='finksburg, maryland, usa', rating_count=2),\n",
       " Row(user_id=57081, location='new orleans, louisiana, usa', rating_count=1),\n",
       " Row(user_id=75673, location='king of prussia, pennsylvania, usa', rating_count=1),\n",
       " Row(user_id=247593, location='lynnwood, washington, usa', rating_count=1),\n",
       " Row(user_id=42093, location='fair haven, new jersey, usa', rating_count=137),\n",
       " Row(user_id=236173, location='perth, western australia, australia', rating_count=5),\n",
       " Row(user_id=204085, location='charleston, west virginia, usa', rating_count=1),\n",
       " Row(user_id=251662, location='dudley, england, united kingdom', rating_count=1),\n",
       " Row(user_id=216618, location='münchen, bayern, germany', rating_count=1),\n",
       " Row(user_id=7181, location='oviedo, asturias, spain', rating_count=16),\n",
       " Row(user_id=45358, location='ferrara, emilia romagna, ferrara', rating_count=1),\n",
       " Row(user_id=246824, location='sylmar, california, usa', rating_count=1),\n",
       " Row(user_id=47114, location='carlsbad, california, usa', rating_count=1),\n",
       " Row(user_id=138062, location='victoria, british columbia, canada', rating_count=5),\n",
       " Row(user_id=86683, location='barcelona, barcelona, spain', rating_count=15),\n",
       " Row(user_id=32671, location='fresno, california, usa', rating_count=1),\n",
       " Row(user_id=177842, location='coos bay, oregon, usa', rating_count=8),\n",
       " Row(user_id=211998, location='sitges, barcelona, spain', rating_count=2),\n",
       " Row(user_id=140429, location='timmins, ontario, canada', rating_count=4),\n",
       " Row(user_id=205878, location='winnemucca, nevada, usa', rating_count=19),\n",
       " Row(user_id=182068, location='portland, oregon, usa', rating_count=1),\n",
       " Row(user_id=273140, location='huntingdon, pennsylvania, usa', rating_count=31),\n",
       " Row(user_id=49595, location='keene, new hampshire, usa', rating_count=1),\n",
       " Row(user_id=54001, location='walnut creek, california, usa', rating_count=1),\n",
       " Row(user_id=197159, location='namur, n/a, belgium', rating_count=3),\n",
       " Row(user_id=239029, location='montvale, new jersey,', rating_count=4),\n",
       " Row(user_id=94720, location='keller, texas, usa', rating_count=4),\n",
       " Row(user_id=141350, location='warrington, pennsylvania, usa', rating_count=1),\n",
       " Row(user_id=236345, location='manteca, california, usa', rating_count=1),\n",
       " Row(user_id=121958, location='burbank, california, usa', rating_count=1),\n",
       " Row(user_id=77106, location='düsseldorf, nordrhein-westfalen, germany', rating_count=2),\n",
       " Row(user_id=262915, location='bellingham, washington, usa', rating_count=7),\n",
       " Row(user_id=104628, location='nepean, ontario, canada', rating_count=1),\n",
       " Row(user_id=76530, location='santa clarita, california, usa', rating_count=58),\n",
       " Row(user_id=116006, location='dingolfing, bayern, germany', rating_count=73),\n",
       " Row(user_id=161558, location='lodi, california, usa', rating_count=1),\n",
       " Row(user_id=233174, location='canegrate, lombardia, italy', rating_count=1),\n",
       " Row(user_id=171015, location='new market, tennessee, usa', rating_count=6),\n",
       " Row(user_id=241145, location='tomball, texas, usa', rating_count=1),\n",
       " Row(user_id=191817, location='mississauga, ontario, canada', rating_count=1),\n",
       " Row(user_id=231868, location='baltimore, maryland, usa', rating_count=1),\n",
       " Row(user_id=63976, location='vista, california, usa', rating_count=5),\n",
       " Row(user_id=129953, location='kennewick, washington, usa', rating_count=2),\n",
       " Row(user_id=102341, location='charleston, south carolina, usa', rating_count=5),\n",
       " Row(user_id=22521, location='montgomery, alabama, usa', rating_count=54),\n",
       " Row(user_id=131551, location='rancho palos verdes, california, usa', rating_count=1),\n",
       " Row(user_id=130653, location='washington, dc, dc, usa', rating_count=1),\n",
       " Row(user_id=180523, location='melb, victoria, australia', rating_count=1),\n",
       " Row(user_id=240635, location='west linn, oregon, usa', rating_count=1),\n",
       " Row(user_id=88549, location='houston, texas, usa', rating_count=3),\n",
       " Row(user_id=100199, location='provo, utah, usa', rating_count=1),\n",
       " Row(user_id=178201, location='saint louis, ,', rating_count=62),\n",
       " Row(user_id=50309, location='jacksonville, tx., cherokee', rating_count=2),\n",
       " Row(user_id=265422, location='lüneburg, niedersachsen, germany', rating_count=1),\n",
       " Row(user_id=89922, location='hayden, idaho, usa', rating_count=13),\n",
       " Row(user_id=154144, location='hettlingen, zürich, switzerland', rating_count=1),\n",
       " Row(user_id=108752, location='fort polk, louisiana, usa', rating_count=118),\n",
       " Row(user_id=143681, location='velgast, mecklenburg-vorpommern, germany', rating_count=1),\n",
       " Row(user_id=256602, location='shrewsbury, new jersey, usa', rating_count=1),\n",
       " Row(user_id=143327, location='tallahassee, florida, usa', rating_count=2),\n",
       " Row(user_id=226587, location='mammoth lakes, california, usa', rating_count=1),\n",
       " Row(user_id=121847, location='dartmouth, massachusetts, usa', rating_count=1),\n",
       " Row(user_id=11773, location='vancouver, british columbia, canada', rating_count=1),\n",
       " Row(user_id=136755, location='bellingham, washington, usa', rating_count=2),\n",
       " Row(user_id=118100, location='el masnou, catalunya, spain', rating_count=1),\n",
       " Row(user_id=93019, location='london, england, united kingdom', rating_count=2),\n",
       " Row(user_id=206994, location='northridge, california, usa', rating_count=2),\n",
       " Row(user_id=190220, location='creston, british columbia, canada', rating_count=7),\n",
       " Row(user_id=274134, location='san antonio, texas, usa', rating_count=2),\n",
       " Row(user_id=55895, location='syracuse, new york, usa', rating_count=1),\n",
       " Row(user_id=67141, location='belvaux, n/a, luxembourg', rating_count=1),\n",
       " Row(user_id=130623, location='christchurch, n/a, new zealand', rating_count=1),\n",
       " Row(user_id=177282, location='annville, pennsylvania,', rating_count=1),\n",
       " Row(user_id=198178, location='erlen, thurgau, switzerland', rating_count=1),\n",
       " Row(user_id=256369, location='bradford, ontario, canada', rating_count=1),\n",
       " Row(user_id=48319, location='kitchener, ontario, canada', rating_count=1),\n",
       " Row(user_id=137487, location='bloomington, indiana, usa', rating_count=1),\n",
       " Row(user_id=88670, location='seattle, washington, usa', rating_count=1),\n",
       " Row(user_id=35719, location='zürich, zürich, switzerland', rating_count=2),\n",
       " Row(user_id=158650, location='elyria, ohio, usa', rating_count=1),\n",
       " Row(user_id=162424, location='halifax, nova scotia, canada', rating_count=1),\n",
       " Row(user_id=36710, location='katy, texas, usa', rating_count=1),\n",
       " Row(user_id=17571, location='doylestown, pennsylvania, usa', rating_count=1),\n",
       " Row(user_id=3939, location='kenai, alaska, usa', rating_count=2),\n",
       " Row(user_id=238355, location='northford, connecticut, usa', rating_count=5),\n",
       " Row(user_id=23, location='philadelphia, pennsylvania, usa', rating_count=1),\n",
       " Row(user_id=128285, location='richmond, virginia, usa', rating_count=1),\n",
       " Row(user_id=76173, location='comox, british columbia, canada', rating_count=40),\n",
       " Row(user_id=93954, location='shelton, washington, usa', rating_count=4),\n",
       " Row(user_id=233452, location='clackamas, oregon, usa', rating_count=1),\n",
       " Row(user_id=253515, location='torfaen, wales, united kingdom', rating_count=6),\n",
       " Row(user_id=13535, location='palo alto, california, usa', rating_count=1),\n",
       " Row(user_id=169657, location='carbondale, colorado, usa', rating_count=1),\n",
       " Row(user_id=106674, location='lake elsinore, california, usa', rating_count=1),\n",
       " Row(user_id=200591, location='north bergen, new jersey, usa', rating_count=1),\n",
       " Row(user_id=278063, location='grosse tete, louisiana, usa', rating_count=1),\n",
       " Row(user_id=33517, location='manchester, england, united kingdom', rating_count=34),\n",
       " Row(user_id=196452, location='fredericton, new brunswick, canada', rating_count=1),\n",
       " Row(user_id=40033, location='stavenhagen, mecklenburg-vorpommern, germany', rating_count=1),\n",
       " Row(user_id=168816, location='santa clara, california, usa', rating_count=71),\n",
       " Row(user_id=223264, location='mount hope (hamilton), ontario, canada', rating_count=1),\n",
       " Row(user_id=68478, location='san francisco, california, usa', rating_count=29),\n",
       " Row(user_id=254524, location='arlington, virginia, usa', rating_count=4),\n",
       " Row(user_id=75770, location='yokosuka, n/a, japan', rating_count=2),\n",
       " Row(user_id=70080, location='venice, florida, usa', rating_count=1),\n",
       " Row(user_id=40442, location='oakland, california, usa', rating_count=1),\n",
       " Row(user_id=224412, location='derry, pennsylvania, usa', rating_count=1),\n",
       " Row(user_id=245782, location='peru, indiana, usa', rating_count=31),\n",
       " Row(user_id=5900, location='bellingham, washington, usa', rating_count=1),\n",
       " Row(user_id=91653, location='edmonton, alberta, canada', rating_count=1),\n",
       " Row(user_id=91702, location='killeen, texas, usa', rating_count=1),\n",
       " Row(user_id=273212, location='campbells creek, victoria, australia', rating_count=1),\n",
       " Row(user_id=151097, location='hatfield, pennsylvania, usa', rating_count=1),\n",
       " Row(user_id=23002, location='stillwater lake, nova scotia, canada', rating_count=1),\n",
       " Row(user_id=223402, location='san carlos, california, usa', rating_count=26),\n",
       " Row(user_id=114, location='ligonier, pennsylvania, usa', rating_count=8),\n",
       " Row(user_id=155028, location='silver city, new mexico, usa', rating_count=1),\n",
       " Row(user_id=81387, location='stamford, connecticut, usa', rating_count=1),\n",
       " Row(user_id=175505, location='grayslake, illinois, usa', rating_count=1),\n",
       " Row(user_id=124689, location='salt lake city, utah, usa', rating_count=1),\n",
       " Row(user_id=94016, location='charleston, illinois, usa', rating_count=1),\n",
       " Row(user_id=197782, location='sydney, new south wales, australia', rating_count=1),\n",
       " Row(user_id=258252, location='fresno, california, usa', rating_count=1),\n",
       " Row(user_id=82015, location='methuen, massachusetts, usa', rating_count=1),\n",
       " Row(user_id=262867, location='olympia, washington, usa', rating_count=1),\n",
       " Row(user_id=158468, location='los angeles, california, usa', rating_count=1),\n",
       " Row(user_id=17455, location='brooklyn, new york, usa', rating_count=1),\n",
       " Row(user_id=48654, location='hildesheim, niedersachsen, germany', rating_count=1),\n",
       " Row(user_id=100726, location='oakland, california, usa', rating_count=1),\n",
       " Row(user_id=24177, location='aveiro, aveiro, portugal', rating_count=1),\n",
       " Row(user_id=213998, location='columbia, pennsylvania, usa', rating_count=7),\n",
       " Row(user_id=50995, location='north vancouver, british columbia, canada', rating_count=1),\n",
       " Row(user_id=175673, location='milano, lombardia, italy', rating_count=1),\n",
       " Row(user_id=129477, location='solon, iowa, usa', rating_count=1),\n",
       " Row(user_id=1548, location='brooklyn, new york, usa', rating_count=23),\n",
       " Row(user_id=220623, location='richmond, virginia, usa', rating_count=5),\n",
       " Row(user_id=68269, location='massapequa, new york, usa', rating_count=1),\n",
       " Row(user_id=143405, location='simcoe, ontario, canada', rating_count=14),\n",
       " Row(user_id=190111, location='north vancouver, british columbia, canada', rating_count=2),\n",
       " Row(user_id=270375, location='george town, grand cayman, cayman islands', rating_count=5),\n",
       " Row(user_id=210180, location='dartmouth, nova scotia, canada', rating_count=3),\n",
       " Row(user_id=31688, location='mesa, arizona, usa', rating_count=16),\n",
       " Row(user_id=229287, location='nashua, new hampshire, usa', rating_count=1),\n",
       " Row(user_id=208348, location='chicago, illinois, usa', rating_count=2),\n",
       " Row(user_id=221948, location='jacksonville, florida, usa', rating_count=103),\n",
       " Row(user_id=198992, location='san francisco, california, usa', rating_count=1),\n",
       " Row(user_id=63678, location='zaragoza, zaragoza, spain', rating_count=1),\n",
       " Row(user_id=127118, location='palmerston north, n/a, new zealand', rating_count=1),\n",
       " Row(user_id=255761, location='overland park, kansas, usa', rating_count=1),\n",
       " Row(user_id=58390, location='new orleans, louisiana, usa', rating_count=11),\n",
       " Row(user_id=257903, location='milton keynes, england, united kingdom', rating_count=2),\n",
       " Row(user_id=124306, location='des moines, washington, usa', rating_count=3),\n",
       " Row(user_id=228292, location='quispamsis, new brunswick, canada', rating_count=1),\n",
       " Row(user_id=98763, location='poway, california, usa', rating_count=1),\n",
       " Row(user_id=76612, location='tomball, texas, usa', rating_count=1),\n",
       " Row(user_id=145682, location='winter springs, florida, usa', rating_count=2),\n",
       " Row(user_id=248266, location='tulsa, oklahoma, usa', rating_count=3),\n",
       " Row(user_id=24741, location='fennange, luxembourg, luxembourg', rating_count=1),\n",
       " Row(user_id=165091, location='alto, michigan, usa', rating_count=1),\n",
       " Row(user_id=273215, location='eau claire, wisconsin, usa', rating_count=1),\n",
       " Row(user_id=161849, location='peterborough, ontario, canada', rating_count=6),\n",
       " Row(user_id=141877, location='sacramento, california, usa', rating_count=3),\n",
       " Row(user_id=48428, location='pewaukee, wisconsin, usa', rating_count=1),\n",
       " Row(user_id=142143, location='melbourne, victoria, australia', rating_count=58),\n",
       " Row(user_id=157383, location='princeton, wisconsin, usa', rating_count=1),\n",
       " Row(user_id=178542, location='st. louis, missouri, usa', rating_count=2),\n",
       " Row(user_id=93930, location='encinitas, california, usa', rating_count=1),\n",
       " Row(user_id=2744, location='columbus, ohio, usa', rating_count=1),\n",
       " Row(user_id=12687, location='vallejo, california, usa', rating_count=1),\n",
       " Row(user_id=92313, location='reno, nevada, usa', rating_count=1),\n",
       " Row(user_id=175374, location='madrid, madrid, spain', rating_count=2),\n",
       " Row(user_id=27813, location='boerne, texas, usa', rating_count=60),\n",
       " Row(user_id=35028, location='guelph, ontario, canada', rating_count=1),\n",
       " Row(user_id=123319, location='mount pleasant, south carolina, usa', rating_count=5),\n",
       " Row(user_id=119737, location='fullerton, california, usa', rating_count=3),\n",
       " Row(user_id=56650, location='san diego, california, usa', rating_count=1),\n",
       " Row(user_id=83997, location='colorado springs, colorado, usa', rating_count=1),\n",
       " Row(user_id=67288, location='monroe, washington, usa', rating_count=16),\n",
       " Row(user_id=39558, location='beijing, beijing, china', rating_count=2),\n",
       " Row(user_id=5582, location='seattle, washington, usa', rating_count=145),\n",
       " Row(user_id=660, location='ny, new york, usa', rating_count=1),\n",
       " Row(user_id=245311, location='eugene, oregon, usa', rating_count=15),\n",
       " Row(user_id=25369, location='atlanta, georgia, usa', rating_count=2),\n",
       " Row(user_id=201926, location='ann arbor, michigan, usa', rating_count=13),\n",
       " Row(user_id=99622, location='lincoln, nebraska, usa', rating_count=2),\n",
       " Row(user_id=210914, location='springfield, illinois, usa', rating_count=3),\n",
       " Row(user_id=168562, location='salem, massachusetts, usa', rating_count=1),\n",
       " Row(user_id=78605, location='richmond, texas, usa', rating_count=1),\n",
       " Row(user_id=269956, location='toronto, ontario, canada', rating_count=1),\n",
       " Row(user_id=118627, location='killeen, texas, usa', rating_count=71),\n",
       " Row(user_id=82880, location='magnolia, texas, usa', rating_count=1),\n",
       " Row(user_id=208508, location='chicago, illinois, usa', rating_count=6),\n",
       " Row(user_id=124037, location='delray beach, florida, usa', rating_count=1),\n",
       " Row(user_id=43484, location='san diego, california, usa', rating_count=1),\n",
       " Row(user_id=68537, location='friendswood, texas, usa', rating_count=9),\n",
       " Row(user_id=190301, location='royal palm beach, florida, usa', rating_count=1),\n",
       " Row(user_id=137129, location='stone mountain, georgia, usa', rating_count=1),\n",
       " Row(user_id=120917, location='bartlesville, oklahoma, usa', rating_count=6),\n",
       " Row(user_id=209863, location='cranston, rhode island, usa', rating_count=3),\n",
       " Row(user_id=128557, location='tunbridge wells, kent, united kingdom', rating_count=28),\n",
       " Row(user_id=166220, location='montreal, , canada', rating_count=11),\n",
       " Row(user_id=263541, location='fullerton, california, usa', rating_count=3),\n",
       " Row(user_id=161971, location='houston, texas, usa', rating_count=1),\n",
       " Row(user_id=87211, location='winnipeg, manitoba, canada', rating_count=1),\n",
       " Row(user_id=62107, location='bendigo, victoria, australia', rating_count=1),\n",
       " Row(user_id=101559, location='winchester, virginia, usa', rating_count=16),\n",
       " Row(user_id=168835, location='montara, california, usa', rating_count=1),\n",
       " Row(user_id=201792, location='tacoma, washington, usa', rating_count=19),\n",
       " Row(user_id=223784, location='richmond, virginia, usa', rating_count=12),\n",
       " Row(user_id=30273, location='naples, florida, usa', rating_count=184),\n",
       " Row(user_id=55242, location='whitby, ontario, canada', rating_count=12),\n",
       " Row(user_id=51334, location='tübingen, baden-wuerttemberg, germany', rating_count=1),\n",
       " Row(user_id=278490, location='southfield, michigan, usa', rating_count=1),\n",
       " Row(user_id=252074, location='kendrick, idaho, usa', rating_count=8),\n",
       " Row(user_id=215995, location='downsview, ontario, canada', rating_count=6),\n",
       " Row(user_id=91634, location='pgh, pennsylvania, usa', rating_count=27),\n",
       " Row(user_id=98879, location='pacifica, california, usa', rating_count=3),\n",
       " Row(user_id=49924, location='wilmington, north carolina, usa', rating_count=1),\n",
       " Row(user_id=232343, location='philadelphia, pennsylvania, usa', rating_count=10),\n",
       " Row(user_id=69672, location='worcester, massachusetts, usa', rating_count=2),\n",
       " Row(user_id=176699, location='lawrence, kansas, usa', rating_count=1),\n",
       " Row(user_id=27334, location='cambridge, england, united kingdom', rating_count=1),\n",
       " Row(user_id=21282, location='hartland, wisconsin, usa', rating_count=1),\n",
       " Row(user_id=130974, location='indianapolis, indiana, usa', rating_count=1),\n",
       " Row(user_id=190669, location='san francisco, california,', rating_count=3),\n",
       " Row(user_id=207903, location='alsip, illinois, usa', rating_count=4),\n",
       " Row(user_id=210455, location='champaign, illinois, usa', rating_count=2),\n",
       " Row(user_id=68226, location='düsseldorf, nordrhein-westfalen, germany', rating_count=4),\n",
       " Row(user_id=257012, location='edmonton, alberta, canada', rating_count=13),\n",
       " Row(user_id=204334, location='minneapolis, ,', rating_count=1),\n",
       " Row(user_id=223992, location='huntsville, ontario, canada', rating_count=7),\n",
       " Row(user_id=58873, location='stuarts draft, virginia, usa', rating_count=2),\n",
       " Row(user_id=221773, location='columbia, south carolina, usa', rating_count=1),\n",
       " Row(user_id=145786, location='bellevue, washington, usa', rating_count=1),\n",
       " Row(user_id=261592, location='st.paul, minnesota, usa', rating_count=1),\n",
       " Row(user_id=90791, location='sanborn, iowa, usa', rating_count=1),\n",
       " Row(user_id=204363, location='penacook, new hampshire, usa', rating_count=18),\n",
       " Row(user_id=161351, location='torrance, california, usa', rating_count=1),\n",
       " Row(user_id=149862, location='freiburg, baden-württemberg, germany', rating_count=1),\n",
       " Row(user_id=237437, location='portsmouth, virginia, usa', rating_count=4),\n",
       " Row(user_id=102334, location='charleston, west virginia, usa', rating_count=1),\n",
       " Row(user_id=206635, location='mountain view, california, usa', rating_count=24),\n",
       " Row(user_id=7071, location='chico and san francisco, california, usa', rating_count=2),\n",
       " Row(user_id=238956, location='whittier, california, united kingdom', rating_count=1),\n",
       " Row(user_id=150601, location='rennes, bretagne, france', rating_count=1),\n",
       " Row(user_id=217371, location='albuquerque, new mexico, usa', rating_count=2),\n",
       " Row(user_id=31193, location='miami, florida, usa', rating_count=1),\n",
       " Row(user_id=250738, location='mesa, arizona, usa', rating_count=1),\n",
       " Row(user_id=153234, location='görlitz, sachsen, germany', rating_count=3),\n",
       " Row(user_id=193675, location='milton keynes, england, united kingdom', rating_count=1),\n",
       " Row(user_id=128916, location='guelph, ontario, canada', rating_count=1),\n",
       " Row(user_id=119154, location='ottawa, ontario, canada', rating_count=1),\n",
       " Row(user_id=266372, location='portland, oregon, usa', rating_count=1),\n",
       " Row(user_id=176978, location='basye, virginia, usa', rating_count=13),\n",
       " Row(user_id=187115, location='brisbane, queensland, australia', rating_count=1),\n",
       " Row(user_id=123681, location='ann arbor, michigan, usa', rating_count=1),\n",
       " Row(user_id=100181, location='janesville, wisconsin, usa', rating_count=1),\n",
       " Row(user_id=15144, location='raleigh, ,', rating_count=11),\n",
       " Row(user_id=20391, location='bismarck, north dakota, usa', rating_count=1),\n",
       " Row(user_id=240441, location='north vancouver, british columbia, canada', rating_count=4),\n",
       " Row(user_id=45279, location='chicago, illinois, usa', rating_count=1),\n",
       " Row(user_id=159089, location='turners falls, massachusetts, usa', rating_count=1),\n",
       " Row(user_id=196479, location='lansdale, pennsylvania, usa', rating_count=4),\n",
       " Row(user_id=115490, location='dekalb, illinois, usa', rating_count=530),\n",
       " Row(user_id=45173, location='northampton, massachusetts, usa', rating_count=1),\n",
       " Row(user_id=189516, location='colorado springs, colorado, usa', rating_count=329),\n",
       " Row(user_id=128466, location='olympia, washington, usa', rating_count=6),\n",
       " Row(user_id=152642, location='portland, oregon, usa', rating_count=3),\n",
       " Row(user_id=246979, location='drayton valley, alberta, canada', rating_count=1),\n",
       " Row(user_id=226285, location='puyallup, washington, usa', rating_count=1),\n",
       " Row(user_id=232448, location='raleigh, north carolina, usa', rating_count=1),\n",
       " Row(user_id=173099, location='genova, liguria, italy', rating_count=1),\n",
       " Row(user_id=242944, location='river john, nova scotia, canada', rating_count=1),\n",
       " Row(user_id=28980, location='anchorage, alaska, usa', rating_count=15),\n",
       " Row(user_id=191416, location='kansas city, missouri, usa', rating_count=1),\n",
       " Row(user_id=84292, location='beverly hills, florida, usa', rating_count=1),\n",
       " Row(user_id=212835, location='oil city, louisiana, usa', rating_count=41),\n",
       " Row(user_id=64865, location='salt lake city, utah, usa', rating_count=1),\n",
       " Row(user_id=181267, location='dublin, n/a, ireland', rating_count=1),\n",
       " Row(user_id=261077, location='nashua, new hampshire, usa', rating_count=1),\n",
       " Row(user_id=102812, location='eugene, oregon, usa', rating_count=3),\n",
       " Row(user_id=277261, location='oberschleissheim, bayern, germany', rating_count=1),\n",
       " Row(user_id=242310, location='chicopee, massachusetts, usa', rating_count=22),\n",
       " Row(user_id=17012, location='moss beach, california,', rating_count=3),\n",
       " Row(user_id=27870, location='fort wayne, indiana, usa', rating_count=3),\n",
       " Row(user_id=163177, location='williamstown, new jersey, usa', rating_count=1),\n",
       " Row(user_id=139323, location='london, ontario, canada', rating_count=1),\n",
       " Row(user_id=270523, location='longwood, florida, usa', rating_count=1),\n",
       " Row(user_id=44107, location='torino, piemonte, italy', rating_count=3),\n",
       " Row(user_id=28222, location='san diego, california, usa', rating_count=20),\n",
       " Row(user_id=192531, location='high peak, n/a, united kingdom', rating_count=1),\n",
       " Row(user_id=130547, location='newfields, new hampshire, usa', rating_count=3),\n",
       " Row(user_id=175084, location='long grove, illinois, usa', rating_count=2),\n",
       " Row(user_id=36206, location='papillion, nebraska, usa', rating_count=1),\n",
       " Row(user_id=56715, location='sacramento, california, usa', rating_count=7),\n",
       " Row(user_id=161843, location='freiburg, baden-wuerttemberg, germany', rating_count=7),\n",
       " Row(user_id=44069, location='washington, dc, usa', rating_count=1),\n",
       " Row(user_id=149977, location='tucson, arizona, usa', rating_count=1),\n",
       " Row(user_id=198609, location='chicago, illinois, usa', rating_count=6),\n",
       " Row(user_id=270241, location='st louis, missouri, usa', rating_count=4),\n",
       " Row(user_id=173172, location='salt lake city, utah, usa', rating_count=1),\n",
       " Row(user_id=53, location='tacoma, washington, usa', rating_count=7),\n",
       " Row(user_id=254613, location='oak leaf, texas, usa', rating_count=1),\n",
       " Row(user_id=35177, location='cleveland, ohio, usa', rating_count=1),\n",
       " Row(user_id=251964, location='luxembourg, n/a, luxembourg', rating_count=1),\n",
       " Row(user_id=98404, location='oakland, new jersey, usa', rating_count=1),\n",
       " Row(user_id=219837, location='munich, bayern, germany', rating_count=1),\n",
       " Row(user_id=259372, location='boston, massachusetts, usa', rating_count=4),\n",
       " Row(user_id=67581, location='buena park, california, usa', rating_count=1),\n",
       " Row(user_id=44089, location='leduc, ,', rating_count=101),\n",
       " Row(user_id=144632, location='eureka, california, usa', rating_count=6),\n",
       " Row(user_id=121223, location='frenchtown, new jersey, usa', rating_count=2),\n",
       " Row(user_id=56069, location='san francisco, california, usa', rating_count=1),\n",
       " Row(user_id=249898, location='athens, attiki, greece', rating_count=3),\n",
       " Row(user_id=277759, location='baton rouge, louisiana, usa', rating_count=1),\n",
       " Row(user_id=55968, location='melbourne, vic, australia', rating_count=1),\n",
       " Row(user_id=53130, location='warsaw, indiana, usa', rating_count=4),\n",
       " Row(user_id=3305, location='halifax, nova scotia, canada', rating_count=3),\n",
       " Row(user_id=187171, location='paris, kentucky, usa', rating_count=2),\n",
       " Row(user_id=240804, location='dunedin, otago, new zealand', rating_count=1),\n",
       " Row(user_id=200585, location='porto alegre, rio grande do sul, brazil', rating_count=59),\n",
       " Row(user_id=270602, location='gallatin, tennessee, usa', rating_count=1),\n",
       " Row(user_id=83631, location='durham, north carolina, usa', rating_count=1),\n",
       " Row(user_id=187059, location='port huron, michigan, usa', rating_count=1),\n",
       " Row(user_id=184307, location='boise, idaho, usa', rating_count=1),\n",
       " Row(user_id=264967, location='roma, lazio, italy', rating_count=1),\n",
       " Row(user_id=253732, location='los angeles, california, usa', rating_count=1),\n",
       " Row(user_id=274045, location='central city, nebraska, usa', rating_count=1),\n",
       " Row(user_id=12120, location='göttingen, niedersachsen, germany', rating_count=2),\n",
       " Row(user_id=152437, location='fresno, california, usa', rating_count=1),\n",
       " Row(user_id=241764, location='lodi, new jersey, usa', rating_count=1),\n",
       " Row(user_id=125863, location='new york, new york, usa', rating_count=6),\n",
       " Row(user_id=138232, location='groveland, california, usa', rating_count=5),\n",
       " Row(user_id=232093, location='schodack, new york, usa', rating_count=7),\n",
       " Row(user_id=132420, location='duisburg, nordrhein-westfalen, germany', rating_count=1),\n",
       " Row(user_id=186359, location='encinitas, ,', rating_count=1),\n",
       " Row(user_id=79058, location='bern, bern, switzerland', rating_count=1),\n",
       " Row(user_id=99351, location='bothell, washington, usa', rating_count=1),\n",
       " Row(user_id=12234, location='kardinya, western australia, australia', rating_count=1),\n",
       " Row(user_id=259669, location='austin, texas, usa', rating_count=5),\n",
       " Row(user_id=147656, location='fremont, california, usa', rating_count=1),\n",
       " Row(user_id=153438, location='edinburgh, scotland, united kingdom', rating_count=2),\n",
       " Row(user_id=22473, location='belfast, n.a., ireland', rating_count=1),\n",
       " Row(user_id=77488, location='davis, california, usa', rating_count=1),\n",
       " Row(user_id=227146, location='bethlehem, new hampshire, usa', rating_count=20),\n",
       " Row(user_id=23631, location='macon, georgia, usa', rating_count=20),\n",
       " Row(user_id=130436, location='chesterfield, england, united kingdom', rating_count=1),\n",
       " Row(user_id=232737, location='creve coeur, ,', rating_count=2),\n",
       " Row(user_id=86000, location='lampe, missouri, usa', rating_count=1),\n",
       " Row(user_id=250924, location='christchurch, canterbury, new zealand', rating_count=1),\n",
       " Row(user_id=212369, location='alexandria, virginia, usa', rating_count=1),\n",
       " Row(user_id=8946, location='ashfield, new south wales, australia', rating_count=1),\n",
       " Row(user_id=179203, location='kelowna, british columbia, canada', rating_count=1),\n",
       " Row(user_id=13863, location='sherwood, oregon, usa', rating_count=5),\n",
       " Row(user_id=269623, location='north pole, alaska, usa', rating_count=2),\n",
       " Row(user_id=99099, location='chicago, illinois, usa', rating_count=2),\n",
       " Row(user_id=143412, location='belleville, michigan, usa', rating_count=1),\n",
       " Row(user_id=51609, location='parks, nebraska, usa', rating_count=4),\n",
       " Row(user_id=136917, location='hamilton, ontario, canada', rating_count=2),\n",
       " Row(user_id=3655, location='tucker, georgia,', rating_count=3),\n",
       " Row(user_id=125071, location='imperial beach, california, usa', rating_count=2),\n",
       " Row(user_id=228372, location='denver, colorado, usa', rating_count=9),\n",
       " Row(user_id=239176, location='san francisco, california, usa', rating_count=1),\n",
       " Row(user_id=30989, location='hull, georgia, usa', rating_count=12),\n",
       " Row(user_id=51708, location='london, england, united kingdom', rating_count=2),\n",
       " Row(user_id=61868, location='tucson, arizona, usa', rating_count=2),\n",
       " Row(user_id=190813, location='lompoc, california, usa', rating_count=1),\n",
       " Row(user_id=878, location='douglasville, georgia, usa', rating_count=3),\n",
       " Row(user_id=218046, location='scottsdale, arizona, usa', rating_count=3),\n",
       " Row(user_id=53967, location='bath, england, united kingdom', rating_count=1),\n",
       " Row(user_id=82154, location='ft myers, florida, usa', rating_count=1),\n",
       " Row(user_id=113270, location='evanston, illinois, usa', rating_count=460),\n",
       " Row(user_id=255267, location='tigard, oregon, usa', rating_count=15),\n",
       " Row(user_id=204366, location='traverse city, michigan, usa', rating_count=11),\n",
       " Row(user_id=28611, location='tyndall afb, florida, usa', rating_count=1),\n",
       " Row(user_id=7916, location='marysville, ,', rating_count=5),\n",
       " Row(user_id=22186, location='easton, pennsylvania,', rating_count=1),\n",
       " Row(user_id=270891, location='spotsylvania, virginia, usa', rating_count=1),\n",
       " Row(user_id=140967, location='edmonton, alberta, canada', rating_count=1),\n",
       " Row(user_id=110, location='peoira, illinois, usa', rating_count=1),\n",
       " Row(user_id=163905, location='middletown, pennsylvania, usa', rating_count=1),\n",
       " Row(user_id=141269, location='toronto, ontario, canada', rating_count=2),\n",
       " Row(user_id=211368, location='san jose, california, usa', rating_count=6),\n",
       " Row(user_id=166651, location='melbourne, victoria, australia', rating_count=1),\n",
       " Row(user_id=75570, location='winchester, hampshire, united kingdom', rating_count=1),\n",
       " Row(user_id=154617, location='baton rouge, louisiana, usa', rating_count=1),\n",
       " Row(user_id=213640, location='mankato, minnesota, usa', rating_count=1),\n",
       " Row(user_id=24771, location='cary, north carolina, usa', rating_count=7),\n",
       " Row(user_id=262051, location='grosse pointe, michigan,', rating_count=43),\n",
       " Row(user_id=112624, location='bethlehen, pennsylvania, usa', rating_count=3),\n",
       " Row(user_id=100858, location='dayton, texas, usa', rating_count=1),\n",
       " Row(user_id=79813, location='leganés, madrid, spain', rating_count=3),\n",
       " Row(user_id=177261, location='center rutland, vermont, usa', rating_count=1),\n",
       " Row(user_id=124179, location='newport news, virginia, usa', rating_count=2),\n",
       " Row(user_id=113611, location='woodstock, georgia, usa', rating_count=2),\n",
       " Row(user_id=34524, location='buenos aires, buenos aires, argentina', rating_count=3),\n",
       " Row(user_id=62978, location='toronto, ontario, canada', rating_count=1),\n",
       " Row(user_id=45133, location='littleton, colorado, usa', rating_count=1),\n",
       " Row(user_id=164287, location='alvin, texas, usa', rating_count=2),\n",
       " Row(user_id=148538, location='buenos aires, buenos aires, argentina', rating_count=1),\n",
       " Row(user_id=216781, location='apopka, florida, usa', rating_count=14),\n",
       " Row(user_id=88305, location='pocatello, idaho, usa', rating_count=1),\n",
       " Row(user_id=69087, location='milan, michigan, usa', rating_count=1),\n",
       " Row(user_id=25391, location='ottawa, ontario, canada', rating_count=1),\n",
       " Row(user_id=166898, location='mississauga, ontario, canada', rating_count=1),\n",
       " Row(user_id=125757, location='trieste, friuli venezia giulia, italy', rating_count=1),\n",
       " Row(user_id=238257, location='dublin, ,', rating_count=1),\n",
       " Row(user_id=180556, location='melbourne, victoria, australia', rating_count=1),\n",
       " Row(user_id=178379, location='derby, england, united kingdom', rating_count=1),\n",
       " Row(user_id=120071, location='barcelona, cataluña, spain', rating_count=1),\n",
       " Row(user_id=233656, location='tulsa, oklahoma, usa', rating_count=12),\n",
       " Row(user_id=225048, location='stamford, connecticut, usa', rating_count=1),\n",
       " Row(user_id=79461, location='orange park, florida, usa', rating_count=1),\n",
       " Row(user_id=82901, location='sterling, virginia, usa', rating_count=5),\n",
       " Row(user_id=30709, location='manheim, pennsylvania, usa', rating_count=1),\n",
       " Row(user_id=63510, location='fairbanks, alaska, usa', rating_count=1),\n",
       " Row(user_id=195327, location='auckland, north island, new zealand', rating_count=1),\n",
       " Row(user_id=101583, location='st. louis, missouri, usa', rating_count=1),\n",
       " Row(user_id=174490, location='west monroe, louisiana, usa', rating_count=1),\n",
       " Row(user_id=226014, location='louisville, kentucky, usa', rating_count=1),\n",
       " Row(user_id=94696, location='three rivers, california, usa', rating_count=1),\n",
       " Row(user_id=190389, location='new york, new york, usa', rating_count=2),\n",
       " Row(user_id=64058, location='madrid, madrid, spain', rating_count=2),\n",
       " Row(user_id=253274, location='strasbourg, alsace, france', rating_count=1),\n",
       " Row(user_id=207514, location='seattle, washington, usa', rating_count=4),\n",
       " Row(user_id=161462, location='calgary, alberta, canada', rating_count=12),\n",
       " Row(user_id=56676, location='south portland, maine, usa', rating_count=1),\n",
       " Row(user_id=248607, location='gossau, zürich, tajikistan', rating_count=1),\n",
       " Row(user_id=146967, location='hamburg, hamburg, germany', rating_count=1),\n",
       " Row(user_id=60272, location='ripon, california, usa', rating_count=1),\n",
       " Row(user_id=262948, location='stockholm, n/a, sweden', rating_count=1),\n",
       " Row(user_id=110042, location='albuqueruqe, new mexico, usa', rating_count=4),\n",
       " Row(user_id=91, location='toronto/newmarket, ,', rating_count=1),\n",
       " Row(user_id=209257, location='canberra, australian capital territory, australia', rating_count=7),\n",
       " Row(user_id=215449, location='roseville, new south wales, australia', rating_count=1),\n",
       " Row(user_id=142024, location='st albert, alberta, canada', rating_count=34),\n",
       " Row(user_id=116755, location='portland, oregon, usa', rating_count=1),\n",
       " Row(user_id=52364, location='washington, dc, usa', rating_count=2),\n",
       " Row(user_id=167602, location='toronto, ontario, canada', rating_count=1),\n",
       " Row(user_id=86825, location='los angeles, california, usa', rating_count=1),\n",
       " Row(user_id=211455, location='little rock, arkansas, usa', rating_count=2),\n",
       " Row(user_id=181479, location='london, ontario, canada', rating_count=1),\n",
       " Row(user_id=202358, location='setúbal, setúbal, portugal', rating_count=64),\n",
       " Row(user_id=88947, location='sheffield, south yorkshire, united kingdom', rating_count=1),\n",
       " Row(user_id=124733, location='amsterdam, noord holland, netherlands', rating_count=5),\n",
       " Row(user_id=124876, location='redford, michigan, usa', rating_count=98),\n",
       " Row(user_id=178622, location='dolton, illinois, usa', rating_count=2),\n",
       " Row(user_id=152219, location='miccosukee, florida, usa', rating_count=1),\n",
       " Row(user_id=236797, location='leduc, alberta, canada', rating_count=1),\n",
       " Row(user_id=257070, location='dewitt, missouri, usa', rating_count=1),\n",
       " Row(user_id=189106, location='laurel, maryland, usa', rating_count=1),\n",
       " Row(user_id=47364, location='harrison, ohio, usa', rating_count=2),\n",
       " Row(user_id=102275, location='saint clair, michigan, usa', rating_count=233),\n",
       " Row(user_id=203732, location='doesburg, , netherlands', rating_count=1),\n",
       " Row(user_id=49975, location='milpitas, california, usa', rating_count=2),\n",
       " Row(user_id=144531, location='pleasanton, california, usa', rating_count=607),\n",
       " Row(user_id=73261, location='washington, dc, usa', rating_count=2),\n",
       " Row(user_id=243120, location='san francisco, california, usa', rating_count=2),\n",
       " Row(user_id=141207, location='tutzing, bayern, germany', rating_count=1),\n",
       " Row(user_id=66980, location='petaluma, california, usa', rating_count=1),\n",
       " Row(user_id=144314, location='monroe, washington, usa', rating_count=7),\n",
       " Row(user_id=7075, location='ladson, south carolina, usa', rating_count=1),\n",
       " Row(user_id=131128, location='suffolk, virginia, usa', rating_count=4),\n",
       " Row(user_id=162119, location='sao paulo, , brazil', rating_count=1),\n",
       " Row(user_id=194752, location='penola, south australia, australia', rating_count=2),\n",
       " Row(user_id=274856, location='vaajakoski, n/a, finland', rating_count=3),\n",
       " Row(user_id=15602, location='cherry hill, new jersey, usa', rating_count=43),\n",
       " Row(user_id=254320, location='yukon, oklahoma, usa', rating_count=2),\n",
       " Row(user_id=147075, location='surrey, british columbia, canada', rating_count=3),\n",
       " Row(user_id=124646, location='noble, illinois, usa', rating_count=7),\n",
       " Row(user_id=187025, location='tulsa, oklahoma, usa', rating_count=4),\n",
       " Row(user_id=35416, location='sarasota, florida, usa', rating_count=1),\n",
       " Row(user_id=264087, location='madison, alabama, usa', rating_count=1),\n",
       " Row(user_id=237399, location='groningen, groningen, netherlands', rating_count=1),\n",
       " Row(user_id=199522, location='chicoutimi, quebec, canada', rating_count=1),\n",
       " Row(user_id=215622, location='paris, ile de france, france', rating_count=13),\n",
       " Row(user_id=232859, location='annandale, virginia, usa', rating_count=1),\n",
       " Row(user_id=96880, location='seattle, washington, usa', rating_count=27),\n",
       " Row(user_id=273983, location='dayton, ohio, usa', rating_count=1),\n",
       " Row(user_id=43436, location='san diego, california, usa', rating_count=33),\n",
       " Row(user_id=30771, location='chicago, illinois, usa', rating_count=7),\n",
       " Row(user_id=82232, location='barcelona, barcelona, spain', rating_count=1),\n",
       " Row(user_id=277777, location='baton rouge, louisiana, usa', rating_count=1),\n",
       " Row(user_id=204600, location='tucson, arizona, usa', rating_count=1),\n",
       " Row(user_id=198352, location='brugherio, lombardia, italy', rating_count=1),\n",
       " Row(user_id=93312, location='tustin, california, usa', rating_count=26),\n",
       " Row(user_id=23340, location='cleveland, ohio, usa', rating_count=1),\n",
       " Row(user_id=32036, location='lakeland, florida, usa', rating_count=9),\n",
       " Row(user_id=31464, location='epalinges, vaud, switzerland', rating_count=12),\n",
       " Row(user_id=29785, location='rotterdam, zuid holland, netherlands', rating_count=1),\n",
       " Row(user_id=73897, location='houston, texas, usa', rating_count=1),\n",
       " Row(user_id=210006, location='east amherst, new york, usa', rating_count=6),\n",
       " Row(user_id=195041, location='cameron, illinois, usa', rating_count=12),\n",
       " Row(user_id=2850, location='san diego, california, usa', rating_count=1),\n",
       " Row(user_id=114615, location='baltimore, maryland, usa', rating_count=1),\n",
       " Row(user_id=130469, location='tampa, florida, usa', rating_count=2),\n",
       " Row(user_id=229862, location='bronx, new york, usa', rating_count=25),\n",
       " Row(user_id=151434, location='oakley, california, usa', rating_count=5),\n",
       " Row(user_id=69907, location='ocala, florida, usa', rating_count=2),\n",
       " Row(user_id=35065, location='milan, tennessee, usa', rating_count=1),\n",
       " Row(user_id=179722, location='concord, north carolina, usa', rating_count=1),\n",
       " Row(user_id=6545, location='winnipeg, manitoba, canada', rating_count=2),\n",
       " Row(user_id=83231, location='martinez, california, usa', rating_count=3),\n",
       " Row(user_id=208225, location='hendersonville, north carolina, usa', rating_count=1),\n",
       " Row(user_id=175231, location='oxon hill, maryland, usa', rating_count=1),\n",
       " Row(user_id=39407, location='san antonio, texas, usa', rating_count=1),\n",
       " Row(user_id=49547, location='omaha, nebraska, usa', rating_count=1),\n",
       " Row(user_id=91624, location='ottawa, ontario, canada', rating_count=1),\n",
       " Row(user_id=265015, location='rokiskis, lt., lithuania', rating_count=2),\n",
       " Row(user_id=274034, location='vancouver, british columbia, canada', rating_count=1),\n",
       " Row(user_id=177050, location='warner robins, georgia, usa', rating_count=7),\n",
       " Row(user_id=156992, location='jackson, mississippi, usa', rating_count=1),\n",
       " Row(user_id=75312, location='katy, texas, usa', rating_count=1),\n",
       " Row(user_id=269576, location='bluff, utah, usa', rating_count=1),\n",
       " Row(user_id=256462, location='college station, texas, usa', rating_count=2),\n",
       " Row(user_id=186831, location='ypsilanti, michigan, usa', rating_count=19),\n",
       " Row(user_id=78796, location='detmold, nordrhein-westfalen, germany', rating_count=2),\n",
       " Row(user_id=248361, location='wahnapitae, ontario, canada', rating_count=1),\n",
       " Row(user_id=163720, location='la mesa, california, usa', rating_count=1),\n",
       " Row(user_id=38913, location='pully, vd, switzerland', rating_count=1),\n",
       " Row(user_id=207342, location='parkersburg, west virginia, usa', rating_count=1),\n",
       " Row(user_id=35654, location='flagstaff hill, south australia, australia', rating_count=3),\n",
       " Row(user_id=115084, location='red deer, alberta, canada', rating_count=1),\n",
       " Row(user_id=99801, location='leicester, leicestershire, united kingdom', rating_count=3),\n",
       " Row(user_id=219566, location='zeeland, michigan, usa', rating_count=3),\n",
       " Row(user_id=193825, location='quakertown, pennsylvania, usa', rating_count=1),\n",
       " Row(user_id=276875, location='roma, lazio, italy', rating_count=9),\n",
       " Row(user_id=147851, location='buffalo, texas, usa', rating_count=29),\n",
       " Row(user_id=101141, location='cincinnati, ohio, usa', rating_count=30),\n",
       " Row(user_id=161958, location='quebec, quebec, canada', rating_count=1),\n",
       " Row(user_id=278140, location='walnut creek, california, usa', rating_count=1),\n",
       " Row(user_id=212909, location='portland, maine, usa', rating_count=2),\n",
       " Row(user_id=156041, location='mountain view, california, usa', rating_count=1),\n",
       " Row(user_id=98696, location='livingston, new jersey, usa', rating_count=1),\n",
       " Row(user_id=106810, location='melbourne, victoria, australia', rating_count=1),\n",
       " Row(user_id=215138, location='huddinge, n/a, sweden', rating_count=1),\n",
       " Row(user_id=278462, location='tucson, arizona, usa', rating_count=1),\n",
       " Row(user_id=265925, location='on the whisper of a breeze, n/a, everywhere and anywhere', rating_count=10),\n",
       " Row(user_id=55237, location='seattle, washington, usa', rating_count=1),\n",
       " Row(user_id=178172, location='jerome, arizona, usa', rating_count=1),\n",
       " Row(user_id=194301, location='cincinnati, ohio, usa', rating_count=1),\n",
       " Row(user_id=275659, location='rijswijk, zuid-holland, netherlands', rating_count=8),\n",
       " Row(user_id=266253, location='ramona, california, usa', rating_count=7),\n",
       " Row(user_id=240098, location='revelstoke, british columbia, canada', rating_count=7),\n",
       " Row(user_id=163948, location='geelong, victoria, australia', rating_count=4),\n",
       " Row(user_id=744, location='ocala, florida, usa', rating_count=3),\n",
       " Row(user_id=271570, location='fort worth, texas, usa', rating_count=1),\n",
       " Row(user_id=98936, location='sillery, quebec, canada', rating_count=1),\n",
       " Row(user_id=179345, location='colfax, california, usa', rating_count=1),\n",
       " Row(user_id=49842, location='staten island, new york, usa', rating_count=61),\n",
       " Row(user_id=183290, location='ft myers beach, florida, usa', rating_count=3),\n",
       " Row(user_id=54116, location='weyhe, bremen, germany', rating_count=21),\n",
       " Row(user_id=261857, location='framingham, ,', rating_count=4),\n",
       " Row(user_id=47675, location='salt spring island, british columbia, canada', rating_count=1),\n",
       " Row(user_id=158796, location='nokomis, florida, usa', rating_count=1),\n",
       " Row(user_id=70213, location='mauldin, south carolina, usa', rating_count=1),\n",
       " Row(user_id=84770, location='toronto, ontario, canada', rating_count=15),\n",
       " Row(user_id=146702, location='vancouver, british columbia, canada', rating_count=1),\n",
       " Row(user_id=100651, location='roanoke, virginia, usa', rating_count=2),\n",
       " Row(user_id=173403, location='lake zurich, illinois, usa', rating_count=1),\n",
       " Row(user_id=185664, location='kingston, ontario, canada', rating_count=22),\n",
       " Row(user_id=8001, location='tucson, arizona, usa', rating_count=1),\n",
       " Row(user_id=224256, location='berlin, berlin, germany', rating_count=3),\n",
       " Row(user_id=77036, location='lansdale, pennsylvania, usa', rating_count=3),\n",
       " Row(user_id=180708, location='west bend, wisconsin, usa', rating_count=1),\n",
       " Row(user_id=143049, location='hubbard lake, michigan, usa', rating_count=1),\n",
       " Row(user_id=206567, location='new orleans, louisiana, usa', rating_count=360),\n",
       " Row(user_id=183733, location='yucaipa, california, usa', rating_count=1),\n",
       " Row(user_id=251744, location='los alamos, new mexico, usa', rating_count=11),\n",
       " Row(user_id=88825, location='so milwaukee, wisconsin, usa', rating_count=1),\n",
       " Row(user_id=74029, location='london, england, united kingdom', rating_count=1),\n",
       " Row(user_id=75922, location='soldiers grove, wisconsin, usa', rating_count=3),\n",
       " Row(user_id=97720, location='radolfzell, baden-wuerttemberg, germany', rating_count=1),\n",
       " Row(user_id=73884, location='enumclaw, washington, usa', rating_count=1),\n",
       " Row(user_id=251550, location='bathurst/calgary, new brunswick/alberta, canada', rating_count=1),\n",
       " Row(user_id=222570, location='boulder, colorado, usa', rating_count=1),\n",
       " Row(user_id=239315, location='verona, il veneto, l`italia', rating_count=1),\n",
       " Row(user_id=230748, location='sonoma, california, usa', rating_count=1),\n",
       " Row(user_id=164378, location='ponferrada, el bierzo, spain', rating_count=22),\n",
       " Row(user_id=154143, location='montclair, new jersey, usa', rating_count=1),\n",
       " Row(user_id=191827, location='bologna, emilia romagna, italy', rating_count=1),\n",
       " Row(user_id=147678, location='austin, texas, usa', rating_count=37),\n",
       " Row(user_id=46817, location='washington, dc, usa', rating_count=1),\n",
       " Row(user_id=261479, location='plano, texas, usa', rating_count=1),\n",
       " Row(user_id=260175, location='edinburgh, scotland, united kingdom', rating_count=6),\n",
       " Row(user_id=141496, location='sterling, virginia, usa', rating_count=16),\n",
       " Row(user_id=16222, location='st. pete beach, florida, usa', rating_count=1),\n",
       " Row(user_id=243769, location='pewaukee, wisconsin, usa', rating_count=1),\n",
       " Row(user_id=78855, location='los angeles, california, usa', rating_count=2),\n",
       " Row(user_id=103628, location='brighton, east sussex, united kingdom', rating_count=1),\n",
       " Row(user_id=103526, location='harrodsburg, kentucky, usa', rating_count=2),\n",
       " Row(user_id=231969, location='dekalb, illinois, usa', rating_count=2),\n",
       " Row(user_id=219615, location='albuquerque, new mexico, usa', rating_count=1),\n",
       " Row(user_id=131112, location='raritan, new jersey, usa', rating_count=1),\n",
       " Row(user_id=79933, location='leonberg, baden-wuerttemberg, germany', rating_count=33),\n",
       " Row(user_id=25249, location='minneapolis, minnesota, usa', rating_count=1),\n",
       " Row(user_id=149328, location='oskaloosa, kansas, usa', rating_count=1),\n",
       " Row(user_id=236301, location='kingsley, pennsylvania, usa', rating_count=1),\n",
       " Row(user_id=119879, location='london, england, united kingdom', rating_count=2),\n",
       " Row(user_id=96429, location='cleveland hts, ohio, usa', rating_count=1),\n",
       " Row(user_id=3315, location='tamworth, new south wales, australia', rating_count=2),\n",
       " Row(user_id=210535, location='boyce, louisiana, usa', rating_count=7),\n",
       " Row(user_id=64785, location='spencer, indiana, usa', rating_count=1),\n",
       " Row(user_id=171778, location='bloomington, illinois, usa', rating_count=2),\n",
       " Row(user_id=255161, location='lancaster, england, united kingdom', rating_count=7),\n",
       " Row(user_id=16415, location='torrance, california, usa', rating_count=1),\n",
       " Row(user_id=215180, location='hilliard, ohio, usa', rating_count=18),\n",
       " Row(user_id=75529, location='northridge, california, usa', rating_count=1),\n",
       " Row(user_id=60240, location='oswego, illinois, usa', rating_count=1),\n",
       " Row(user_id=168971, location='athabasca, alberta, canada', rating_count=24),\n",
       " Row(user_id=195586, location='ottawa, ontario, canada', rating_count=1),\n",
       " Row(user_id=55375, location='kitchener, ontario, canada', rating_count=33),\n",
       " Row(user_id=113584, location='ardmore, pennsylvania, usa', rating_count=2),\n",
       " Row(user_id=98234, location='plymouth, devon, united kingdom', rating_count=1),\n",
       " Row(user_id=148101, location='bergen, new york, usa', rating_count=1),\n",
       " Row(user_id=228945, location='raleigh, north carolina, usa', rating_count=2),\n",
       " Row(user_id=271438, location='morgantown, west virginia, usa', rating_count=5),\n",
       " Row(user_id=12917, location='moore, oklahoma, usa', rating_count=45),\n",
       " Row(user_id=131532, location='san francisco, california, usa', rating_count=1),\n",
       " Row(user_id=86992, location='craig, colorado, usa', rating_count=1),\n",
       " Row(user_id=40974, location='new york, new york, usa', rating_count=2),\n",
       " Row(user_id=97570, location='st. leon-rot, n/a, germany', rating_count=1),\n",
       " Row(user_id=13861, location='o`fallon, missouri, usa', rating_count=1),\n",
       " Row(user_id=8855, location='seattle, washington, usa', rating_count=5),\n",
       " Row(user_id=158962, location='courbevoie, ile-de-france, france', rating_count=4),\n",
       " Row(user_id=16168, location='tucson, arizona, usa', rating_count=2),\n",
       " Row(user_id=259285, location='ionia, michigan, usa', rating_count=3),\n",
       " Row(user_id=118490, location='portsmouth, new hampshire, usa', rating_count=7),\n",
       " Row(user_id=237949, location='sunriver, oregon, usa', rating_count=1),\n",
       " Row(user_id=219227, location='freedom, new york, usa', rating_count=1),\n",
       " Row(user_id=187512, location='hamburg, n/a, germany', rating_count=1),\n",
       " Row(user_id=16231, location='kanata, ontario, canada', rating_count=12),\n",
       " Row(user_id=75802, location='folsom, california, usa', rating_count=7),\n",
       " Row(user_id=139338, location='leipzig, sachsen, germany', rating_count=2),\n",
       " Row(user_id=200152, location='lexington, kentucky,', rating_count=3),\n",
       " Row(user_id=192138, location='gainesville, florida, usa', rating_count=1),\n",
       " Row(user_id=163584, location='new brunswick, new jersey, usa', rating_count=1),\n",
       " Row(user_id=37078, location='hamilton, n/a, new zealand', rating_count=1),\n",
       " Row(user_id=190925, location='hobe sound, florida, usa', rating_count=2088),\n",
       " Row(user_id=237132, location='columbia, missouri, usa', rating_count=24),\n",
       " Row(user_id=267552, location='denton, texas, usa', rating_count=3),\n",
       " Row(user_id=190809, location='eliot, maine, usa', rating_count=2),\n",
       " Row(user_id=126927, location='bonham, texas, usa', rating_count=3),\n",
       " Row(user_id=24748, location='barcelona, barcelona, spain', rating_count=6),\n",
       " Row(user_id=276878, location='albany, california, usa', rating_count=1),\n",
       " Row(user_id=73592, location='overland park, ,', rating_count=1),\n",
       " Row(user_id=264133, location='huntland, tennessee, usa', rating_count=2),\n",
       " Row(user_id=72644, location='karlsruhe, baden-württemberg, germany', rating_count=1),\n",
       " Row(user_id=173922, location='oceanside, california, usa', rating_count=4),\n",
       " Row(user_id=201143, location='long prairie, minnesota, usa', rating_count=1),\n",
       " Row(user_id=274339, location='sidney, british columbia, canada', rating_count=9),\n",
       " Row(user_id=137097, location='new milford, new jersey, usa', rating_count=1),\n",
       " Row(user_id=31939, location='san mateo, california, usa', rating_count=3),\n",
       " Row(user_id=28647, location='aspinwall, pennsylvania, usa', rating_count=8),\n",
       " Row(user_id=778, location='bradenton, florida, usa', rating_count=1),\n",
       " Row(user_id=277203, location='olympia, washington, usa', rating_count=53),\n",
       " Row(user_id=193677, location='vancouver, british columbia, canada', rating_count=1),\n",
       " Row(user_id=234136, location='rowlett, texas, usa', rating_count=1),\n",
       " Row(user_id=101929, location='washington dc, dc, usa', rating_count=1),\n",
       " Row(user_id=51725, location='gold coast, queensland, australia', rating_count=4),\n",
       " Row(user_id=13127, location='palo alto, california, usa', rating_count=2),\n",
       " Row(user_id=37918, location='vancouver, british columbia, canada', rating_count=2),\n",
       " Row(user_id=11266, location='tujunga, california, usa', rating_count=5),\n",
       " Row(user_id=229501, location='zaragoza, zaragoza, spain', rating_count=20),\n",
       " Row(user_id=114589, location='saint louis, missouri, usa', rating_count=1),\n",
       " Row(user_id=23951, location='morehead, kentucky, usa', rating_count=1),\n",
       " Row(user_id=123930, location='penticton, british columbia, canada', rating_count=1),\n",
       " Row(user_id=39304, location='spruce grove, alberta, canada', rating_count=1),\n",
       " Row(user_id=267811, location='harleysville, pennsylvania, usa', rating_count=7),\n",
       " Row(user_id=2074, location='madrid, madrid, spain', rating_count=3),\n",
       " Row(user_id=185672, location='lancaster, ,', rating_count=5),\n",
       " Row(user_id=16106, location='albany, california, usa', rating_count=263),\n",
       " Row(user_id=97882, location='kwai chung, nt, hong kong', rating_count=1),\n",
       " Row(user_id=60443, location='stoke-on-trent, england, united kingdom', rating_count=1),\n",
       " Row(user_id=175032, location='marysville, washington, usa', rating_count=1),\n",
       " Row(user_id=66225, location='buchanan, virginia, usa', rating_count=2),\n",
       " Row(user_id=149491, location='terrassa, catalunya, spain', rating_count=1),\n",
       " Row(user_id=71076, location='seymour, tennessee, usa', rating_count=9),\n",
       " Row(user_id=171181, location='stockholm, stockholm, sweden', rating_count=1),\n",
       " Row(user_id=122867, location='rochester, new york, usa', rating_count=22),\n",
       " Row(user_id=198407, location='lausanne, vaud, switzerland', rating_count=2),\n",
       " Row(user_id=275020, location='new york, new york, usa', rating_count=126),\n",
       " Row(user_id=82562, location='austin, texas, usa', rating_count=1),\n",
       " Row(user_id=32283, location='boone, north carolina, usa', rating_count=4),\n",
       " Row(user_id=209606, location='maple hts, ohio, usa', rating_count=1),\n",
       " Row(user_id=84399, location='gundelfingen, bayern, germany', rating_count=1),\n",
       " Row(user_id=31285, location='sedrowoolley, washington, usa', rating_count=3),\n",
       " Row(user_id=86312, location='hamilton, ontario, canada', rating_count=1),\n",
       " Row(user_id=19898, location='bluff, southland, new zealand', rating_count=1),\n",
       " Row(user_id=45469, location='cambridge, massachusetts, usa', rating_count=1),\n",
       " Row(user_id=89023, location='london, england, united kingdom', rating_count=4),\n",
       " Row(user_id=133188, location='bradford, pennsylvania, usa', rating_count=1),\n",
       " Row(user_id=269330, location='oviedo, asturias, spain', rating_count=1),\n",
       " Row(user_id=54925, location='san francisco, california, usa', rating_count=10),\n",
       " Row(user_id=190849, location='san diego, california, usa', rating_count=1),\n",
       " Row(user_id=127169, location='san antonio, texas, usa', rating_count=1),\n",
       " Row(user_id=128809, location='ourense, ourense, spain', rating_count=5),\n",
       " Row(user_id=6402, location='halifax, nova scotia, canada', rating_count=1),\n",
       " Row(user_id=196610, location='charlotte, north carolina, usa', rating_count=1),\n",
       " Row(user_id=187701, location='vancouver, ,', rating_count=1),\n",
       " Row(user_id=5585, location='arlington, virginia, usa', rating_count=6),\n",
       " Row(user_id=80071, location='salt lake city, utah, usa', rating_count=46),\n",
       " Row(user_id=91779, location='austin, texas, usa', rating_count=2),\n",
       " Row(user_id=117116, location='st. peters, missouri, usa', rating_count=1),\n",
       " Row(user_id=82348, location='charlotte, north carolina, usa', rating_count=1),\n",
       " Row(user_id=37986, location='vancouver, british columbia, canada', rating_count=1),\n",
       " Row(user_id=234182, location='leola, pennsylvania, usa', rating_count=1),\n",
       " Row(user_id=113582, location='orem, utah, usa', rating_count=1),\n",
       " Row(user_id=180760, location='union city, california, usa', rating_count=1),\n",
       " Row(user_id=234144, location='west grove, pennsylvania, usa', rating_count=2),\n",
       " Row(user_id=157657, location='paris, île de france, france', rating_count=19),\n",
       " Row(user_id=166552, location='salina, kansas, usa', rating_count=1),\n",
       " Row(user_id=250294, location='montara, california, usa', rating_count=2),\n",
       " Row(user_id=191589, location='san francisco, california, usa', rating_count=6),\n",
       " Row(user_id=30291, location='san leandro, california, usa', rating_count=5),\n",
       " Row(user_id=133462, location='plainville, massachusetts, usa', rating_count=5),\n",
       " Row(user_id=52396, location='innsbruck, tirol, austria', rating_count=1),\n",
       " Row(user_id=242299, location='orlando, florida, usa', rating_count=394),\n",
       " Row(user_id=228703, location='cadillac, michigan, usa', rating_count=1),\n",
       " Row(user_id=28793, location='luling, texas, usa', rating_count=1),\n",
       " Row(user_id=60373, location='couer d` alene, idaho, usa', rating_count=1),\n",
       " Row(user_id=47138, location='montello, wisconsin, usa', rating_count=1),\n",
       " Row(user_id=28816, location='ilkley, yorkshire, united kingdom', rating_count=1),\n",
       " Row(user_id=94074, location='zevenaar, gelderland, netherlands', rating_count=2),\n",
       " Row(user_id=233817, location='columbus, ohio, usa', rating_count=1),\n",
       " Row(user_id=819, location='deer park, new york, usa', rating_count=7),\n",
       " Row(user_id=61028, location='charleston, south carolina, usa', rating_count=165),\n",
       " Row(user_id=28086, location='salem, connecticut, usa', rating_count=2),\n",
       " Row(user_id=272158, location='oeiras, lisboa, portugal', rating_count=2),\n",
       " Row(user_id=6120, location='elizabethtown, kentucky, usa', rating_count=28),\n",
       " Row(user_id=129223, location='st-lambert de lauzon, quebec, canada', rating_count=1),\n",
       " ...]"
      ]
     },
     "execution_count": 69,
     "metadata": {},
     "output_type": "execute_result"
    }
   ],
   "source": [
    "result.all(\n",
    ")"
   ]
  },
  {
   "cell_type": "code",
   "execution_count": 74,
   "metadata": {},
   "outputs": [],
   "source": [
    "df_result = pd.DataFrame(result.all())"
   ]
  },
  {
   "cell_type": "code",
   "execution_count": 73,
   "metadata": {},
   "outputs": [
    {
     "name": "stdout",
     "output_type": "stream",
     "text": [
      "Empty DataFrame\n",
      "Columns: []\n",
      "Index: []\n"
     ]
    }
   ],
   "source": [
    "print(df_result)"
   ]
  }
 ],
 "metadata": {
  "colab": {
   "provenance": []
  },
  "kernelspec": {
   "display_name": "Python 3 (ipykernel)",
   "language": "python",
   "name": "python3"
  },
  "language_info": {
   "codemirror_mode": {
    "name": "ipython",
    "version": 3
   },
   "file_extension": ".py",
   "mimetype": "text/x-python",
   "name": "python",
   "nbconvert_exporter": "python",
   "pygments_lexer": "ipython3",
   "version": "3.9.6"
  }
 },
 "nbformat": 4,
 "nbformat_minor": 4
}
