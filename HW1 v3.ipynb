{
 "cells": [
  {
   "cell_type": "markdown",
   "metadata": {
    "id": "QcxOIdPuj4zS"
   },
   "source": [
    "# HW 1 - Data Platform IDC\n",
    "ID1: 308564293\n",
    "\n",
    "ID2: 311898746"
   ]
  },
  {
   "cell_type": "markdown",
   "metadata": {
    "id": "qr7oPwN2kp01"
   },
   "source": [
    "## Step 1: Setup Cassandra Cluster locally -"
   ]
  },
  {
   "cell_type": "markdown",
   "metadata": {
    "editable": true,
    "id": "2RtlqrV1ktnv",
    "slideshow": {
     "slide_type": ""
    },
    "tags": []
   },
   "source": [
    "> Code is in markdown as we don't want to run this from the notebook\n",
    "> The setup is oriented for mac env"
   ]
  },
  {
   "cell_type": "markdown",
   "metadata": {
    "editable": true,
    "id": "KTMrqGmDkw3b",
    "slideshow": {
     "slide_type": ""
    },
    "tags": []
   },
   "source": [
    "Make sure Docker Desktop is installed. If not, download and install Docker from the official website [Get Docker | Docker Docs](https://docs.docker.com/get-docker/)."
   ]
  },
  {
   "cell_type": "markdown",
   "metadata": {
    "editable": true,
    "slideshow": {
     "slide_type": ""
    },
    "tags": []
   },
   "source": [
    "Download docker image for cassandra\n",
    "```bash\n",
    "docker pull cassandra:latest\n",
    "```"
   ]
  },
  {
   "cell_type": "markdown",
   "metadata": {
    "editable": true,
    "slideshow": {
     "slide_type": ""
    },
    "tags": []
   },
   "source": [
    "Run container locally open for conncetion from the notebook\n",
    "```bash\n",
    "docker run --volume=/var/lib/cassandra --restart=no -p 127.0.0.1:9042:9042 -p 127.0.0.1:9160:9160 --name hw-cass -d cassandra:latest\n",
    "```"
   ]
  },
  {
   "cell_type": "markdown",
   "metadata": {
    "editable": true,
    "slideshow": {
     "slide_type": ""
    },
    "tags": []
   },
   "source": [
    "Connect to run `cqlsh` locally\n",
    "```bash\n",
    "docker exec -it hw-cass cqlsh\n",
    "```"
   ]
  },
  {
   "cell_type": "markdown",
   "metadata": {
    "editable": true,
    "slideshow": {
     "slide_type": ""
    },
    "tags": []
   },
   "source": [
    "## Step 2: Setup python environment"
   ]
  },
  {
   "cell_type": "markdown",
   "metadata": {
    "editable": true,
    "slideshow": {
     "slide_type": ""
    },
    "tags": []
   },
   "source": [
    "install python\n",
    "```bash\n",
    "brew install python\n",
    "```"
   ]
  },
  {
   "cell_type": "markdown",
   "metadata": {
    "editable": true,
    "slideshow": {
     "slide_type": ""
    },
    "tags": []
   },
   "source": [
    "install required libraries\n",
    "\n",
    "Install libraries\n",
    "```bash\n",
    "pip3 install cassandra-driver\n",
    "pip3 install pandas\n",
    "```"
   ]
  },
  {
   "cell_type": "code",
   "execution_count": 62,
   "metadata": {
    "editable": true,
    "slideshow": {
     "slide_type": ""
    },
    "tags": []
   },
   "outputs": [],
   "source": [
    "# Cassandra-driver\n",
    "from cassandra.cluster import Cluster\n",
    "from cassandra.query import SimpleStatement, BatchStatement\n",
    "\n",
    "# Data\n",
    "import csv\n",
    "import pandas as pd\n",
    "import concurrent.futures\n",
    "from collections import namedtuple\n",
    "\n",
    "# Graphics\n",
    "import matplotlib.pyplot as plt\n",
    "import seaborn as sns"
   ]
  },
  {
   "cell_type": "markdown",
   "metadata": {
    "editable": true,
    "id": "uvV_bF1Elk9I",
    "slideshow": {
     "slide_type": ""
    },
    "tags": []
   },
   "source": [
    "## Step 3: Choosing the dataset"
   ]
  },
  {
   "cell_type": "markdown",
   "metadata": {
    "editable": true,
    "slideshow": {
     "slide_type": ""
    },
    "tags": []
   },
   "source": [
    "##### Data set content - [Dataset link.](https://www.kaggle.com/datasets/arashnic/book-recommendation-dataset/data)\n",
    "The Book-Crossing dataset has 3 files and is given in .csv form.\n",
    "\n",
    "\n",
    "`Users` Has 3 colums:\n",
    "* User-ID (int): Anonymized user identifier mapped to integers.\n",
    "* Location (text): Demographic information about the user's location.\n",
    "* Age (float): Age of the user. May contain NULL-values if not available.\n",
    "\n",
    "Rows:  279K, each identifing a user.\n",
    "\n",
    "`Books` Has 8 columns:\n",
    "* SBN (text): Unique identifier for each book.\n",
    "* Book-Title (text): Title of the book.\n",
    "* Book-Author (text): Author of the book. In case of multiple authors, only the first one is provided.\n",
    "* Year-Of-Publication (int): The year when the book was published.\n",
    "* Publisher (text): The publisher of the book.\n",
    "* Image-URL-S, Image-URL-M, Image-URL-L (text): URLs linking to cover images in small, medium, and large sizes.\n",
    "\n",
    "Rows: 271K, that identify books.\n",
    "\n",
    "`Ratings` Has 3 columns:\n",
    "* User-ID (int): Anonymized user identifier corresponding to Users table.\n",
    "* ISBN (text): Unique identifier corresponding to Books table.\n",
    "* Book-Rating (int): User's rating for a particular book. Explicit ratings are on a scale from 1-10, while implicit ratings are expressed as 0.\n",
    "\n",
    "Rows: 1.14M, each representing an interaction where a user rated a specific (single) book.\n",
    "\n",
    "\n",
    "#### Dataset Selection\n",
    "* The dataset was selected for it's very large size (14 columsn and over 1.5M rows) that will allow us to explore Cassandra's strengths with large datasets.\n",
    "* The dataset is also realistic, reflecting a real-life scenario of different data soruces and systems that are interconnected. \n",
    "* Data is relatively well organized and clean.\n",
    "\n",
    "**In this project:** The data set is stored in the `Data` folder - where the names of the files are corresponding to the explnation above."
   ]
  },
  {
   "attachments": {},
   "cell_type": "markdown",
   "metadata": {
    "editable": true,
    "slideshow": {
     "slide_type": ""
    },
    "tags": []
   },
   "source": [
    "## Step 4: Cassendra Database design\n",
    "\n",
    "##### Databse Design\n",
    "The DB will be designed in accordance to the queries that we will want to run:\n",
    "* Queries related to the books rating, number of rates, avg rating.\n",
    "* Queries related to authors, most rated authors, highest rated authors.\n",
    "* Most active users (users with highest rating counts) and their locations.\n",
    "\n",
    "From this the structure of the DB will be built to reflect these queries. \n",
    "`books` and `users` will be tables that correspond to a database of books and users with their full information.\n",
    "\n",
    "`books_rated_by_user` will contain each transaction (rating event) keyed by the book ID. Similalry, `users_by_rated_books` will contrain the same transaction information but keyed by the user.\n",
    "\n",
    "This will allow us to access data based on book ID or user ID and also preform aggregations on each of the partition keys.\n",
    "\n",
    "##### `books`\n",
    "* **Structure**: ISBN: text, Book-Title: text, Book-Author: text, Year-Of-Publication: int, Publisher: text, Image-URL-S: text, Image-URL-M: text, Image-URL-L: text\n",
    "* **Primary key**: (ISBN)\n",
    "* **Partition Key**: ISBN\n",
    "* **Clustering Column**: None\n",
    "\n",
    "ISBN is a unique identifier per book so it will be the partition key.\n",
    "\n",
    "\n",
    "##### `users`\n",
    "* **Structure**: User-ID: int, Location: text, Age: int \n",
    "* **Primary key**: (User-ID)\n",
    "* **Partition Key**: User-ID\n",
    "* **Clustering Column**: None\n",
    "\n",
    "User-ID is a unique identifier per user so it will be the partition key.\n",
    "\n",
    "##### `books_rated_by_user`\n",
    "* **Structure**: User-ID: int, Age: int, location: text, isbn: text, book_author: text, yop: int, publisher: text, book_rating: int\n",
    "* **Primary key**: ((ISBN), User-ID)\n",
    "* **Partition Key**: ISBN\n",
    "* **Clustering Column**: User-ID\n",
    "\n",
    "User-ID and ISBN are unique identifiers for a transaction assuming that each user rates a book once, so they are the primary key. \n",
    "ISBN is selected to be the partition key to allow aggregation by book.\n",
    "\n",
    "##### `users_by_rated_books`\n",
    "* **Structure**: User-ID: int, Age: int, location: text, isbn: text, book_author: text, yop: int, publisher: text, book_rating: int\n",
    "* **Primary key**: ((User-ID), ISBN)\n",
    "* **Partition Key**: User-ID\n",
    "* **Clustering Column**: ISBN\n",
    "\n",
    "Data structure is similar to `books_rated_by_user` with the exception of User-ID as the partition key. This is to allow aggregation of transactions by user."
   ]
  },
  {
   "cell_type": "markdown",
   "metadata": {
    "editable": true,
    "slideshow": {
     "slide_type": ""
    },
    "tags": []
   },
   "source": [
    "## Step 5: Setup keyspace and tables"
   ]
  },
  {
   "cell_type": "markdown",
   "metadata": {
    "editable": true,
    "slideshow": {
     "slide_type": ""
    },
    "tags": []
   },
   "source": [
    "First - We would like to load all the libraries need for ingestion and working with the cassandra DB"
   ]
  },
  {
   "cell_type": "markdown",
   "metadata": {
    "editable": true,
    "slideshow": {
     "slide_type": ""
    },
    "tags": []
   },
   "source": [
    "Connect to our cassandra instance."
   ]
  },
  {
   "cell_type": "code",
   "execution_count": 3,
   "metadata": {
    "editable": true,
    "slideshow": {
     "slide_type": ""
    },
    "tags": []
   },
   "outputs": [],
   "source": [
    "# Connect Cassandra-Driver to the Cluster running on the Docker:\n",
    "cluster = Cluster(['127.0.0.1'])\n",
    "session = cluster.connect()"
   ]
  },
  {
   "cell_type": "markdown",
   "metadata": {
    "editable": true,
    "slideshow": {
     "slide_type": ""
    },
    "tags": []
   },
   "source": [
    "Create out key space `books`.\n",
    "We will use `SimpleStrategy` and `replication_factor` = `1` as they serve us well for the purpose of this excsrsize - as we are not looking for any HA or significant scale"
   ]
  },
  {
   "cell_type": "code",
   "execution_count": 4,
   "metadata": {
    "editable": true,
    "slideshow": {
     "slide_type": ""
    },
    "tags": []
   },
   "outputs": [
    {
     "data": {
      "text/plain": [
       "<cassandra.cluster.ResultSet at 0x1c2c208ea50>"
      ]
     },
     "execution_count": 4,
     "metadata": {},
     "output_type": "execute_result"
    }
   ],
   "source": [
    "session.execute(\"CREATE KEYSPACE IF NOT EXISTS books WITH REPLICATION = { 'class' : 'SimpleStrategy', 'replication_factor' : 1 };\")"
   ]
  },
  {
   "cell_type": "markdown",
   "metadata": {
    "editable": true,
    "slideshow": {
     "slide_type": ""
    },
    "tags": []
   },
   "source": [
    "Make sure keyspace created"
   ]
  },
  {
   "cell_type": "code",
   "execution_count": 5,
   "metadata": {
    "editable": true,
    "slideshow": {
     "slide_type": ""
    },
    "tags": []
   },
   "outputs": [
    {
     "data": {
      "text/plain": [
       "\"CREATE KEYSPACE books WITH replication = {'class': 'SimpleStrategy', 'replication_factor': '1'}  AND durable_writes = true;\""
      ]
     },
     "execution_count": 5,
     "metadata": {},
     "output_type": "execute_result"
    }
   ],
   "source": [
    "session.execute(\"DESCRIBE books;\").one()[3]"
   ]
  },
  {
   "cell_type": "markdown",
   "metadata": {
    "editable": true,
    "slideshow": {
     "slide_type": ""
    },
    "tags": []
   },
   "source": [
    "Use the keyspace"
   ]
  },
  {
   "cell_type": "code",
   "execution_count": 6,
   "metadata": {
    "editable": true,
    "slideshow": {
     "slide_type": ""
    },
    "tags": []
   },
   "outputs": [],
   "source": [
    "session.execute(\"USE books\");"
   ]
  },
  {
   "cell_type": "markdown",
   "metadata": {},
   "source": [
    "##### Table creation: \n",
    "Next, we will create the tables according to the DB schema."
   ]
  },
  {
   "cell_type": "code",
   "execution_count": 7,
   "metadata": {
    "editable": true,
    "slideshow": {
     "slide_type": ""
    },
    "tags": []
   },
   "outputs": [],
   "source": [
    "session.execute(\"\"\"\n",
    "    CREATE TABLE IF NOT EXISTS books (\n",
    "        ISBN text,\n",
    "        Book_Title text,\n",
    "        Book_Author text,\n",
    "        Publisher text,\n",
    "        YOP int,       \n",
    "        Image_URL_S text,\n",
    "        Image_URL_M text,\n",
    "        Image_URL_L text,\n",
    "        PRIMARY KEY ((isbn))\n",
    "    )\n",
    "\"\"\").one()"
   ]
  },
  {
   "cell_type": "code",
   "execution_count": 8,
   "metadata": {
    "editable": true,
    "slideshow": {
     "slide_type": ""
    },
    "tags": []
   },
   "outputs": [],
   "source": [
    "session.execute(\"\"\"\n",
    "    CREATE TABLE IF NOT EXISTS users (\n",
    "        age float,\n",
    "        location text,\n",
    "        user_id int,\n",
    "        PRIMARY KEY(user_id)\n",
    "    )\n",
    "\"\"\").one()"
   ]
  },
  {
   "cell_type": "code",
   "execution_count": 9,
   "metadata": {
    "editable": true,
    "slideshow": {
     "slide_type": ""
    },
    "tags": []
   },
   "outputs": [],
   "source": [
    "session.execute(\"\"\"\n",
    "    CREATE TABLE IF NOT EXISTS books_rated_by_users (\n",
    "        user_id   int,\n",
    "        age int,\n",
    "        location text,\n",
    "        isbn   text,\n",
    "        book_author text,\n",
    "        yop int,\n",
    "        publisher text,\n",
    "        book_rating int,\n",
    "        primary key ((isbn), age, location, user_id)\n",
    "    )\n",
    "\"\"\").one()"
   ]
  },
  {
   "cell_type": "code",
   "execution_count": 10,
   "metadata": {},
   "outputs": [],
   "source": [
    "session.execute(\"\"\"\n",
    "    CREATE TABLE IF NOT EXISTS users_by_rated_books (\n",
    "        user_id   int,\n",
    "        age int,\n",
    "        location text,\n",
    "        isbn   text,\n",
    "        book_author text,\n",
    "        yop int,\n",
    "        publisher text,\n",
    "        book_rating int,\n",
    "        primary key ((user_id), publisher, isbn)\n",
    "    )\n",
    "\"\"\").one()"
   ]
  },
  {
   "cell_type": "markdown",
   "metadata": {},
   "source": [
    "##### Validation:"
   ]
  },
  {
   "cell_type": "code",
   "execution_count": 11,
   "metadata": {},
   "outputs": [
    {
     "data": {
      "text/plain": [
       "[Row(keyspace_name='books', type='table', name='books'),\n",
       " Row(keyspace_name='books', type='table', name='books_rated_by_user'),\n",
       " Row(keyspace_name='books', type='table', name='books_rated_by_users'),\n",
       " Row(keyspace_name='books', type='table', name='users'),\n",
       " Row(keyspace_name='books', type='table', name='users_by_rated_books')]"
      ]
     },
     "execution_count": 11,
     "metadata": {},
     "output_type": "execute_result"
    }
   ],
   "source": [
    "session.execute(\"\"\"DESCRIBE tables;\"\"\").all()\n"
   ]
  },
  {
   "cell_type": "markdown",
   "metadata": {
    "editable": true,
    "slideshow": {
     "slide_type": ""
    },
    "tags": []
   },
   "source": [
    "## Step 6: Data ingestion\n",
    "\n",
    "#### 6.1: CSV Import\n",
    "We will start by importing the .csv files into a dataframe and casting to the correct dtype."
   ]
  },
  {
   "cell_type": "code",
   "execution_count": 12,
   "metadata": {},
   "outputs": [],
   "source": [
    "Files = namedtuple(\"Files\", \"users ratings books\")\n",
    "\n",
    "files = Files(\n",
    "    users='Data/Users.csv',\n",
    "    ratings='Data/Ratings.csv',\n",
    "    books='Data/Books.csv'\n",
    ")\n",
    "\n",
    "# Specify data types for each column\n",
    "books_data_types = {\n",
    "    'ISBN': str,\n",
    "    'Book-Title': str,\n",
    "    'Book-Author': str,\n",
    "    'Year-Of-Publication': int,  \n",
    "    'Publisher': str,\n",
    "    'Image-URL-S': str,\n",
    "    'Image-URL-M': str,\n",
    "    'Image-URL-L': str,\n",
    "}\n",
    "\n",
    "users_data_types = {\n",
    "    'User-ID': int,\n",
    "    'Location': str,\n",
    "    'Age': float,  \n",
    "}\n",
    "\n",
    "ratings_data_types = {\n",
    "    'User-ID': int,\n",
    "    'ISBN': str,\n",
    "    'Book-Rating': int,\n",
    "}\n",
    "\n",
    "\n",
    "df_books = pd.read_csv(files.books, dtype=books_data_types)\n",
    "df_users = pd.read_csv(files.users, dtype=users_data_types)\n",
    "df_ratings = pd.read_csv(files.ratings, dtype=ratings_data_types)\n",
    "\n",
    "# clean whitespaces\n",
    "df_books.columns = df_books.columns.str.strip()\n"
   ]
  },
  {
   "cell_type": "markdown",
   "metadata": {},
   "source": [
    "> Note - If that CSV files were bigger, we would have to work in chunks in loading the df.\n",
    "\n",
    "*Merge DFs*:\n",
    "\n",
    "Next, we will merge and filter the dataframes to generate the data for the `books_rated_by_user` and `users_by_rated_books` tables, that are a join of the `ratings`, `users` and `books` .csv files. We will use the inner join to keep only rows with valid data."
   ]
  },
  {
   "cell_type": "code",
   "execution_count": 13,
   "metadata": {},
   "outputs": [],
   "source": [
    "# Merge df_ratings with df_users on 'user_id'\n",
    "df_merged = pd.merge(df_ratings, df_users, on='User-ID', how='inner')\n",
    "\n",
    "# Merge the result with df_books on 'isbn'\n",
    "df_merged = pd.merge(df_merged, df_books, on='ISBN', how='inner')\n",
    "\n",
    "# Select the desired columns for the new DataFrame\n",
    "df_merged = df_merged[['User-ID', 'Age', 'Location', 'ISBN', 'Book-Author', 'Year-Of-Publication', 'Publisher', 'Book-Rating']]\n",
    "\n",
    "# Remove rows with NaN values except for the 'Age' column from the existing DataFrame\n",
    "# this is useful since we have ratings for bools that not exist, this is less relevant for us\n",
    "df_merged.dropna(subset=df_merged.columns.difference(['Age']), inplace=True)"
   ]
  },
  {
   "cell_type": "markdown",
   "metadata": {},
   "source": [
    "*Validate:*\n",
    "\n",
    "We should only have NaN in the `age` collumn, other collumns shouldn't have NaN."
   ]
  },
  {
   "cell_type": "code",
   "execution_count": 14,
   "metadata": {},
   "outputs": [
    {
     "data": {
      "text/plain": [
       "User-ID                     0\n",
       "Age                    277835\n",
       "Location                    0\n",
       "ISBN                        0\n",
       "Book-Author                 0\n",
       "Year-Of-Publication         0\n",
       "Publisher                   0\n",
       "Book-Rating                 0\n",
       "dtype: int64"
      ]
     },
     "execution_count": 14,
     "metadata": {},
     "output_type": "execute_result"
    }
   ],
   "source": [
    "df_merged.isna().sum()"
   ]
  },
  {
   "cell_type": "markdown",
   "metadata": {},
   "source": [
    "#### 6.2 Data Ingestion function\n",
    "\n",
    "`df_load_data` function reads data from DF, splits it into batches, and inserts the data into a cassandra table.\n",
    "\n",
    "Batches are important for improving the performance and efficiency of inserting large amounts of data into a database table. They are generated using Cassandra Driver `BatchStatement()`.\n",
    "\n",
    "The data is cast to the type using a list that specifies dtypes.\n",
    "\n",
    "When inserting data into a database table, it is possible to insert row by row, or to insert multiple rows at once as a batch. Inserting data in a batch greatly improves the performance of inserting data into the database, as it reduces the number of round trips to the database and can ensure that the data is consistent. This is more efficient than inserting one row at a time, which can be slow and can lead to unnecessary overhead."
   ]
  },
  {
   "cell_type": "code",
   "execution_count": 15,
   "metadata": {},
   "outputs": [],
   "source": [
    "# TODO: improve the data casting\n",
    "# Helper function to construct the batch operation and then run concurrently\n",
    "def df_load_data(df, insert_query, data_types, batch_size=100, max_batches=None):\n",
    "    '''Load data from a DataFrame into a Cassandra table using batch inserts.\n",
    "        Inputs:\n",
    "        1. df: pandas DataFrame\n",
    "            DataFrame containing the data to be inserted.\n",
    "        2. insert_query: str\n",
    "            CQL query for inserting data into the Cassandra table.\n",
    "        3. data_types: list\n",
    "            List of data types corresponding to the columns in the DataFrame.\n",
    "        4. batch_size: int, optional (default=100)\n",
    "            Number of rows in each batch.\n",
    "        5. max_batches: int, optional (default=None)\n",
    "            Number of batches tp insert.\n",
    "\n",
    "        Returns: None\n",
    "    '''\n",
    "    \n",
    "    # Helper functions\n",
    "    def convert_data(row):\n",
    "        # Convert a single row's data to the correct format according to the data_types\n",
    "        converted_data = [data_type(value) if pd.notna(value) else data_type() for value, data_type in zip(row, data_types)]\n",
    "        return tuple(converted_data)\n",
    "\n",
    "    def import_batch(rows):\n",
    "        # Build a batch statement for the current set of rows (single batch)\n",
    "        batch = BatchStatement()\n",
    "        for row in rows.itertuples(index=False):\n",
    "            # Convert data types\n",
    "            try:\n",
    "                converted_row = convert_data(row)\n",
    "                #converted_row = row\n",
    "                #print(row)\n",
    "                # Create the query and add it to the batch\n",
    "                batch.add(insert_query, converted_row)\n",
    "            except Exception as e:\n",
    "                print(f\"error on row: {row}, skipping\")\n",
    "        session.execute(batch, trace=True)\n",
    "\n",
    "    # Function body\n",
    "    # split DataFrame to batches\n",
    "    df_split = [df.iloc[i:i + batch_size] for i in range(0, len(df), batch_size)][:max_batches]\n",
    "\n",
    "    for batch in df_split:\n",
    "        import_batch(batch)"
   ]
  },
  {
   "cell_type": "markdown",
   "metadata": {},
   "source": [
    "A helper function to cound the number of rows inserted to a cassandra table:"
   ]
  },
  {
   "cell_type": "code",
   "execution_count": 16,
   "metadata": {},
   "outputs": [],
   "source": [
    "def num_of_records(table):\n",
    "    count_query = f\"SELECT COUNT(1) FROM {table}\"\n",
    "    result = session.execute(count_query)\n",
    "    return result.one().count"
   ]
  },
  {
   "cell_type": "markdown",
   "metadata": {},
   "source": [
    "#### 6.3 Data Ingestion\n",
    "Now we will ingest the data using the `df_load_data` fucntion and validate for each table that the number of rows matches the number in the CSV.\n",
    "\n",
    "##### `books`:"
   ]
  },
  {
   "cell_type": "code",
   "execution_count": 23,
   "metadata": {},
   "outputs": [],
   "source": [
    "## books table\n",
    "# Insertion Query\n",
    "books_query = \"\"\"\n",
    "            INSERT INTO books (ISBN, Book_Title, Book_Author, yop, Publisher, Image_URL_S, Image_URL_M, Image_URL_L)\n",
    "            VALUES (%s, %s, %s, %s, %s, %s, %s, %s)\n",
    "            \"\"\"\n",
    "\n",
    "# A list of data types for this table\n",
    "books_data_types = [str, str, str, int, str, str, str, str] \n",
    "\n",
    "df_load_data(df_books, books_query, books_data_types)"
   ]
  },
  {
   "cell_type": "markdown",
   "metadata": {},
   "source": [
    "*Validation:*"
   ]
  },
  {
   "cell_type": "code",
   "execution_count": 17,
   "metadata": {
    "id": "CqgzndRPl8ig"
   },
   "outputs": [],
   "source": [
    "# Row count validation\n",
    "cass_len = num_of_records(\"books\")\n",
    "\n",
    "assert cass_len == df_books.shape[0]"
   ]
  },
  {
   "cell_type": "markdown",
   "metadata": {},
   "source": [
    "##### `users`:"
   ]
  },
  {
   "cell_type": "code",
   "execution_count": 28,
   "metadata": {},
   "outputs": [],
   "source": [
    "# Insertion Query\n",
    "users_query = \"\"\"\n",
    "                INSERT INTO users (User_ID, Location, Age)\n",
    "                VALUES (%s, %s, %s)\n",
    "                \"\"\"\n",
    "\n",
    "# A list of data types for this table\n",
    "users_data_types = [int, str, float]  # User_ID, Location, Age\n",
    "\n",
    "# load data\n",
    "df_load_data(df_users, users_query, users_data_types)"
   ]
  },
  {
   "cell_type": "markdown",
   "metadata": {},
   "source": [
    "*Validation:*"
   ]
  },
  {
   "cell_type": "code",
   "execution_count": 18,
   "metadata": {},
   "outputs": [],
   "source": [
    "# Row count validation\n",
    "cass_len = num_of_records(\"users\")\n",
    "\n",
    "assert cass_len == df_users.shape[0]"
   ]
  },
  {
   "cell_type": "code",
   "execution_count": 33,
   "metadata": {},
   "outputs": [
    {
     "data": {
      "text/plain": [
       "Index(['User-ID', 'Age', 'Location', 'ISBN', 'Book-Author',\n",
       "       'Year-Of-Publication', 'Publisher', 'Book-Rating'],\n",
       "      dtype='object')"
      ]
     },
     "execution_count": 33,
     "metadata": {},
     "output_type": "execute_result"
    }
   ],
   "source": [
    "df_merged.columns"
   ]
  },
  {
   "cell_type": "markdown",
   "metadata": {},
   "source": [
    "##### `books_rated_by_user`:"
   ]
  },
  {
   "cell_type": "code",
   "execution_count": 44,
   "metadata": {},
   "outputs": [],
   "source": [
    "## books_rated_by_user table\n",
    "# Insertion Query\n",
    "books_rated_by_user_query = \"\"\"\n",
    "            INSERT INTO books_rated_by_user (User_ID, Age, Location, ISBN, Book_Author,\n",
    "            yop, Publisher, Book_Rating)\n",
    "            VALUES (%s, %s, %s, %s, %s, %s, %s, %s)\n",
    "            \"\"\"\n",
    "\n",
    "# A list of data types for this table\n",
    "brbu_data_types = [int, int, str, str, str, int, str, int]  \n",
    "\n",
    "# load data\n",
    "df_load_data(df_merged,books_rated_by_user_query, brbu_data_types)"
   ]
  },
  {
   "cell_type": "markdown",
   "metadata": {},
   "source": [
    "*Validation:*"
   ]
  },
  {
   "cell_type": "code",
   "execution_count": 19,
   "metadata": {},
   "outputs": [],
   "source": [
    "# Row count validation\n",
    "cass_len = num_of_records(\"books_rated_by_user\")\n",
    "\n",
    "assert cass_len == df_merged.shape[0]"
   ]
  },
  {
   "cell_type": "markdown",
   "metadata": {},
   "source": [
    "##### `users_rated_by_books`:"
   ]
  },
  {
   "cell_type": "code",
   "execution_count": 46,
   "metadata": {},
   "outputs": [],
   "source": [
    "## books table\n",
    "# Insertion Query\n",
    "users_by_rated_books_query = \"\"\"\n",
    "            INSERT INTO users_by_rated_books (User_ID, Age, Location, ISBN, Book_Author,\n",
    "            yop, Publisher, Book_Rating)\n",
    "            VALUES (%s, %s, %s, %s, %s, %s, %s, %s)\n",
    "            \"\"\"\n",
    "\n",
    "# A list of data types for this table\n",
    "brbu_data_types = [int, int, str, str, str, int, str, int]  \n",
    "\n",
    "# load data\n",
    "df_load_data(df_merged,users_by_rated_books_query, brbu_data_types)"
   ]
  },
  {
   "cell_type": "markdown",
   "metadata": {},
   "source": [
    "*Validation:*"
   ]
  },
  {
   "cell_type": "code",
   "execution_count": 20,
   "metadata": {},
   "outputs": [],
   "source": [
    "# Row count validation\n",
    "cass_len = num_of_records(\"users_by_rated_books\")\n",
    "\n",
    "assert cass_len == df_merged.shape[0]"
   ]
  },
  {
   "cell_type": "markdown",
   "metadata": {
    "id": "RITM59YXmH4j"
   },
   "source": [
    "## Step 7: Data investigation"
   ]
  },
  {
   "cell_type": "markdown",
   "metadata": {},
   "source": [
    "- Book distribution by publisher - J\n",
    "- Book distribuiton by year - J\n",
    "- Book distribuiton by author - J\n",
    "- Avarage rating per user - J\n",
    "- Avarage rating per publisher - J\n",
    "- Popular Authors by Number of Ratings\n",
    "- Books with Highest Ratings and Most Ratings - ?\n",
    "\n",
    "- top rated book each year - B\n",
    "- top rated books by age - B \n",
    "- top rated authors by age - B,"
   ]
  },
  {
   "cell_type": "markdown",
   "metadata": {},
   "source": [
    "#### 7.1 Books and Rankings:\n",
    "We will start by investigating the book's rankings. We will query for each book how many rankings exist and what is the average ranking score."
   ]
  },
  {
   "cell_type": "code",
   "execution_count": 55,
   "metadata": {},
   "outputs": [],
   "source": [
    "# query number of rankings per book\n",
    "result = session.execute(\"\"\"\n",
    "        SELECT isbn, COUNT(book_rating)\n",
    "        FROM books_rated_by_user\n",
    "        GROUP BY isbn;\n",
    "                \"\"\")\n",
    "\n",
    "# Insert to DF\n",
    "df_book_rating = pd.DataFrame(result.all(), columns=['isbn', 'book_ratings_count'])\n",
    "\n",
    "# query avg. rating per book\n",
    "result = session.execute(\"\"\"\n",
    "        SELECT isbn, AVG(book_rating) as avg\n",
    "        FROM books_rated_by_user\n",
    "        GROUP BY isbn;\n",
    "                \"\"\")\n",
    "\n",
    "# Insert to DF and merge with previous using ISBN as key\n",
    "df_book_rating_avg = pd.DataFrame(result.all(), columns=['isbn', 'book_ratings_avg'])\n",
    "df_book_rating = pd.merge(df_book_rating, df_book_rating_avg, on='isbn', how='inner')"
   ]
  },
  {
   "cell_type": "markdown",
   "metadata": {},
   "source": [
    "*Top 10 Books*\n",
    "\n",
    "For better analysis we will add a column for `normalzied_score` which is the avergae ranking times the number of times a book was ranked.\n",
    "\n",
    "Then we will display the top 10 books by number of ranking and by normalized score."
   ]
  },
  {
   "cell_type": "code",
   "execution_count": 59,
   "metadata": {},
   "outputs": [
    {
     "name": "stdout",
     "output_type": "stream",
     "text": [
      "Top 10 Books by Number of Rankings:\n",
      "              isbn  book_ratings_count  book_ratings_avg  normalized_score\n",
      "145409  0971880107                2502                 1              2502\n",
      "102769  0316666343                1295                 4              5180\n",
      "258580  0385504209                 883                 4              3532\n",
      "138240  0060928336                 732                 3              2196\n",
      "228732  0312195516                 723                 4              2892\n",
      "94421   044023722X                 647                 3              1941\n",
      "87511   0142001740                 615                 4              2460\n",
      "61930   067976402X                 614                 3              1842\n",
      "36696   0671027360                 586                 3              1758\n",
      "44090   0446672211                 585                 4              2340\n",
      "\n",
      "Top 10 Books by Normalized Score:\n",
      "              isbn  book_ratings_count  book_ratings_avg  normalized_score\n",
      "102769  0316666343                1295                 4              5180\n",
      "258580  0385504209                 883                 4              3532\n",
      "228732  0312195516                 723                 4              2892\n",
      "145409  0971880107                2502                 1              2502\n",
      "87511   0142001740                 615                 4              2460\n",
      "44090   0446672211                 585                 4              2340\n",
      "262335  059035342X                 571                 4              2284\n",
      "138240  0060928336                 732                 3              2196\n",
      "38229   0452282152                 526                 4              2104\n",
      "94421   044023722X                 647                 3              1941\n"
     ]
    }
   ],
   "source": [
    "# Add normalized score\n",
    "df_book_rating['normalized_score'] = df_book_rating['book_ratings_count'] * df_book_rating['book_ratings_avg']\n",
    "\n",
    "# Display the top 10 books by number of rankings and normalized score\n",
    "top_10_by_rankings = df_book_rating.sort_values(by='book_ratings_count', ascending=False).head(10)\n",
    "top_10_by_normalized_score = df_book_rating.sort_values(by='normalized_score', ascending=False).head(10)\n",
    "\n",
    "print(\"Top 10 Books by Number of Rankings:\")\n",
    "print(top_10_by_rankings[['isbn', 'book_ratings_count', 'book_ratings_avg', 'normalized_score']])\n",
    "\n",
    "print(\"\\nTop 10 Books by Normalized Score:\")\n",
    "print(top_10_by_normalized_score[['isbn', 'book_ratings_count', 'book_ratings_avg', 'normalized_score']])"
   ]
  },
  {
   "cell_type": "markdown",
   "metadata": {},
   "source": [
    "*Rating vs. Rating count*\n",
    "\n",
    "Next, We will investigate the relation between the number of ratings a book has and it's average user rating."
   ]
  },
  {
   "cell_type": "code",
   "execution_count": 65,
   "metadata": {},
   "outputs": [
    {
     "data": {
      "image/png": "[encoded data removed]",
      "text/plain": [
       "<Figure size 400x300 with 1 Axes>"
      ]
     },
     "metadata": {},
     "output_type": "display_data"
    }
   ],
   "source": [
    "# sns setup\n",
    "plt.figure(figsize=(4, 3))  # Adjust the figure size\n",
    "sns.set_style(\"whitegrid\")  # Add a light grid\n",
    "\n",
    "# Graph the relation between avg ranking and number of rankings using Seaborn\n",
    "sns.scatterplot(y='book_ratings_count', x='book_ratings_avg', data=df_book_rating)\n",
    "plt.title('Relation between Number of rankings and Avg. ranking')\n",
    "plt.ylabel('Number of Rankings')\n",
    "plt.xlabel('Avg Ranking')\n",
    "plt.show()"
   ]
  },
  {
   "cell_type": "markdown",
   "metadata": {},
   "source": [
    "We expected higher rated books to have "
   ]
  },
  {
   "cell_type": "markdown",
   "metadata": {},
   "source": [
    "#### 7.2 Books and age:"
   ]
  },
  {
   "cell_type": "code",
   "execution_count": null,
   "metadata": {},
   "outputs": [],
   "source": [
    "# avg book rating per age\n",
    "result = session.execute(\"\"\"\n",
    "        SELECT isbn, age, AVG(book_rating), COUNT(book_rating)\n",
    "        FROM books.books_rated_by_user\n",
    "        GROUP BY isbn;\n",
    "                \"\"\")\n",
    "result.all()"
   ]
  },
  {
   "cell_type": "markdown",
   "metadata": {},
   "source": [
    "#### 7.3 Users behaviour:"
   ]
  },
  {
   "cell_type": "code",
   "execution_count": 67,
   "metadata": {},
   "outputs": [],
   "source": [
    "# find locations of users with most rankings\n",
    "result = session.execute(\"\"\"\n",
    "        SELECT user_id, location, COUNT(book_rating) AS rating_count\n",
    "        FROM users_by_rated_books\n",
    "        GROUP BY user_id;\n",
    "                \"\"\")"
   ]
  }
 ],
 "metadata": {
  "colab": {
   "provenance": []
  },
  "kernelspec": {
   "display_name": "Python 3 (ipykernel)",
   "language": "python",
   "name": "python3"
  },
  "language_info": {
   "codemirror_mode": {
    "name": "ipython",
    "version": 3
   },
   "file_extension": ".py",
   "mimetype": "text/x-python",
   "name": "python",
   "nbconvert_exporter": "python",
   "pygments_lexer": "ipython3",
   "version": "3.11.7"
  }
 },
 "nbformat": 4,
 "nbformat_minor": 4
}
